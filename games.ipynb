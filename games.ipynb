{
  "cells": [
    {
      "cell_type": "markdown",
      "metadata": {
        "id": "view-in-github",
        "colab_type": "text"
      },
      "source": [
        "<a href=\"https://colab.research.google.com/github/kvik18/project_games/blob/main/games.ipynb\" target=\"_parent\"><img src=\"https://colab.research.google.com/assets/colab-badge.svg\" alt=\"Open In Colab\"/></a>"
      ]
    },
    {
      "cell_type": "markdown",
      "metadata": {
        "id": "JCoeaJO6p5RJ"
      },
      "source": [
        "# Исследование рынка компьтерных игр\n",
        "\n",
        "Из открытых источников доступны исторические данные о продажах игр, оценки пользователей и экспертов, жанры и платформы (например, Xbox или PlayStation). Нужно выявить определяющие успешность игры закономерности. Это позволит сделать ставку на потенциально популярный продукт и в 2016 году спланировать рекламные кампании на 2017 год.\n",
        "\n",
        "## План работ\n",
        "1. Просмотр, оценка и предобработка имеющихся данных.\n",
        "2. Подсчет суммарных продаж.\n",
        "3. Изменение продаж по платформам во времени.\n",
        "4. Влияние отзывов и рейтинга на продажи.\n",
        "5. Портрет пользователя каждого региона.\n",
        "6. Проверка гипотез."
      ]
    },
    {
      "cell_type": "markdown",
      "source": [
        "## Подготовка данных"
      ],
      "metadata": {
        "id": "XISsIv499GNU"
      }
    },
    {
      "cell_type": "code",
      "execution_count": 4,
      "metadata": {
        "id": "YLOnmWodp5RP"
      },
      "outputs": [],
      "source": [
        "# Импорт библиотек\n",
        "import pandas as pd\n",
        "import numpy as np\n",
        "from scipy import stats as st\n",
        "import math\n",
        "import datetime as dt\n",
        "import matplotlib.pyplot as plt"
      ]
    },
    {
      "cell_type": "markdown",
      "metadata": {
        "id": "xetyE2G4p5RU"
      },
      "source": [
        "Прочитаю данный файл, просмотрю, получу общую информацию, проверю на пропуски и дубликаты."
      ]
    },
    {
      "cell_type": "code",
      "execution_count": 5,
      "metadata": {
        "colab": {
          "base_uri": "https://localhost:8080/",
          "height": 424
        },
        "id": "0H69jo8Vp5RX",
        "outputId": "e06be25d-c52b-41d2-f1ea-79ed8717d35c"
      },
      "outputs": [
        {
          "output_type": "execute_result",
          "data": {
            "text/plain": [
              "                                Name Platform  Year_of_Release         Genre  \\\n",
              "0                         Wii Sports      Wii           2006.0        Sports   \n",
              "1                  Super Mario Bros.      NES           1985.0      Platform   \n",
              "2                     Mario Kart Wii      Wii           2008.0        Racing   \n",
              "3                  Wii Sports Resort      Wii           2009.0        Sports   \n",
              "4           Pokemon Red/Pokemon Blue       GB           1996.0  Role-Playing   \n",
              "...                              ...      ...              ...           ...   \n",
              "16710  Samurai Warriors: Sanada Maru      PS3           2016.0        Action   \n",
              "16711               LMA Manager 2007     X360           2006.0        Sports   \n",
              "16712        Haitaka no Psychedelica      PSV           2016.0     Adventure   \n",
              "16713               Spirits & Spells      GBA           2003.0      Platform   \n",
              "16714            Winning Post 8 2016      PSV           2016.0    Simulation   \n",
              "\n",
              "       NA_sales  EU_sales  JP_sales  Other_sales  Critic_Score User_Score  \\\n",
              "0         41.36     28.96      3.77         8.45          76.0          8   \n",
              "1         29.08      3.58      6.81         0.77           NaN        NaN   \n",
              "2         15.68     12.76      3.79         3.29          82.0        8.3   \n",
              "3         15.61     10.93      3.28         2.95          80.0          8   \n",
              "4         11.27      8.89     10.22         1.00           NaN        NaN   \n",
              "...         ...       ...       ...          ...           ...        ...   \n",
              "16710      0.00      0.00      0.01         0.00           NaN        NaN   \n",
              "16711      0.00      0.01      0.00         0.00           NaN        NaN   \n",
              "16712      0.00      0.00      0.01         0.00           NaN        NaN   \n",
              "16713      0.01      0.00      0.00         0.00           NaN        NaN   \n",
              "16714      0.00      0.00      0.01         0.00           NaN        NaN   \n",
              "\n",
              "      Rating  \n",
              "0          E  \n",
              "1        NaN  \n",
              "2          E  \n",
              "3          E  \n",
              "4        NaN  \n",
              "...      ...  \n",
              "16710    NaN  \n",
              "16711    NaN  \n",
              "16712    NaN  \n",
              "16713    NaN  \n",
              "16714    NaN  \n",
              "\n",
              "[16715 rows x 11 columns]"
            ],
            "text/html": [
              "\n",
              "  <div id=\"df-b1029801-aa84-4953-baf8-dc9d7b3af8e5\">\n",
              "    <div class=\"colab-df-container\">\n",
              "      <div>\n",
              "<style scoped>\n",
              "    .dataframe tbody tr th:only-of-type {\n",
              "        vertical-align: middle;\n",
              "    }\n",
              "\n",
              "    .dataframe tbody tr th {\n",
              "        vertical-align: top;\n",
              "    }\n",
              "\n",
              "    .dataframe thead th {\n",
              "        text-align: right;\n",
              "    }\n",
              "</style>\n",
              "<table border=\"1\" class=\"dataframe\">\n",
              "  <thead>\n",
              "    <tr style=\"text-align: right;\">\n",
              "      <th></th>\n",
              "      <th>Name</th>\n",
              "      <th>Platform</th>\n",
              "      <th>Year_of_Release</th>\n",
              "      <th>Genre</th>\n",
              "      <th>NA_sales</th>\n",
              "      <th>EU_sales</th>\n",
              "      <th>JP_sales</th>\n",
              "      <th>Other_sales</th>\n",
              "      <th>Critic_Score</th>\n",
              "      <th>User_Score</th>\n",
              "      <th>Rating</th>\n",
              "    </tr>\n",
              "  </thead>\n",
              "  <tbody>\n",
              "    <tr>\n",
              "      <th>0</th>\n",
              "      <td>Wii Sports</td>\n",
              "      <td>Wii</td>\n",
              "      <td>2006.0</td>\n",
              "      <td>Sports</td>\n",
              "      <td>41.36</td>\n",
              "      <td>28.96</td>\n",
              "      <td>3.77</td>\n",
              "      <td>8.45</td>\n",
              "      <td>76.0</td>\n",
              "      <td>8</td>\n",
              "      <td>E</td>\n",
              "    </tr>\n",
              "    <tr>\n",
              "      <th>1</th>\n",
              "      <td>Super Mario Bros.</td>\n",
              "      <td>NES</td>\n",
              "      <td>1985.0</td>\n",
              "      <td>Platform</td>\n",
              "      <td>29.08</td>\n",
              "      <td>3.58</td>\n",
              "      <td>6.81</td>\n",
              "      <td>0.77</td>\n",
              "      <td>NaN</td>\n",
              "      <td>NaN</td>\n",
              "      <td>NaN</td>\n",
              "    </tr>\n",
              "    <tr>\n",
              "      <th>2</th>\n",
              "      <td>Mario Kart Wii</td>\n",
              "      <td>Wii</td>\n",
              "      <td>2008.0</td>\n",
              "      <td>Racing</td>\n",
              "      <td>15.68</td>\n",
              "      <td>12.76</td>\n",
              "      <td>3.79</td>\n",
              "      <td>3.29</td>\n",
              "      <td>82.0</td>\n",
              "      <td>8.3</td>\n",
              "      <td>E</td>\n",
              "    </tr>\n",
              "    <tr>\n",
              "      <th>3</th>\n",
              "      <td>Wii Sports Resort</td>\n",
              "      <td>Wii</td>\n",
              "      <td>2009.0</td>\n",
              "      <td>Sports</td>\n",
              "      <td>15.61</td>\n",
              "      <td>10.93</td>\n",
              "      <td>3.28</td>\n",
              "      <td>2.95</td>\n",
              "      <td>80.0</td>\n",
              "      <td>8</td>\n",
              "      <td>E</td>\n",
              "    </tr>\n",
              "    <tr>\n",
              "      <th>4</th>\n",
              "      <td>Pokemon Red/Pokemon Blue</td>\n",
              "      <td>GB</td>\n",
              "      <td>1996.0</td>\n",
              "      <td>Role-Playing</td>\n",
              "      <td>11.27</td>\n",
              "      <td>8.89</td>\n",
              "      <td>10.22</td>\n",
              "      <td>1.00</td>\n",
              "      <td>NaN</td>\n",
              "      <td>NaN</td>\n",
              "      <td>NaN</td>\n",
              "    </tr>\n",
              "    <tr>\n",
              "      <th>...</th>\n",
              "      <td>...</td>\n",
              "      <td>...</td>\n",
              "      <td>...</td>\n",
              "      <td>...</td>\n",
              "      <td>...</td>\n",
              "      <td>...</td>\n",
              "      <td>...</td>\n",
              "      <td>...</td>\n",
              "      <td>...</td>\n",
              "      <td>...</td>\n",
              "      <td>...</td>\n",
              "    </tr>\n",
              "    <tr>\n",
              "      <th>16710</th>\n",
              "      <td>Samurai Warriors: Sanada Maru</td>\n",
              "      <td>PS3</td>\n",
              "      <td>2016.0</td>\n",
              "      <td>Action</td>\n",
              "      <td>0.00</td>\n",
              "      <td>0.00</td>\n",
              "      <td>0.01</td>\n",
              "      <td>0.00</td>\n",
              "      <td>NaN</td>\n",
              "      <td>NaN</td>\n",
              "      <td>NaN</td>\n",
              "    </tr>\n",
              "    <tr>\n",
              "      <th>16711</th>\n",
              "      <td>LMA Manager 2007</td>\n",
              "      <td>X360</td>\n",
              "      <td>2006.0</td>\n",
              "      <td>Sports</td>\n",
              "      <td>0.00</td>\n",
              "      <td>0.01</td>\n",
              "      <td>0.00</td>\n",
              "      <td>0.00</td>\n",
              "      <td>NaN</td>\n",
              "      <td>NaN</td>\n",
              "      <td>NaN</td>\n",
              "    </tr>\n",
              "    <tr>\n",
              "      <th>16712</th>\n",
              "      <td>Haitaka no Psychedelica</td>\n",
              "      <td>PSV</td>\n",
              "      <td>2016.0</td>\n",
              "      <td>Adventure</td>\n",
              "      <td>0.00</td>\n",
              "      <td>0.00</td>\n",
              "      <td>0.01</td>\n",
              "      <td>0.00</td>\n",
              "      <td>NaN</td>\n",
              "      <td>NaN</td>\n",
              "      <td>NaN</td>\n",
              "    </tr>\n",
              "    <tr>\n",
              "      <th>16713</th>\n",
              "      <td>Spirits &amp; Spells</td>\n",
              "      <td>GBA</td>\n",
              "      <td>2003.0</td>\n",
              "      <td>Platform</td>\n",
              "      <td>0.01</td>\n",
              "      <td>0.00</td>\n",
              "      <td>0.00</td>\n",
              "      <td>0.00</td>\n",
              "      <td>NaN</td>\n",
              "      <td>NaN</td>\n",
              "      <td>NaN</td>\n",
              "    </tr>\n",
              "    <tr>\n",
              "      <th>16714</th>\n",
              "      <td>Winning Post 8 2016</td>\n",
              "      <td>PSV</td>\n",
              "      <td>2016.0</td>\n",
              "      <td>Simulation</td>\n",
              "      <td>0.00</td>\n",
              "      <td>0.00</td>\n",
              "      <td>0.01</td>\n",
              "      <td>0.00</td>\n",
              "      <td>NaN</td>\n",
              "      <td>NaN</td>\n",
              "      <td>NaN</td>\n",
              "    </tr>\n",
              "  </tbody>\n",
              "</table>\n",
              "<p>16715 rows × 11 columns</p>\n",
              "</div>\n",
              "      <button class=\"colab-df-convert\" onclick=\"convertToInteractive('df-b1029801-aa84-4953-baf8-dc9d7b3af8e5')\"\n",
              "              title=\"Convert this dataframe to an interactive table.\"\n",
              "              style=\"display:none;\">\n",
              "        \n",
              "  <svg xmlns=\"http://www.w3.org/2000/svg\" height=\"24px\"viewBox=\"0 0 24 24\"\n",
              "       width=\"24px\">\n",
              "    <path d=\"M0 0h24v24H0V0z\" fill=\"none\"/>\n",
              "    <path d=\"M18.56 5.44l.94 2.06.94-2.06 2.06-.94-2.06-.94-.94-2.06-.94 2.06-2.06.94zm-11 1L8.5 8.5l.94-2.06 2.06-.94-2.06-.94L8.5 2.5l-.94 2.06-2.06.94zm10 10l.94 2.06.94-2.06 2.06-.94-2.06-.94-.94-2.06-.94 2.06-2.06.94z\"/><path d=\"M17.41 7.96l-1.37-1.37c-.4-.4-.92-.59-1.43-.59-.52 0-1.04.2-1.43.59L10.3 9.45l-7.72 7.72c-.78.78-.78 2.05 0 2.83L4 21.41c.39.39.9.59 1.41.59.51 0 1.02-.2 1.41-.59l7.78-7.78 2.81-2.81c.8-.78.8-2.07 0-2.86zM5.41 20L4 18.59l7.72-7.72 1.47 1.35L5.41 20z\"/>\n",
              "  </svg>\n",
              "      </button>\n",
              "      \n",
              "  <style>\n",
              "    .colab-df-container {\n",
              "      display:flex;\n",
              "      flex-wrap:wrap;\n",
              "      gap: 12px;\n",
              "    }\n",
              "\n",
              "    .colab-df-convert {\n",
              "      background-color: #E8F0FE;\n",
              "      border: none;\n",
              "      border-radius: 50%;\n",
              "      cursor: pointer;\n",
              "      display: none;\n",
              "      fill: #1967D2;\n",
              "      height: 32px;\n",
              "      padding: 0 0 0 0;\n",
              "      width: 32px;\n",
              "    }\n",
              "\n",
              "    .colab-df-convert:hover {\n",
              "      background-color: #E2EBFA;\n",
              "      box-shadow: 0px 1px 2px rgba(60, 64, 67, 0.3), 0px 1px 3px 1px rgba(60, 64, 67, 0.15);\n",
              "      fill: #174EA6;\n",
              "    }\n",
              "\n",
              "    [theme=dark] .colab-df-convert {\n",
              "      background-color: #3B4455;\n",
              "      fill: #D2E3FC;\n",
              "    }\n",
              "\n",
              "    [theme=dark] .colab-df-convert:hover {\n",
              "      background-color: #434B5C;\n",
              "      box-shadow: 0px 1px 3px 1px rgba(0, 0, 0, 0.15);\n",
              "      filter: drop-shadow(0px 1px 2px rgba(0, 0, 0, 0.3));\n",
              "      fill: #FFFFFF;\n",
              "    }\n",
              "  </style>\n",
              "\n",
              "      <script>\n",
              "        const buttonEl =\n",
              "          document.querySelector('#df-b1029801-aa84-4953-baf8-dc9d7b3af8e5 button.colab-df-convert');\n",
              "        buttonEl.style.display =\n",
              "          google.colab.kernel.accessAllowed ? 'block' : 'none';\n",
              "\n",
              "        async function convertToInteractive(key) {\n",
              "          const element = document.querySelector('#df-b1029801-aa84-4953-baf8-dc9d7b3af8e5');\n",
              "          const dataTable =\n",
              "            await google.colab.kernel.invokeFunction('convertToInteractive',\n",
              "                                                     [key], {});\n",
              "          if (!dataTable) return;\n",
              "\n",
              "          const docLinkHtml = 'Like what you see? Visit the ' +\n",
              "            '<a target=\"_blank\" href=https://colab.research.google.com/notebooks/data_table.ipynb>data table notebook</a>'\n",
              "            + ' to learn more about interactive tables.';\n",
              "          element.innerHTML = '';\n",
              "          dataTable['output_type'] = 'display_data';\n",
              "          await google.colab.output.renderOutput(dataTable, element);\n",
              "          const docLink = document.createElement('div');\n",
              "          docLink.innerHTML = docLinkHtml;\n",
              "          element.appendChild(docLink);\n",
              "        }\n",
              "      </script>\n",
              "    </div>\n",
              "  </div>\n",
              "  "
            ]
          },
          "metadata": {},
          "execution_count": 5
        }
      ],
      "source": [
        "# чтение и просмотр файла с данными\n",
        "#df_games = pd.read_csv('games.csv')\n",
        "#df_games = pd.read_csv('/datasets/games.csv')\n",
        "df_games = pd.read_csv('games.csv')\n",
        "df_games"
      ]
    },
    {
      "cell_type": "code",
      "execution_count": 6,
      "metadata": {
        "colab": {
          "base_uri": "https://localhost:8080/"
        },
        "id": "Age7SZ6up5RZ",
        "outputId": "6ef72484-9d57-4b4b-c039-d6f57bf400f5"
      },
      "outputs": [
        {
          "output_type": "stream",
          "name": "stdout",
          "text": [
            "<class 'pandas.core.frame.DataFrame'>\n",
            "RangeIndex: 16715 entries, 0 to 16714\n",
            "Data columns (total 11 columns):\n",
            " #   Column           Non-Null Count  Dtype  \n",
            "---  ------           --------------  -----  \n",
            " 0   Name             16713 non-null  object \n",
            " 1   Platform         16715 non-null  object \n",
            " 2   Year_of_Release  16446 non-null  float64\n",
            " 3   Genre            16713 non-null  object \n",
            " 4   NA_sales         16715 non-null  float64\n",
            " 5   EU_sales         16715 non-null  float64\n",
            " 6   JP_sales         16715 non-null  float64\n",
            " 7   Other_sales      16715 non-null  float64\n",
            " 8   Critic_Score     8137 non-null   float64\n",
            " 9   User_Score       10014 non-null  object \n",
            " 10  Rating           9949 non-null   object \n",
            "dtypes: float64(6), object(5)\n",
            "memory usage: 1.4+ MB\n"
          ]
        }
      ],
      "source": [
        "# получение общей информацию о данных в таблице\n",
        "df_games.info()"
      ]
    },
    {
      "cell_type": "markdown",
      "metadata": {
        "id": "jr4T_IVQp5Rb"
      },
      "source": [
        "### Описание данных\n",
        "\n",
        "* Name — название игры\n",
        "* Platform — платформа\n",
        "* Year_of_Release — год выпуска\n",
        "* Genre — жанр игры\n",
        "* NA_sales — продажи в Северной Америке (миллионы проданных копий)\n",
        "* EU_sales — продажи в Европе (миллионы проданных копий)\n",
        "* JP_sales — продажи в Японии (миллионы проданных копий)\n",
        "* Other_sales — продажи в других странах (миллионы проданных копий)\n",
        "* Critic_Score — оценка критиков (максимум 100)\n",
        "* User_Score — оценка пользователей (максимум 10)\n",
        "* Rating — рейтинг от организации ESRB (англ. Entertainment Software Rating Board). Эта ассоциация определяет рейтинг компьютерных игр и присваивает им подходящую возрастную категорию. Данные за 2016 год могут быть неполными.\n",
        "## Предобработка данных\n",
        "### Стиль заголовков\n",
        "Исправлю стиль в названиях  столбцов: приведу названия столбцов к нижнему регистру."
      ]
    },
    {
      "cell_type": "code",
      "execution_count": 52,
      "metadata": {
        "colab": {
          "base_uri": "https://localhost:8080/",
          "height": 250
        },
        "id": "mbg3Zn5fp5Rc",
        "outputId": "60ca2180-12df-4e68-cdbe-178619bf5359"
      },
      "outputs": [
        {
          "output_type": "execute_result",
          "data": {
            "text/plain": [
              "                                         name platform  year_of_release  \\\n",
              "11448    Pro Evolution Soccer 2008 (JP sales)       DS           2007.0   \n",
              "8481              F1 Championship Season 2000      PS2           2000.0   \n",
              "7641   The Cheetah Girls: Passport to Stardom       DS           2008.0   \n",
              "12655                 Dig Dug: Digging Strike       DS           2005.0   \n",
              "13774                         Chicken Blaster       DS           2009.0   \n",
              "\n",
              "         genre  na_sales  eu_sales  jp_sales  other_sales  critic_score  \\\n",
              "11448   Sports      0.00      0.00      0.08         0.00           NaN   \n",
              "8481    Racing      0.06      0.05      0.03         0.02          71.0   \n",
              "7641      Misc      0.18      0.00      0.00         0.01           NaN   \n",
              "12655   Puzzle      0.05      0.00      0.00         0.00          65.0   \n",
              "13774  Shooter      0.04      0.00      0.00         0.00           NaN   \n",
              "\n",
              "       user_score rating  total_sales  \n",
              "11448         NaN    NaN         0.08  \n",
              "8481          NaN      E         0.16  \n",
              "7641          NaN      E         0.19  \n",
              "12655         NaN      E         0.05  \n",
              "13774         NaN   E10+         0.04  "
            ],
            "text/html": [
              "\n",
              "  <div id=\"df-21ed4343-92d6-42de-8d01-58850753985d\">\n",
              "    <div class=\"colab-df-container\">\n",
              "      <div>\n",
              "<style scoped>\n",
              "    .dataframe tbody tr th:only-of-type {\n",
              "        vertical-align: middle;\n",
              "    }\n",
              "\n",
              "    .dataframe tbody tr th {\n",
              "        vertical-align: top;\n",
              "    }\n",
              "\n",
              "    .dataframe thead th {\n",
              "        text-align: right;\n",
              "    }\n",
              "</style>\n",
              "<table border=\"1\" class=\"dataframe\">\n",
              "  <thead>\n",
              "    <tr style=\"text-align: right;\">\n",
              "      <th></th>\n",
              "      <th>name</th>\n",
              "      <th>platform</th>\n",
              "      <th>year_of_release</th>\n",
              "      <th>genre</th>\n",
              "      <th>na_sales</th>\n",
              "      <th>eu_sales</th>\n",
              "      <th>jp_sales</th>\n",
              "      <th>other_sales</th>\n",
              "      <th>critic_score</th>\n",
              "      <th>user_score</th>\n",
              "      <th>rating</th>\n",
              "      <th>total_sales</th>\n",
              "    </tr>\n",
              "  </thead>\n",
              "  <tbody>\n",
              "    <tr>\n",
              "      <th>11448</th>\n",
              "      <td>Pro Evolution Soccer 2008 (JP sales)</td>\n",
              "      <td>DS</td>\n",
              "      <td>2007.0</td>\n",
              "      <td>Sports</td>\n",
              "      <td>0.00</td>\n",
              "      <td>0.00</td>\n",
              "      <td>0.08</td>\n",
              "      <td>0.00</td>\n",
              "      <td>NaN</td>\n",
              "      <td>NaN</td>\n",
              "      <td>NaN</td>\n",
              "      <td>0.08</td>\n",
              "    </tr>\n",
              "    <tr>\n",
              "      <th>8481</th>\n",
              "      <td>F1 Championship Season 2000</td>\n",
              "      <td>PS2</td>\n",
              "      <td>2000.0</td>\n",
              "      <td>Racing</td>\n",
              "      <td>0.06</td>\n",
              "      <td>0.05</td>\n",
              "      <td>0.03</td>\n",
              "      <td>0.02</td>\n",
              "      <td>71.0</td>\n",
              "      <td>NaN</td>\n",
              "      <td>E</td>\n",
              "      <td>0.16</td>\n",
              "    </tr>\n",
              "    <tr>\n",
              "      <th>7641</th>\n",
              "      <td>The Cheetah Girls: Passport to Stardom</td>\n",
              "      <td>DS</td>\n",
              "      <td>2008.0</td>\n",
              "      <td>Misc</td>\n",
              "      <td>0.18</td>\n",
              "      <td>0.00</td>\n",
              "      <td>0.00</td>\n",
              "      <td>0.01</td>\n",
              "      <td>NaN</td>\n",
              "      <td>NaN</td>\n",
              "      <td>E</td>\n",
              "      <td>0.19</td>\n",
              "    </tr>\n",
              "    <tr>\n",
              "      <th>12655</th>\n",
              "      <td>Dig Dug: Digging Strike</td>\n",
              "      <td>DS</td>\n",
              "      <td>2005.0</td>\n",
              "      <td>Puzzle</td>\n",
              "      <td>0.05</td>\n",
              "      <td>0.00</td>\n",
              "      <td>0.00</td>\n",
              "      <td>0.00</td>\n",
              "      <td>65.0</td>\n",
              "      <td>NaN</td>\n",
              "      <td>E</td>\n",
              "      <td>0.05</td>\n",
              "    </tr>\n",
              "    <tr>\n",
              "      <th>13774</th>\n",
              "      <td>Chicken Blaster</td>\n",
              "      <td>DS</td>\n",
              "      <td>2009.0</td>\n",
              "      <td>Shooter</td>\n",
              "      <td>0.04</td>\n",
              "      <td>0.00</td>\n",
              "      <td>0.00</td>\n",
              "      <td>0.00</td>\n",
              "      <td>NaN</td>\n",
              "      <td>NaN</td>\n",
              "      <td>E10+</td>\n",
              "      <td>0.04</td>\n",
              "    </tr>\n",
              "  </tbody>\n",
              "</table>\n",
              "</div>\n",
              "      <button class=\"colab-df-convert\" onclick=\"convertToInteractive('df-21ed4343-92d6-42de-8d01-58850753985d')\"\n",
              "              title=\"Convert this dataframe to an interactive table.\"\n",
              "              style=\"display:none;\">\n",
              "        \n",
              "  <svg xmlns=\"http://www.w3.org/2000/svg\" height=\"24px\"viewBox=\"0 0 24 24\"\n",
              "       width=\"24px\">\n",
              "    <path d=\"M0 0h24v24H0V0z\" fill=\"none\"/>\n",
              "    <path d=\"M18.56 5.44l.94 2.06.94-2.06 2.06-.94-2.06-.94-.94-2.06-.94 2.06-2.06.94zm-11 1L8.5 8.5l.94-2.06 2.06-.94-2.06-.94L8.5 2.5l-.94 2.06-2.06.94zm10 10l.94 2.06.94-2.06 2.06-.94-2.06-.94-.94-2.06-.94 2.06-2.06.94z\"/><path d=\"M17.41 7.96l-1.37-1.37c-.4-.4-.92-.59-1.43-.59-.52 0-1.04.2-1.43.59L10.3 9.45l-7.72 7.72c-.78.78-.78 2.05 0 2.83L4 21.41c.39.39.9.59 1.41.59.51 0 1.02-.2 1.41-.59l7.78-7.78 2.81-2.81c.8-.78.8-2.07 0-2.86zM5.41 20L4 18.59l7.72-7.72 1.47 1.35L5.41 20z\"/>\n",
              "  </svg>\n",
              "      </button>\n",
              "      \n",
              "  <style>\n",
              "    .colab-df-container {\n",
              "      display:flex;\n",
              "      flex-wrap:wrap;\n",
              "      gap: 12px;\n",
              "    }\n",
              "\n",
              "    .colab-df-convert {\n",
              "      background-color: #E8F0FE;\n",
              "      border: none;\n",
              "      border-radius: 50%;\n",
              "      cursor: pointer;\n",
              "      display: none;\n",
              "      fill: #1967D2;\n",
              "      height: 32px;\n",
              "      padding: 0 0 0 0;\n",
              "      width: 32px;\n",
              "    }\n",
              "\n",
              "    .colab-df-convert:hover {\n",
              "      background-color: #E2EBFA;\n",
              "      box-shadow: 0px 1px 2px rgba(60, 64, 67, 0.3), 0px 1px 3px 1px rgba(60, 64, 67, 0.15);\n",
              "      fill: #174EA6;\n",
              "    }\n",
              "\n",
              "    [theme=dark] .colab-df-convert {\n",
              "      background-color: #3B4455;\n",
              "      fill: #D2E3FC;\n",
              "    }\n",
              "\n",
              "    [theme=dark] .colab-df-convert:hover {\n",
              "      background-color: #434B5C;\n",
              "      box-shadow: 0px 1px 3px 1px rgba(0, 0, 0, 0.15);\n",
              "      filter: drop-shadow(0px 1px 2px rgba(0, 0, 0, 0.3));\n",
              "      fill: #FFFFFF;\n",
              "    }\n",
              "  </style>\n",
              "\n",
              "      <script>\n",
              "        const buttonEl =\n",
              "          document.querySelector('#df-21ed4343-92d6-42de-8d01-58850753985d button.colab-df-convert');\n",
              "        buttonEl.style.display =\n",
              "          google.colab.kernel.accessAllowed ? 'block' : 'none';\n",
              "\n",
              "        async function convertToInteractive(key) {\n",
              "          const element = document.querySelector('#df-21ed4343-92d6-42de-8d01-58850753985d');\n",
              "          const dataTable =\n",
              "            await google.colab.kernel.invokeFunction('convertToInteractive',\n",
              "                                                     [key], {});\n",
              "          if (!dataTable) return;\n",
              "\n",
              "          const docLinkHtml = 'Like what you see? Visit the ' +\n",
              "            '<a target=\"_blank\" href=https://colab.research.google.com/notebooks/data_table.ipynb>data table notebook</a>'\n",
              "            + ' to learn more about interactive tables.';\n",
              "          element.innerHTML = '';\n",
              "          dataTable['output_type'] = 'display_data';\n",
              "          await google.colab.output.renderOutput(dataTable, element);\n",
              "          const docLink = document.createElement('div');\n",
              "          docLink.innerHTML = docLinkHtml;\n",
              "          element.appendChild(docLink);\n",
              "        }\n",
              "      </script>\n",
              "    </div>\n",
              "  </div>\n",
              "  "
            ]
          },
          "metadata": {},
          "execution_count": 52
        }
      ],
      "source": [
        "# приведу названия всех столбцов к нижнему регистру\n",
        "df_games.columns = df_games.columns.str.lower()\n",
        "df_games.sample(5)"
      ]
    },
    {
      "cell_type": "markdown",
      "metadata": {
        "id": "uyVvNl6Ep5Rd"
      },
      "source": [
        "Теперь в названиях всех столбцов таблицы используются английские слова, строчные буквы, змеиный регистр. Нарушение стиля устранено.\n",
        "### Преобразование типа данных\n",
        "Столбец year_of_release содержит данные типа float. Год выпуска - число целое. Но в столбце есть пропуски, поэтому пока не могу изменить тип данных на целочисленный.\n",
        "\n",
        "Столбец user_score содержит оценку пользователей. Из описания следует, что она содержит численные значения, но сейчас ее тип object. Просмотрю унакальные значения столбца."
      ]
    },
    {
      "cell_type": "code",
      "execution_count": 8,
      "metadata": {
        "colab": {
          "base_uri": "https://localhost:8080/"
        },
        "id": "Jm7M2aXqp5Re",
        "outputId": "9b5daa89-dd7e-443e-d6d4-56ed8817ede9"
      },
      "outputs": [
        {
          "output_type": "execute_result",
          "data": {
            "text/plain": [
              "array(['8', nan, '8.3', '8.5', '6.6', '8.4', '8.6', '7.7', '6.3', '7.4',\n",
              "       '8.2', '9', '7.9', '8.1', '8.7', '7.1', '3.4', '5.3', '4.8', '3.2',\n",
              "       '8.9', '6.4', '7.8', '7.5', '2.6', '7.2', '9.2', '7', '7.3', '4.3',\n",
              "       '7.6', '5.7', '5', '9.1', '6.5', 'tbd', '8.8', '6.9', '9.4', '6.8',\n",
              "       '6.1', '6.7', '5.4', '4', '4.9', '4.5', '9.3', '6.2', '4.2', '6',\n",
              "       '3.7', '4.1', '5.8', '5.6', '5.5', '4.4', '4.6', '5.9', '3.9',\n",
              "       '3.1', '2.9', '5.2', '3.3', '4.7', '5.1', '3.5', '2.5', '1.9', '3',\n",
              "       '2.7', '2.2', '2', '9.5', '2.1', '3.6', '2.8', '1.8', '3.8', '0',\n",
              "       '1.6', '9.6', '2.4', '1.7', '1.1', '0.3', '1.5', '0.7', '1.2',\n",
              "       '2.3', '0.5', '1.3', '0.2', '0.6', '1.4', '0.9', '1', '9.7'],\n",
              "      dtype=object)"
            ]
          },
          "metadata": {},
          "execution_count": 8
        }
      ],
      "source": [
        "df_games['user_score'].unique()"
      ]
    },
    {
      "cell_type": "markdown",
      "metadata": {
        "id": "SiW0_xi9p5Rf"
      },
      "source": [
        "Столбец user_score содержит численные значения, пропуски NaN и значения с аббревиатурой 'tbd'. Наличие этого значения повлияло на тип столбца. \n",
        "\n",
        "TBD - аббревиатура от английского To Be Determined (будет определено) или To Be Decided (будет решено). Используется, если какая-то информация еще не определена или решение по вопросу не принято.\n",
        "\n",
        "Как поясняет ресурс www.metacritic.com: \"Чтобы гарантировать, что оценка точно отражает отзывы пользователей о конкретной игре, сервис не отображает оценку для тех игр, которые не имеют по крайней мере 4 отзывов в их базе данных, а показывает tbd. Как только будет достигнуто это минимальное количество отзывов, отобразится оценка\". \n",
        "\n",
        "То есть 'tbd' означает то же, что и NaN. Переведу значения столбца user_score из строк в числа, значения 'tbd' заменятся на NaN при обработке ошибок. "
      ]
    },
    {
      "cell_type": "code",
      "execution_count": 9,
      "metadata": {
        "colab": {
          "base_uri": "https://localhost:8080/"
        },
        "id": "gQfqHRYap5Rg",
        "outputId": "a14e0072-24f6-46df-a310-9131052ac4ec"
      },
      "outputs": [
        {
          "output_type": "execute_result",
          "data": {
            "text/plain": [
              "dtype('float64')"
            ]
          },
          "metadata": {},
          "execution_count": 9
        }
      ],
      "source": [
        "# Переведу значения столбца user_score из строк в числа \n",
        "df_games['user_score'] = pd.to_numeric(df_games['user_score'], errors='coerce')\n",
        "df_games['user_score'].dtype"
      ]
    },
    {
      "cell_type": "markdown",
      "metadata": {
        "id": "7gyKkEAvp5Rh"
      },
      "source": [
        "\n",
        "Теперь тип столбца user_score численный. Типы других стобцов соответствуют данным.\n",
        "### Пропуски данных\n",
        "В данных есть пропущенные значения.\n"
      ]
    },
    {
      "cell_type": "code",
      "execution_count": 10,
      "metadata": {
        "colab": {
          "base_uri": "https://localhost:8080/",
          "height": 394
        },
        "id": "C3eVizWap5Ri",
        "outputId": "64cd20a2-3c4c-4c46-cbc2-8dd2279b804e"
      },
      "outputs": [
        {
          "output_type": "execute_result",
          "data": {
            "text/plain": [
              "                 total  percent\n",
              "user_score        9125    54.59\n",
              "critic_score      8578    51.32\n",
              "rating            6766    40.48\n",
              "year_of_release    269     1.61\n",
              "name                 2     0.01\n",
              "genre                2     0.01\n",
              "platform             0     0.00\n",
              "na_sales             0     0.00\n",
              "eu_sales             0     0.00\n",
              "jp_sales             0     0.00\n",
              "other_sales          0     0.00"
            ],
            "text/html": [
              "\n",
              "  <div id=\"df-a36dca13-9f6d-4f13-9dc9-bf776ad1a8c6\">\n",
              "    <div class=\"colab-df-container\">\n",
              "      <div>\n",
              "<style scoped>\n",
              "    .dataframe tbody tr th:only-of-type {\n",
              "        vertical-align: middle;\n",
              "    }\n",
              "\n",
              "    .dataframe tbody tr th {\n",
              "        vertical-align: top;\n",
              "    }\n",
              "\n",
              "    .dataframe thead th {\n",
              "        text-align: right;\n",
              "    }\n",
              "</style>\n",
              "<table border=\"1\" class=\"dataframe\">\n",
              "  <thead>\n",
              "    <tr style=\"text-align: right;\">\n",
              "      <th></th>\n",
              "      <th>total</th>\n",
              "      <th>percent</th>\n",
              "    </tr>\n",
              "  </thead>\n",
              "  <tbody>\n",
              "    <tr>\n",
              "      <th>user_score</th>\n",
              "      <td>9125</td>\n",
              "      <td>54.59</td>\n",
              "    </tr>\n",
              "    <tr>\n",
              "      <th>critic_score</th>\n",
              "      <td>8578</td>\n",
              "      <td>51.32</td>\n",
              "    </tr>\n",
              "    <tr>\n",
              "      <th>rating</th>\n",
              "      <td>6766</td>\n",
              "      <td>40.48</td>\n",
              "    </tr>\n",
              "    <tr>\n",
              "      <th>year_of_release</th>\n",
              "      <td>269</td>\n",
              "      <td>1.61</td>\n",
              "    </tr>\n",
              "    <tr>\n",
              "      <th>name</th>\n",
              "      <td>2</td>\n",
              "      <td>0.01</td>\n",
              "    </tr>\n",
              "    <tr>\n",
              "      <th>genre</th>\n",
              "      <td>2</td>\n",
              "      <td>0.01</td>\n",
              "    </tr>\n",
              "    <tr>\n",
              "      <th>platform</th>\n",
              "      <td>0</td>\n",
              "      <td>0.00</td>\n",
              "    </tr>\n",
              "    <tr>\n",
              "      <th>na_sales</th>\n",
              "      <td>0</td>\n",
              "      <td>0.00</td>\n",
              "    </tr>\n",
              "    <tr>\n",
              "      <th>eu_sales</th>\n",
              "      <td>0</td>\n",
              "      <td>0.00</td>\n",
              "    </tr>\n",
              "    <tr>\n",
              "      <th>jp_sales</th>\n",
              "      <td>0</td>\n",
              "      <td>0.00</td>\n",
              "    </tr>\n",
              "    <tr>\n",
              "      <th>other_sales</th>\n",
              "      <td>0</td>\n",
              "      <td>0.00</td>\n",
              "    </tr>\n",
              "  </tbody>\n",
              "</table>\n",
              "</div>\n",
              "      <button class=\"colab-df-convert\" onclick=\"convertToInteractive('df-a36dca13-9f6d-4f13-9dc9-bf776ad1a8c6')\"\n",
              "              title=\"Convert this dataframe to an interactive table.\"\n",
              "              style=\"display:none;\">\n",
              "        \n",
              "  <svg xmlns=\"http://www.w3.org/2000/svg\" height=\"24px\"viewBox=\"0 0 24 24\"\n",
              "       width=\"24px\">\n",
              "    <path d=\"M0 0h24v24H0V0z\" fill=\"none\"/>\n",
              "    <path d=\"M18.56 5.44l.94 2.06.94-2.06 2.06-.94-2.06-.94-.94-2.06-.94 2.06-2.06.94zm-11 1L8.5 8.5l.94-2.06 2.06-.94-2.06-.94L8.5 2.5l-.94 2.06-2.06.94zm10 10l.94 2.06.94-2.06 2.06-.94-2.06-.94-.94-2.06-.94 2.06-2.06.94z\"/><path d=\"M17.41 7.96l-1.37-1.37c-.4-.4-.92-.59-1.43-.59-.52 0-1.04.2-1.43.59L10.3 9.45l-7.72 7.72c-.78.78-.78 2.05 0 2.83L4 21.41c.39.39.9.59 1.41.59.51 0 1.02-.2 1.41-.59l7.78-7.78 2.81-2.81c.8-.78.8-2.07 0-2.86zM5.41 20L4 18.59l7.72-7.72 1.47 1.35L5.41 20z\"/>\n",
              "  </svg>\n",
              "      </button>\n",
              "      \n",
              "  <style>\n",
              "    .colab-df-container {\n",
              "      display:flex;\n",
              "      flex-wrap:wrap;\n",
              "      gap: 12px;\n",
              "    }\n",
              "\n",
              "    .colab-df-convert {\n",
              "      background-color: #E8F0FE;\n",
              "      border: none;\n",
              "      border-radius: 50%;\n",
              "      cursor: pointer;\n",
              "      display: none;\n",
              "      fill: #1967D2;\n",
              "      height: 32px;\n",
              "      padding: 0 0 0 0;\n",
              "      width: 32px;\n",
              "    }\n",
              "\n",
              "    .colab-df-convert:hover {\n",
              "      background-color: #E2EBFA;\n",
              "      box-shadow: 0px 1px 2px rgba(60, 64, 67, 0.3), 0px 1px 3px 1px rgba(60, 64, 67, 0.15);\n",
              "      fill: #174EA6;\n",
              "    }\n",
              "\n",
              "    [theme=dark] .colab-df-convert {\n",
              "      background-color: #3B4455;\n",
              "      fill: #D2E3FC;\n",
              "    }\n",
              "\n",
              "    [theme=dark] .colab-df-convert:hover {\n",
              "      background-color: #434B5C;\n",
              "      box-shadow: 0px 1px 3px 1px rgba(0, 0, 0, 0.15);\n",
              "      filter: drop-shadow(0px 1px 2px rgba(0, 0, 0, 0.3));\n",
              "      fill: #FFFFFF;\n",
              "    }\n",
              "  </style>\n",
              "\n",
              "      <script>\n",
              "        const buttonEl =\n",
              "          document.querySelector('#df-a36dca13-9f6d-4f13-9dc9-bf776ad1a8c6 button.colab-df-convert');\n",
              "        buttonEl.style.display =\n",
              "          google.colab.kernel.accessAllowed ? 'block' : 'none';\n",
              "\n",
              "        async function convertToInteractive(key) {\n",
              "          const element = document.querySelector('#df-a36dca13-9f6d-4f13-9dc9-bf776ad1a8c6');\n",
              "          const dataTable =\n",
              "            await google.colab.kernel.invokeFunction('convertToInteractive',\n",
              "                                                     [key], {});\n",
              "          if (!dataTable) return;\n",
              "\n",
              "          const docLinkHtml = 'Like what you see? Visit the ' +\n",
              "            '<a target=\"_blank\" href=https://colab.research.google.com/notebooks/data_table.ipynb>data table notebook</a>'\n",
              "            + ' to learn more about interactive tables.';\n",
              "          element.innerHTML = '';\n",
              "          dataTable['output_type'] = 'display_data';\n",
              "          await google.colab.output.renderOutput(dataTable, element);\n",
              "          const docLink = document.createElement('div');\n",
              "          docLink.innerHTML = docLinkHtml;\n",
              "          element.appendChild(docLink);\n",
              "        }\n",
              "      </script>\n",
              "    </div>\n",
              "  </div>\n",
              "  "
            ]
          },
          "metadata": {},
          "execution_count": 10
        }
      ],
      "source": [
        "# подсчет абсолютного и относительного количества пропусков\n",
        "total = df_games.isna().sum().sort_values(ascending=False)\n",
        "zpercent = ((df_games.isna().sum()/df_games.isna().count()).sort_values(ascending=False)*100).round(2)\n",
        "missing_data = pd.concat([total, percent], axis=1, keys=['total', 'percent'])\n",
        "missing_data.head(20)"
      ]
    },
    {
      "cell_type": "code",
      "execution_count": 11,
      "metadata": {
        "colab": {
          "base_uri": "https://localhost:8080/",
          "height": 421
        },
        "id": "lamKAfFfp5Rj",
        "outputId": "3fec3439-9bc0-4b34-a686-0756df3fedcf"
      },
      "outputs": [
        {
          "output_type": "execute_result",
          "data": {
            "text/plain": [
              "<function matplotlib.pyplot.show(*args, **kw)>"
            ]
          },
          "metadata": {},
          "execution_count": 11
        },
        {
          "output_type": "display_data",
          "data": {
            "text/plain": [
              "<Figure size 864x432 with 1 Axes>"
            ],
            "image/png": "[encoded data removed]"
          },
          "metadata": {
            "needs_background": "light"
          }
        }
      ],
      "source": [
        "# столбчатая диаграмма пропусков в данных\n",
        "f, ax = plt.subplots(1, 1, figsize=(12, 6))\n",
        "ax.barh(missing_data.index, missing_data['percent'])\n",
        "plt.title('Пропуски в данных')\n",
        "plt.xlabel('Пропуски в процентах')\n",
        "plt.ylabel('Названия параметров')\n",
        "plt.show"
      ]
    },
    {
      "cell_type": "markdown",
      "metadata": {
        "id": "2PAJ5ijop5Rl"
      },
      "source": [
        "Половина данных пропущена в столбцах critic_score, rating и user_score. Причем, в большинстве случаев, пропущены данные сразу во всех этих колонках. На первый взгляд, этих данных нет для старых игр. Возможно, до какого-то времени такие рейтинги не существовали, не существовало такой организации как ESRB, или данные не собирались централизованно. Проверю."
      ]
    },
    {
      "cell_type": "code",
      "execution_count": 53,
      "metadata": {
        "colab": {
          "base_uri": "https://localhost:8080/",
          "height": 267
        },
        "id": "lA0Cms0Op5Rm",
        "outputId": "b57f4e4c-d8a1-472f-fa87-9883874b0ad4"
      },
      "outputs": [
        {
          "output_type": "execute_result",
          "data": {
            "text/plain": [
              "                                                    name platform  \\\n",
              "16281                        Sakura-Sou no Pet na Kanojo      PSP   \n",
              "6351                       Jikkyou Powerful Pro Yakyuu 2     SNES   \n",
              "15938                  Kadenz fermata//Akkord:fortissimo      PSV   \n",
              "13152                                  Fighter Destiny 2      N64   \n",
              "8627   Watchmen: The End is Nigh - The Complete Exper...      PS3   \n",
              "\n",
              "       year_of_release      genre  na_sales  eu_sales  jp_sales  other_sales  \\\n",
              "16281           2013.0  Adventure      0.00      0.00      0.01         0.00   \n",
              "6351            1995.0     Sports      0.00      0.00      0.27         0.00   \n",
              "15938           2014.0  Adventure      0.00      0.00      0.02         0.00   \n",
              "13152           1999.0   Fighting      0.04      0.01      0.00         0.00   \n",
              "8627            2009.0     Action      0.08      0.06      0.00         0.02   \n",
              "\n",
              "       critic_score  user_score rating  total_sales  \n",
              "16281           NaN         NaN    NaN         0.01  \n",
              "6351            NaN         NaN    NaN         0.27  \n",
              "15938           NaN         NaN    NaN         0.02  \n",
              "13152           NaN         NaN    NaN         0.05  \n",
              "8627            NaN         NaN    NaN         0.16  "
            ],
            "text/html": [
              "\n",
              "  <div id=\"df-a4914d85-9e40-463f-a2bc-bf1d127c5b2b\">\n",
              "    <div class=\"colab-df-container\">\n",
              "      <div>\n",
              "<style scoped>\n",
              "    .dataframe tbody tr th:only-of-type {\n",
              "        vertical-align: middle;\n",
              "    }\n",
              "\n",
              "    .dataframe tbody tr th {\n",
              "        vertical-align: top;\n",
              "    }\n",
              "\n",
              "    .dataframe thead th {\n",
              "        text-align: right;\n",
              "    }\n",
              "</style>\n",
              "<table border=\"1\" class=\"dataframe\">\n",
              "  <thead>\n",
              "    <tr style=\"text-align: right;\">\n",
              "      <th></th>\n",
              "      <th>name</th>\n",
              "      <th>platform</th>\n",
              "      <th>year_of_release</th>\n",
              "      <th>genre</th>\n",
              "      <th>na_sales</th>\n",
              "      <th>eu_sales</th>\n",
              "      <th>jp_sales</th>\n",
              "      <th>other_sales</th>\n",
              "      <th>critic_score</th>\n",
              "      <th>user_score</th>\n",
              "      <th>rating</th>\n",
              "      <th>total_sales</th>\n",
              "    </tr>\n",
              "  </thead>\n",
              "  <tbody>\n",
              "    <tr>\n",
              "      <th>16281</th>\n",
              "      <td>Sakura-Sou no Pet na Kanojo</td>\n",
              "      <td>PSP</td>\n",
              "      <td>2013.0</td>\n",
              "      <td>Adventure</td>\n",
              "      <td>0.00</td>\n",
              "      <td>0.00</td>\n",
              "      <td>0.01</td>\n",
              "      <td>0.00</td>\n",
              "      <td>NaN</td>\n",
              "      <td>NaN</td>\n",
              "      <td>NaN</td>\n",
              "      <td>0.01</td>\n",
              "    </tr>\n",
              "    <tr>\n",
              "      <th>6351</th>\n",
              "      <td>Jikkyou Powerful Pro Yakyuu 2</td>\n",
              "      <td>SNES</td>\n",
              "      <td>1995.0</td>\n",
              "      <td>Sports</td>\n",
              "      <td>0.00</td>\n",
              "      <td>0.00</td>\n",
              "      <td>0.27</td>\n",
              "      <td>0.00</td>\n",
              "      <td>NaN</td>\n",
              "      <td>NaN</td>\n",
              "      <td>NaN</td>\n",
              "      <td>0.27</td>\n",
              "    </tr>\n",
              "    <tr>\n",
              "      <th>15938</th>\n",
              "      <td>Kadenz fermata//Akkord:fortissimo</td>\n",
              "      <td>PSV</td>\n",
              "      <td>2014.0</td>\n",
              "      <td>Adventure</td>\n",
              "      <td>0.00</td>\n",
              "      <td>0.00</td>\n",
              "      <td>0.02</td>\n",
              "      <td>0.00</td>\n",
              "      <td>NaN</td>\n",
              "      <td>NaN</td>\n",
              "      <td>NaN</td>\n",
              "      <td>0.02</td>\n",
              "    </tr>\n",
              "    <tr>\n",
              "      <th>13152</th>\n",
              "      <td>Fighter Destiny 2</td>\n",
              "      <td>N64</td>\n",
              "      <td>1999.0</td>\n",
              "      <td>Fighting</td>\n",
              "      <td>0.04</td>\n",
              "      <td>0.01</td>\n",
              "      <td>0.00</td>\n",
              "      <td>0.00</td>\n",
              "      <td>NaN</td>\n",
              "      <td>NaN</td>\n",
              "      <td>NaN</td>\n",
              "      <td>0.05</td>\n",
              "    </tr>\n",
              "    <tr>\n",
              "      <th>8627</th>\n",
              "      <td>Watchmen: The End is Nigh - The Complete Exper...</td>\n",
              "      <td>PS3</td>\n",
              "      <td>2009.0</td>\n",
              "      <td>Action</td>\n",
              "      <td>0.08</td>\n",
              "      <td>0.06</td>\n",
              "      <td>0.00</td>\n",
              "      <td>0.02</td>\n",
              "      <td>NaN</td>\n",
              "      <td>NaN</td>\n",
              "      <td>NaN</td>\n",
              "      <td>0.16</td>\n",
              "    </tr>\n",
              "  </tbody>\n",
              "</table>\n",
              "</div>\n",
              "      <button class=\"colab-df-convert\" onclick=\"convertToInteractive('df-a4914d85-9e40-463f-a2bc-bf1d127c5b2b')\"\n",
              "              title=\"Convert this dataframe to an interactive table.\"\n",
              "              style=\"display:none;\">\n",
              "        \n",
              "  <svg xmlns=\"http://www.w3.org/2000/svg\" height=\"24px\"viewBox=\"0 0 24 24\"\n",
              "       width=\"24px\">\n",
              "    <path d=\"M0 0h24v24H0V0z\" fill=\"none\"/>\n",
              "    <path d=\"M18.56 5.44l.94 2.06.94-2.06 2.06-.94-2.06-.94-.94-2.06-.94 2.06-2.06.94zm-11 1L8.5 8.5l.94-2.06 2.06-.94-2.06-.94L8.5 2.5l-.94 2.06-2.06.94zm10 10l.94 2.06.94-2.06 2.06-.94-2.06-.94-.94-2.06-.94 2.06-2.06.94z\"/><path d=\"M17.41 7.96l-1.37-1.37c-.4-.4-.92-.59-1.43-.59-.52 0-1.04.2-1.43.59L10.3 9.45l-7.72 7.72c-.78.78-.78 2.05 0 2.83L4 21.41c.39.39.9.59 1.41.59.51 0 1.02-.2 1.41-.59l7.78-7.78 2.81-2.81c.8-.78.8-2.07 0-2.86zM5.41 20L4 18.59l7.72-7.72 1.47 1.35L5.41 20z\"/>\n",
              "  </svg>\n",
              "      </button>\n",
              "      \n",
              "  <style>\n",
              "    .colab-df-container {\n",
              "      display:flex;\n",
              "      flex-wrap:wrap;\n",
              "      gap: 12px;\n",
              "    }\n",
              "\n",
              "    .colab-df-convert {\n",
              "      background-color: #E8F0FE;\n",
              "      border: none;\n",
              "      border-radius: 50%;\n",
              "      cursor: pointer;\n",
              "      display: none;\n",
              "      fill: #1967D2;\n",
              "      height: 32px;\n",
              "      padding: 0 0 0 0;\n",
              "      width: 32px;\n",
              "    }\n",
              "\n",
              "    .colab-df-convert:hover {\n",
              "      background-color: #E2EBFA;\n",
              "      box-shadow: 0px 1px 2px rgba(60, 64, 67, 0.3), 0px 1px 3px 1px rgba(60, 64, 67, 0.15);\n",
              "      fill: #174EA6;\n",
              "    }\n",
              "\n",
              "    [theme=dark] .colab-df-convert {\n",
              "      background-color: #3B4455;\n",
              "      fill: #D2E3FC;\n",
              "    }\n",
              "\n",
              "    [theme=dark] .colab-df-convert:hover {\n",
              "      background-color: #434B5C;\n",
              "      box-shadow: 0px 1px 3px 1px rgba(0, 0, 0, 0.15);\n",
              "      filter: drop-shadow(0px 1px 2px rgba(0, 0, 0, 0.3));\n",
              "      fill: #FFFFFF;\n",
              "    }\n",
              "  </style>\n",
              "\n",
              "      <script>\n",
              "        const buttonEl =\n",
              "          document.querySelector('#df-a4914d85-9e40-463f-a2bc-bf1d127c5b2b button.colab-df-convert');\n",
              "        buttonEl.style.display =\n",
              "          google.colab.kernel.accessAllowed ? 'block' : 'none';\n",
              "\n",
              "        async function convertToInteractive(key) {\n",
              "          const element = document.querySelector('#df-a4914d85-9e40-463f-a2bc-bf1d127c5b2b');\n",
              "          const dataTable =\n",
              "            await google.colab.kernel.invokeFunction('convertToInteractive',\n",
              "                                                     [key], {});\n",
              "          if (!dataTable) return;\n",
              "\n",
              "          const docLinkHtml = 'Like what you see? Visit the ' +\n",
              "            '<a target=\"_blank\" href=https://colab.research.google.com/notebooks/data_table.ipynb>data table notebook</a>'\n",
              "            + ' to learn more about interactive tables.';\n",
              "          element.innerHTML = '';\n",
              "          dataTable['output_type'] = 'display_data';\n",
              "          await google.colab.output.renderOutput(dataTable, element);\n",
              "          const docLink = document.createElement('div');\n",
              "          docLink.innerHTML = docLinkHtml;\n",
              "          element.appendChild(docLink);\n",
              "        }\n",
              "      </script>\n",
              "    </div>\n",
              "  </div>\n",
              "  "
            ]
          },
          "metadata": {},
          "execution_count": 53
        }
      ],
      "source": [
        "# игры с пропусками в столбце critic_score\n",
        "df_games.loc[df_games['critic_score'].isna()].sample(5)"
      ]
    },
    {
      "cell_type": "markdown",
      "metadata": {
        "id": "y38Gj57Dp5Rn"
      },
      "source": [
        "Нет, версия не подтвердилась. Пропуски в столбцах critic_score, rating и user_score есть как в старых, так и современных играх. Невозможно заполнить пропущенные значения как среднее рейтингов игр того же жанра. Оставлю пока без изменений.\n",
        "\n",
        "Пропуски в столбце rating обработаю позже.\n",
        "\n",
        "Столбец year_of_release имеет 1,6% пропусков.  Пропущенный год выпуска игры можно узать в интернете. Но пропусков 264 и процесс их заполнения нужно как-то автоматизировать. Не буду заниматься здесь этой задачей. Данных достаточно для анализа, ставлю пока без изменений.\n",
        "\n",
        "В остальных колонках пропусков нет, или их количество незначительно."
      ]
    },
    {
      "cell_type": "code",
      "source": [],
      "metadata": {
        "id": "orRH_80tDsHD"
      },
      "execution_count": null,
      "outputs": []
    },
    {
      "cell_type": "markdown",
      "metadata": {
        "id": "DC2AkzFUp5Ro"
      },
      "source": [
        "### Дубликаты"
      ]
    },
    {
      "cell_type": "code",
      "execution_count": 13,
      "metadata": {
        "colab": {
          "base_uri": "https://localhost:8080/"
        },
        "id": "GaspkEiMp5Ro",
        "outputId": "c070f9f7-45c1-4e32-d6ff-24c83943102e"
      },
      "outputs": [
        {
          "output_type": "execute_result",
          "data": {
            "text/plain": [
              "0"
            ]
          },
          "metadata": {},
          "execution_count": 13
        }
      ],
      "source": [
        "# подсчет дубликатов\n",
        "df_games.duplicated().sum()"
      ]
    },
    {
      "cell_type": "markdown",
      "metadata": {
        "id": "P2wYM_ydp5Rp"
      },
      "source": [
        "Дубликатов в данных нет"
      ]
    },
    {
      "cell_type": "markdown",
      "metadata": {
        "id": "WuGPwcpwp5Rq"
      },
      "source": [
        "### Суммарные продажи во всех регионах\n",
        "* Запишу суммарные продажи во всех регионах в отдельный столбец."
      ]
    },
    {
      "cell_type": "code",
      "execution_count": 14,
      "metadata": {
        "id": "3V7HLr5Rp5Rq"
      },
      "outputs": [],
      "source": [
        "# суммарные продажи во всех регионах\n",
        "df_games['total_sales'] = df_games[['na_sales', 'eu_sales', 'jp_sales', 'other_sales']].sum(axis = 1)"
      ]
    },
    {
      "cell_type": "markdown",
      "metadata": {
        "id": "NcP126xQp5Rr"
      },
      "source": [
        "<div class=\"alert alert-block alert-warning\">\n",
        "    \n",
        "\n",
        "### Комментарий от ревьюера №3 (можно лучше)\n",
        "\n",
        "\n",
        "Чтобы посчитать суммарные продажи, можно использовать конструкцию \n",
        "    \n",
        "`df_games['total_sales'] = df_games[['na_sales','eu_sales','jp_sales', 'other_sales']].sum(axis = 1)`\n",
        "</div>"
      ]
    },
    {
      "cell_type": "markdown",
      "metadata": {
        "id": "9FiYiwQcp5Rr"
      },
      "source": [
        "<div class=\"alert alert-block alert-info\">\n",
        "    \n",
        "\n",
        "### Комментарий студента\n",
        "Способ подсчета суммарных продаж изменила.\n",
        "\n",
        "</div>"
      ]
    },
    {
      "cell_type": "markdown",
      "metadata": {
        "id": "BYkb-95sp5Rs"
      },
      "source": [
        "## Исследовательский анализ данных\n",
        "### Сколько игр выпускалось в разные годы? Важны ли данные за все периоды?"
      ]
    },
    {
      "cell_type": "code",
      "execution_count": 15,
      "metadata": {
        "colab": {
          "base_uri": "https://localhost:8080/",
          "height": 206
        },
        "id": "7F8cofyKp5Rs",
        "outputId": "18d17cec-db93-4655-f9b5-bf24c724c119"
      },
      "outputs": [
        {
          "output_type": "execute_result",
          "data": {
            "text/plain": [
              "                       name platform  year_of_release         genre  na_sales  \\\n",
              "0                Wii Sports      Wii           2006.0        Sports     41.36   \n",
              "1         Super Mario Bros.      NES           1985.0      Platform     29.08   \n",
              "2            Mario Kart Wii      Wii           2008.0        Racing     15.68   \n",
              "3         Wii Sports Resort      Wii           2009.0        Sports     15.61   \n",
              "4  Pokemon Red/Pokemon Blue       GB           1996.0  Role-Playing     11.27   \n",
              "\n",
              "   eu_sales  jp_sales  other_sales  critic_score  user_score rating  \\\n",
              "0     28.96      3.77         8.45          76.0         8.0      E   \n",
              "1      3.58      6.81         0.77           NaN         NaN    NaN   \n",
              "2     12.76      3.79         3.29          82.0         8.3      E   \n",
              "3     10.93      3.28         2.95          80.0         8.0      E   \n",
              "4      8.89     10.22         1.00           NaN         NaN    NaN   \n",
              "\n",
              "   total_sales  \n",
              "0        82.54  \n",
              "1        40.24  \n",
              "2        35.52  \n",
              "3        32.77  \n",
              "4        31.38  "
            ],
            "text/html": [
              "\n",
              "  <div id=\"df-5fb073c1-934a-4266-add7-4843b881b302\">\n",
              "    <div class=\"colab-df-container\">\n",
              "      <div>\n",
              "<style scoped>\n",
              "    .dataframe tbody tr th:only-of-type {\n",
              "        vertical-align: middle;\n",
              "    }\n",
              "\n",
              "    .dataframe tbody tr th {\n",
              "        vertical-align: top;\n",
              "    }\n",
              "\n",
              "    .dataframe thead th {\n",
              "        text-align: right;\n",
              "    }\n",
              "</style>\n",
              "<table border=\"1\" class=\"dataframe\">\n",
              "  <thead>\n",
              "    <tr style=\"text-align: right;\">\n",
              "      <th></th>\n",
              "      <th>name</th>\n",
              "      <th>platform</th>\n",
              "      <th>year_of_release</th>\n",
              "      <th>genre</th>\n",
              "      <th>na_sales</th>\n",
              "      <th>eu_sales</th>\n",
              "      <th>jp_sales</th>\n",
              "      <th>other_sales</th>\n",
              "      <th>critic_score</th>\n",
              "      <th>user_score</th>\n",
              "      <th>rating</th>\n",
              "      <th>total_sales</th>\n",
              "    </tr>\n",
              "  </thead>\n",
              "  <tbody>\n",
              "    <tr>\n",
              "      <th>0</th>\n",
              "      <td>Wii Sports</td>\n",
              "      <td>Wii</td>\n",
              "      <td>2006.0</td>\n",
              "      <td>Sports</td>\n",
              "      <td>41.36</td>\n",
              "      <td>28.96</td>\n",
              "      <td>3.77</td>\n",
              "      <td>8.45</td>\n",
              "      <td>76.0</td>\n",
              "      <td>8.0</td>\n",
              "      <td>E</td>\n",
              "      <td>82.54</td>\n",
              "    </tr>\n",
              "    <tr>\n",
              "      <th>1</th>\n",
              "      <td>Super Mario Bros.</td>\n",
              "      <td>NES</td>\n",
              "      <td>1985.0</td>\n",
              "      <td>Platform</td>\n",
              "      <td>29.08</td>\n",
              "      <td>3.58</td>\n",
              "      <td>6.81</td>\n",
              "      <td>0.77</td>\n",
              "      <td>NaN</td>\n",
              "      <td>NaN</td>\n",
              "      <td>NaN</td>\n",
              "      <td>40.24</td>\n",
              "    </tr>\n",
              "    <tr>\n",
              "      <th>2</th>\n",
              "      <td>Mario Kart Wii</td>\n",
              "      <td>Wii</td>\n",
              "      <td>2008.0</td>\n",
              "      <td>Racing</td>\n",
              "      <td>15.68</td>\n",
              "      <td>12.76</td>\n",
              "      <td>3.79</td>\n",
              "      <td>3.29</td>\n",
              "      <td>82.0</td>\n",
              "      <td>8.3</td>\n",
              "      <td>E</td>\n",
              "      <td>35.52</td>\n",
              "    </tr>\n",
              "    <tr>\n",
              "      <th>3</th>\n",
              "      <td>Wii Sports Resort</td>\n",
              "      <td>Wii</td>\n",
              "      <td>2009.0</td>\n",
              "      <td>Sports</td>\n",
              "      <td>15.61</td>\n",
              "      <td>10.93</td>\n",
              "      <td>3.28</td>\n",
              "      <td>2.95</td>\n",
              "      <td>80.0</td>\n",
              "      <td>8.0</td>\n",
              "      <td>E</td>\n",
              "      <td>32.77</td>\n",
              "    </tr>\n",
              "    <tr>\n",
              "      <th>4</th>\n",
              "      <td>Pokemon Red/Pokemon Blue</td>\n",
              "      <td>GB</td>\n",
              "      <td>1996.0</td>\n",
              "      <td>Role-Playing</td>\n",
              "      <td>11.27</td>\n",
              "      <td>8.89</td>\n",
              "      <td>10.22</td>\n",
              "      <td>1.00</td>\n",
              "      <td>NaN</td>\n",
              "      <td>NaN</td>\n",
              "      <td>NaN</td>\n",
              "      <td>31.38</td>\n",
              "    </tr>\n",
              "  </tbody>\n",
              "</table>\n",
              "</div>\n",
              "      <button class=\"colab-df-convert\" onclick=\"convertToInteractive('df-5fb073c1-934a-4266-add7-4843b881b302')\"\n",
              "              title=\"Convert this dataframe to an interactive table.\"\n",
              "              style=\"display:none;\">\n",
              "        \n",
              "  <svg xmlns=\"http://www.w3.org/2000/svg\" height=\"24px\"viewBox=\"0 0 24 24\"\n",
              "       width=\"24px\">\n",
              "    <path d=\"M0 0h24v24H0V0z\" fill=\"none\"/>\n",
              "    <path d=\"M18.56 5.44l.94 2.06.94-2.06 2.06-.94-2.06-.94-.94-2.06-.94 2.06-2.06.94zm-11 1L8.5 8.5l.94-2.06 2.06-.94-2.06-.94L8.5 2.5l-.94 2.06-2.06.94zm10 10l.94 2.06.94-2.06 2.06-.94-2.06-.94-.94-2.06-.94 2.06-2.06.94z\"/><path d=\"M17.41 7.96l-1.37-1.37c-.4-.4-.92-.59-1.43-.59-.52 0-1.04.2-1.43.59L10.3 9.45l-7.72 7.72c-.78.78-.78 2.05 0 2.83L4 21.41c.39.39.9.59 1.41.59.51 0 1.02-.2 1.41-.59l7.78-7.78 2.81-2.81c.8-.78.8-2.07 0-2.86zM5.41 20L4 18.59l7.72-7.72 1.47 1.35L5.41 20z\"/>\n",
              "  </svg>\n",
              "      </button>\n",
              "      \n",
              "  <style>\n",
              "    .colab-df-container {\n",
              "      display:flex;\n",
              "      flex-wrap:wrap;\n",
              "      gap: 12px;\n",
              "    }\n",
              "\n",
              "    .colab-df-convert {\n",
              "      background-color: #E8F0FE;\n",
              "      border: none;\n",
              "      border-radius: 50%;\n",
              "      cursor: pointer;\n",
              "      display: none;\n",
              "      fill: #1967D2;\n",
              "      height: 32px;\n",
              "      padding: 0 0 0 0;\n",
              "      width: 32px;\n",
              "    }\n",
              "\n",
              "    .colab-df-convert:hover {\n",
              "      background-color: #E2EBFA;\n",
              "      box-shadow: 0px 1px 2px rgba(60, 64, 67, 0.3), 0px 1px 3px 1px rgba(60, 64, 67, 0.15);\n",
              "      fill: #174EA6;\n",
              "    }\n",
              "\n",
              "    [theme=dark] .colab-df-convert {\n",
              "      background-color: #3B4455;\n",
              "      fill: #D2E3FC;\n",
              "    }\n",
              "\n",
              "    [theme=dark] .colab-df-convert:hover {\n",
              "      background-color: #434B5C;\n",
              "      box-shadow: 0px 1px 3px 1px rgba(0, 0, 0, 0.15);\n",
              "      filter: drop-shadow(0px 1px 2px rgba(0, 0, 0, 0.3));\n",
              "      fill: #FFFFFF;\n",
              "    }\n",
              "  </style>\n",
              "\n",
              "      <script>\n",
              "        const buttonEl =\n",
              "          document.querySelector('#df-5fb073c1-934a-4266-add7-4843b881b302 button.colab-df-convert');\n",
              "        buttonEl.style.display =\n",
              "          google.colab.kernel.accessAllowed ? 'block' : 'none';\n",
              "\n",
              "        async function convertToInteractive(key) {\n",
              "          const element = document.querySelector('#df-5fb073c1-934a-4266-add7-4843b881b302');\n",
              "          const dataTable =\n",
              "            await google.colab.kernel.invokeFunction('convertToInteractive',\n",
              "                                                     [key], {});\n",
              "          if (!dataTable) return;\n",
              "\n",
              "          const docLinkHtml = 'Like what you see? Visit the ' +\n",
              "            '<a target=\"_blank\" href=https://colab.research.google.com/notebooks/data_table.ipynb>data table notebook</a>'\n",
              "            + ' to learn more about interactive tables.';\n",
              "          element.innerHTML = '';\n",
              "          dataTable['output_type'] = 'display_data';\n",
              "          await google.colab.output.renderOutput(dataTable, element);\n",
              "          const docLink = document.createElement('div');\n",
              "          docLink.innerHTML = docLinkHtml;\n",
              "          element.appendChild(docLink);\n",
              "        }\n",
              "      </script>\n",
              "    </div>\n",
              "  </div>\n",
              "  "
            ]
          },
          "metadata": {},
          "execution_count": 15
        }
      ],
      "source": [
        "df_games.head()"
      ]
    },
    {
      "cell_type": "code",
      "execution_count": 16,
      "metadata": {
        "colab": {
          "base_uri": "https://localhost:8080/",
          "height": 404
        },
        "id": "VKRDpey1p5Rt",
        "outputId": "5dd6233e-7922-430e-e775-c9af6117dece"
      },
      "outputs": [
        {
          "output_type": "display_data",
          "data": {
            "text/plain": [
              "<Figure size 864x432 with 1 Axes>"
            ],
            "image/png": "[encoded data removed]"
          },
          "metadata": {
            "needs_background": "light"
          }
        }
      ],
      "source": [
        "# количество выпущенных игр по годам\n",
        "df_games_grouped = df_games.groupby('year_of_release')['platform'].count()\n",
        "# столбчатая диаграмма\n",
        "f, ax = plt.subplots(1, 1, figsize=(12, 6))\n",
        "ax.bar(df_games_grouped.index, df_games_grouped.values)\n",
        "plt.title('Количество выпущенных игр по годам')\n",
        "plt.xlabel('Годы')\n",
        "plt.ylabel('Миллионы копий')\n",
        "plt.show()"
      ]
    },
    {
      "cell_type": "markdown",
      "metadata": {
        "id": "NKl_CciIp5Ru"
      },
      "source": [
        "До 1995 года игр, по сравнению с двухтысячными, почти не было. Потом наступила эра доступных персональных компьютеров и игровых приставок. С 2002 по 2008 годы производство игр резко растет с 500 до 1400 млн копий. В 2012 году произошел резкий спад продаж до 600 млн копий, возможно, связанный с развитием смартфонов."
      ]
    },
    {
      "cell_type": "markdown",
      "metadata": {
        "id": "c_baKCtMp5Ru"
      },
      "source": [
        "### Как менялись продажи по платформам\n",
        "Посмотрим, как менялись продажи по платформам. Для платформ с наибольшими суммарными продажами построю распределение по годам. За какой характерный срок появляются новые и исчезают старые платформы?"
      ]
    },
    {
      "cell_type": "code",
      "execution_count": 17,
      "metadata": {
        "colab": {
          "base_uri": "https://localhost:8080/",
          "height": 994
        },
        "id": "h7obAt73p5Rv",
        "outputId": "f8e1fe38-1fa9-4e0e-95e7-a41056248aef"
      },
      "outputs": [
        {
          "output_type": "display_data",
          "data": {
            "text/plain": [
              "platform\n",
              "PS2     1255.77\n",
              "X360     971.42\n",
              "PS3      939.65\n",
              "Wii      907.51\n",
              "DS       806.12\n",
              "PS       730.86\n",
              "GBA      317.85\n",
              "PS4      314.14\n",
              "PSP      294.05\n",
              "PC       259.52\n",
              "3DS      259.00\n",
              "XB       257.74\n",
              "GB       255.46\n",
              "NES      251.05\n",
              "N64      218.68\n",
              "SNES     200.04\n",
              "GC       198.93\n",
              "XOne     159.32\n",
              "2600      96.98\n",
              "WiiU      82.19\n",
              "PSV       54.07\n",
              "SAT       33.59\n",
              "GEN       30.77\n",
              "DC        15.95\n",
              "SCD        1.86\n",
              "NG         1.44\n",
              "WS         1.42\n",
              "TG16       0.16\n",
              "3DO        0.10\n",
              "GG         0.04\n",
              "PCFX       0.03\n",
              "Name: total_sales, dtype: float64"
            ]
          },
          "metadata": {}
        },
        {
          "output_type": "display_data",
          "data": {
            "text/plain": [
              "<Figure size 864x432 with 1 Axes>"
            ],
            "image/png": "[encoded data removed]"
          },
          "metadata": {
            "needs_background": "light"
          }
        }
      ],
      "source": [
        "# суммарные продажи по платформам по убыванию\n",
        "df_games_grouped = df_games.groupby('platform')['total_sales'].sum().sort_values(ascending=False)\n",
        "display(df_games_grouped)\n",
        "# столбчатая диаграмма\n",
        "f, ax = plt.subplots(1, 1, figsize=(12, 6))\n",
        "ax.bar(df_games_grouped.index, df_games_grouped.values)\n",
        "plt.title('Продажи по платформам')\n",
        "plt.xlabel('Платформы')\n",
        "plt.ylabel('Миллионы копий')\n",
        "plt.xticks(rotation = 90) \n",
        "plt.show()"
      ]
    },
    {
      "cell_type": "markdown",
      "metadata": {
        "id": "bVnZRYB9p5Rw"
      },
      "source": [
        "По продажам лидируют платформы PS2, X360, PS3, Wii, DS, PS с заметным отрывом. Построю для этих платформ распределение продаж по годам. "
      ]
    },
    {
      "cell_type": "code",
      "execution_count": 18,
      "metadata": {
        "colab": {
          "base_uri": "https://localhost:8080/"
        },
        "id": "vDUnE_lGp5Rw",
        "outputId": "5627efc7-6318-4763-9e9c-5129a31fbb59"
      },
      "outputs": [
        {
          "output_type": "execute_result",
          "data": {
            "text/plain": [
              "platform\n",
              "PS2     1255.77\n",
              "X360     971.42\n",
              "PS3      939.65\n",
              "Wii      907.51\n",
              "DS       806.12\n",
              "PS       730.86\n",
              "Name: total_sales, dtype: float64"
            ]
          },
          "metadata": {},
          "execution_count": 18
        }
      ],
      "source": [
        "# срез данных по 6 лидерам продаж\n",
        "df_games_6 = df_games_grouped.head(6)\n",
        "df_games_6"
      ]
    },
    {
      "cell_type": "code",
      "execution_count": 19,
      "metadata": {
        "colab": {
          "base_uri": "https://localhost:8080/"
        },
        "id": "aV9_kUCcp5Rx",
        "outputId": "24e1b8d4-c3f4-470c-8b06-3f27da33bfab"
      },
      "outputs": [
        {
          "output_type": "execute_result",
          "data": {
            "text/plain": [
              "array([1980., 1981., 1982., 1983., 1984., 1985., 1986., 1987., 1988.,\n",
              "       1989., 1990., 1991., 1992., 1993., 1994., 1995., 1996., 1997.,\n",
              "       1998., 1999., 2000., 2001., 2002., 2003., 2004., 2005., 2006.,\n",
              "       2007., 2008., 2009., 2010., 2011., 2012., 2013., 2014., 2015.,\n",
              "       2016.])"
            ]
          },
          "metadata": {},
          "execution_count": 19
        }
      ],
      "source": [
        "# отсортирую уникальные годы, за которые есть данные\n",
        "np.sort(df_games['year_of_release'].dropna().unique())"
      ]
    },
    {
      "cell_type": "markdown",
      "metadata": {
        "id": "byFuSctfp5Ry"
      },
      "source": [
        "Построю сводные таблицы продаж по годам для каждой платформы из топ-6 и объединю их.\n",
        "Удалю пропуски и отсортирую уникальные годы в колонке year_of_release, изменю тип данных на целочисленный."
      ]
    },
    {
      "cell_type": "code",
      "execution_count": 20,
      "metadata": {
        "colab": {
          "base_uri": "https://localhost:8080/",
          "height": 567
        },
        "id": "AM5-70qVp5Ry",
        "outputId": "fcbfa9cb-814b-42fe-8b70-99ad0c27daf8"
      },
      "outputs": [
        {
          "output_type": "display_data",
          "data": {
            "text/plain": [
              "<Figure size 864x648 with 1 Axes>"
            ],
            "image/png": "[encoded data removed]"
          },
          "metadata": {
            "needs_background": "light"
          }
        }
      ],
      "source": [
        "# годы будут индексом сводной таблицы\n",
        "index = np.sort(df_games['year_of_release'].dropna().unique()).astype('int')\n",
        "df_years_6 = pd.DataFrame(index=index)\n",
        "for i in df_games_6.index: \n",
        "    df_years_6[str(i)] = df_games.query('platform == @i') \\\n",
        "      .pivot_table(index='year_of_release', values='total_sales', aggfunc='sum')\n",
        "\n",
        "# график продаж по топ-6 платформам\n",
        "df_years_6.plot(style='o-', figsize=(12,9), grid=True)\n",
        "plt.title('Продажи топ-6 платформ')\n",
        "plt.xlabel('Годы')\n",
        "plt.ylabel('Миллионы копий')\n",
        "plt.show()"
      ]
    },
    {
      "cell_type": "code",
      "execution_count": 21,
      "metadata": {
        "colab": {
          "base_uri": "https://localhost:8080/",
          "height": 272
        },
        "id": "F6o7vpuAp5Rz",
        "outputId": "e3f7113e-dfc4-48f9-d303-73dbdb721449"
      },
      "outputs": [
        {
          "output_type": "stream",
          "name": "stdout",
          "text": [
            "Время жизни платформ:\n"
          ]
        },
        {
          "output_type": "display_data",
          "data": {
            "text/plain": [
              "  platform  lifespan\n",
              "0      PS2        12\n",
              "1     X360        12\n",
              "2      PS3        11\n",
              "3      Wii        11\n",
              "4       DS        11\n",
              "5       PS        10"
            ],
            "text/html": [
              "\n",
              "  <div id=\"df-12b32709-35b2-4c9b-b021-83ec0dbadd75\">\n",
              "    <div class=\"colab-df-container\">\n",
              "      <div>\n",
              "<style scoped>\n",
              "    .dataframe tbody tr th:only-of-type {\n",
              "        vertical-align: middle;\n",
              "    }\n",
              "\n",
              "    .dataframe tbody tr th {\n",
              "        vertical-align: top;\n",
              "    }\n",
              "\n",
              "    .dataframe thead th {\n",
              "        text-align: right;\n",
              "    }\n",
              "</style>\n",
              "<table border=\"1\" class=\"dataframe\">\n",
              "  <thead>\n",
              "    <tr style=\"text-align: right;\">\n",
              "      <th></th>\n",
              "      <th>platform</th>\n",
              "      <th>lifespan</th>\n",
              "    </tr>\n",
              "  </thead>\n",
              "  <tbody>\n",
              "    <tr>\n",
              "      <th>0</th>\n",
              "      <td>PS2</td>\n",
              "      <td>12</td>\n",
              "    </tr>\n",
              "    <tr>\n",
              "      <th>1</th>\n",
              "      <td>X360</td>\n",
              "      <td>12</td>\n",
              "    </tr>\n",
              "    <tr>\n",
              "      <th>2</th>\n",
              "      <td>PS3</td>\n",
              "      <td>11</td>\n",
              "    </tr>\n",
              "    <tr>\n",
              "      <th>3</th>\n",
              "      <td>Wii</td>\n",
              "      <td>11</td>\n",
              "    </tr>\n",
              "    <tr>\n",
              "      <th>4</th>\n",
              "      <td>DS</td>\n",
              "      <td>11</td>\n",
              "    </tr>\n",
              "    <tr>\n",
              "      <th>5</th>\n",
              "      <td>PS</td>\n",
              "      <td>10</td>\n",
              "    </tr>\n",
              "  </tbody>\n",
              "</table>\n",
              "</div>\n",
              "      <button class=\"colab-df-convert\" onclick=\"convertToInteractive('df-12b32709-35b2-4c9b-b021-83ec0dbadd75')\"\n",
              "              title=\"Convert this dataframe to an interactive table.\"\n",
              "              style=\"display:none;\">\n",
              "        \n",
              "  <svg xmlns=\"http://www.w3.org/2000/svg\" height=\"24px\"viewBox=\"0 0 24 24\"\n",
              "       width=\"24px\">\n",
              "    <path d=\"M0 0h24v24H0V0z\" fill=\"none\"/>\n",
              "    <path d=\"M18.56 5.44l.94 2.06.94-2.06 2.06-.94-2.06-.94-.94-2.06-.94 2.06-2.06.94zm-11 1L8.5 8.5l.94-2.06 2.06-.94-2.06-.94L8.5 2.5l-.94 2.06-2.06.94zm10 10l.94 2.06.94-2.06 2.06-.94-2.06-.94-.94-2.06-.94 2.06-2.06.94z\"/><path d=\"M17.41 7.96l-1.37-1.37c-.4-.4-.92-.59-1.43-.59-.52 0-1.04.2-1.43.59L10.3 9.45l-7.72 7.72c-.78.78-.78 2.05 0 2.83L4 21.41c.39.39.9.59 1.41.59.51 0 1.02-.2 1.41-.59l7.78-7.78 2.81-2.81c.8-.78.8-2.07 0-2.86zM5.41 20L4 18.59l7.72-7.72 1.47 1.35L5.41 20z\"/>\n",
              "  </svg>\n",
              "      </button>\n",
              "      \n",
              "  <style>\n",
              "    .colab-df-container {\n",
              "      display:flex;\n",
              "      flex-wrap:wrap;\n",
              "      gap: 12px;\n",
              "    }\n",
              "\n",
              "    .colab-df-convert {\n",
              "      background-color: #E8F0FE;\n",
              "      border: none;\n",
              "      border-radius: 50%;\n",
              "      cursor: pointer;\n",
              "      display: none;\n",
              "      fill: #1967D2;\n",
              "      height: 32px;\n",
              "      padding: 0 0 0 0;\n",
              "      width: 32px;\n",
              "    }\n",
              "\n",
              "    .colab-df-convert:hover {\n",
              "      background-color: #E2EBFA;\n",
              "      box-shadow: 0px 1px 2px rgba(60, 64, 67, 0.3), 0px 1px 3px 1px rgba(60, 64, 67, 0.15);\n",
              "      fill: #174EA6;\n",
              "    }\n",
              "\n",
              "    [theme=dark] .colab-df-convert {\n",
              "      background-color: #3B4455;\n",
              "      fill: #D2E3FC;\n",
              "    }\n",
              "\n",
              "    [theme=dark] .colab-df-convert:hover {\n",
              "      background-color: #434B5C;\n",
              "      box-shadow: 0px 1px 3px 1px rgba(0, 0, 0, 0.15);\n",
              "      filter: drop-shadow(0px 1px 2px rgba(0, 0, 0, 0.3));\n",
              "      fill: #FFFFFF;\n",
              "    }\n",
              "  </style>\n",
              "\n",
              "      <script>\n",
              "        const buttonEl =\n",
              "          document.querySelector('#df-12b32709-35b2-4c9b-b021-83ec0dbadd75 button.colab-df-convert');\n",
              "        buttonEl.style.display =\n",
              "          google.colab.kernel.accessAllowed ? 'block' : 'none';\n",
              "\n",
              "        async function convertToInteractive(key) {\n",
              "          const element = document.querySelector('#df-12b32709-35b2-4c9b-b021-83ec0dbadd75');\n",
              "          const dataTable =\n",
              "            await google.colab.kernel.invokeFunction('convertToInteractive',\n",
              "                                                     [key], {});\n",
              "          if (!dataTable) return;\n",
              "\n",
              "          const docLinkHtml = 'Like what you see? Visit the ' +\n",
              "            '<a target=\"_blank\" href=https://colab.research.google.com/notebooks/data_table.ipynb>data table notebook</a>'\n",
              "            + ' to learn more about interactive tables.';\n",
              "          element.innerHTML = '';\n",
              "          dataTable['output_type'] = 'display_data';\n",
              "          await google.colab.output.renderOutput(dataTable, element);\n",
              "          const docLink = document.createElement('div');\n",
              "          docLink.innerHTML = docLinkHtml;\n",
              "          element.appendChild(docLink);\n",
              "        }\n",
              "      </script>\n",
              "    </div>\n",
              "  </div>\n",
              "  "
            ]
          },
          "metadata": {}
        },
        {
          "output_type": "stream",
          "name": "stdout",
          "text": [
            "Средняя продолжительность жизни платформы 11 лет.\n"
          ]
        }
      ],
      "source": [
        "# рассчитаю время жизни платформ из топ-6\n",
        "print('Время жизни платформ:')\n",
        "list_platform_lifes = [{'platform':col_name, 'lifespan':col_data.count()} for (col_name, col_data) in df_years_6.iteritems()]\n",
        "df_platform_lifes = pd.DataFrame(list_platform_lifes)\n",
        "display(df_platform_lifes)\n",
        "print('Средняя продолжительность жизни платформы %.0f лет.' % df_platform_lifes.lifespan.mean())"
      ]
    },
    {
      "cell_type": "markdown",
      "metadata": {
        "id": "JFzal5VWp5R0"
      },
      "source": [
        "Средняя продолжительность жизни платформы 11 лет. На графике \"Продажи топ-6 платформ\" видно, что 4 из 6 самых популярных платформ вышли в 2005 году, а две оставшиеся в это время заканчивали свой жизненный цикл.\n",
        "### Актуальный период\n",
        "\n",
        "Компьютерные игры - динамично меняющаяся индустрия. Для постоения прогноза на 2017 актуальным будет период 2 года. Поскольку игры выпуска 2014 года могли начать продаваться в конце года и оказывать больше влиять на рынок 2015 года, сформирую датафрейм, содержащий игры 2014-2016 годов, и дальше буду работать с ним.\n",
        "\n",
        "Построю график продаж за выбранный период."
      ]
    },
    {
      "cell_type": "code",
      "execution_count": 22,
      "metadata": {
        "colab": {
          "base_uri": "https://localhost:8080/",
          "height": 567
        },
        "id": "0yk5Sh_Wp5R2",
        "outputId": "811ee8ee-150e-4ce9-d7ea-c7fc4a59c5f7"
      },
      "outputs": [
        {
          "output_type": "display_data",
          "data": {
            "text/plain": [
              "<Figure size 1080x648 with 1 Axes>"
            ],
            "image/png": "[encoded data removed]"
          },
          "metadata": {
            "needs_background": "light"
          }
        }
      ],
      "source": [
        "# построю сводную таблицу продаж для всех платформ в 2014-2016 годах\n",
        "index = index[index >= 2014]\n",
        "df_years = pd.DataFrame(index=index)\n",
        "for i in df_games_grouped.index: \n",
        "    df_years[str(i)] = df_games.query('platform == @i') \\\n",
        "    .pivot_table(index='year_of_release', values='total_sales', aggfunc='sum')\n",
        "\n",
        "# график продажи всех платформ с 2014 по 2016 годы\n",
        "df_years.plot(style='o-', figsize=(15,9), grid=True)\n",
        "plt.title('Продажи всех платформ с 2005 по 2016 годы')\n",
        "plt.xlabel('Годы')\n",
        "plt.ylabel('Миллионы копий')\n",
        "plt.legend(bbox_to_anchor=(1.0, 1.0))\n",
        "plt.show()"
      ]
    },
    {
      "cell_type": "code",
      "execution_count": 23,
      "metadata": {
        "colab": {
          "base_uri": "https://localhost:8080/"
        },
        "id": "lMQ5G9uWp5R3",
        "outputId": "3caf2e55-9587-4545-9681-591da388cce7"
      },
      "outputs": [
        {
          "output_type": "execute_result",
          "data": {
            "text/plain": [
              "PS4     69.25\n",
              "XOne    26.15\n",
              "3DS     15.14\n",
              "PC       5.25\n",
              "WiiU     4.60\n",
              "PSV      4.25\n",
              "PS3      3.60\n",
              "X360     1.52\n",
              "Wii      0.18\n",
              "Name: 2016, dtype: float64"
            ]
          },
          "metadata": {},
          "execution_count": 23
        }
      ],
      "source": [
        "# Рынок игровых платформ 2016\n",
        "ser_platforms_2016 = df_years.loc[2016].sort_values(ascending=False).dropna()\n",
        "ser_platforms_2016"
      ]
    },
    {
      "cell_type": "markdown",
      "metadata": {
        "id": "tIPD6O2Kp5R4"
      },
      "source": [
        "В 2016 году больше всего продаж у платформ PS4, XOne, 3DS.\n",
        "График показывает, что количество проданных игр и для этих платформ снижается. Рынок игр падает.\n",
        "\n",
        "Построю график «ящик с усами» по глобальным продажам игр в разбивке по платформам."
      ]
    },
    {
      "cell_type": "code",
      "execution_count": 24,
      "metadata": {
        "id": "kHT-2EMGp5R4"
      },
      "outputs": [],
      "source": [
        "# отберу из исходной таблицы данные по продажам игр с 2014 по 2016 годы\n",
        "df_games_modern = df_games.query('year_of_release >= 2014').copy()\n",
        "\n",
        "# отберу данные по конкретной платформе: PS4, XOne, 3DS\n",
        "df_games_ps4 = df_games_modern.query('platform == \"PS4\"')\n",
        "df_games_xone = df_games_modern.query('platform == \"XOne\"')\n",
        "df_games_3ds = df_games_modern.query('platform == \"3DS\"')"
      ]
    },
    {
      "cell_type": "code",
      "execution_count": 25,
      "metadata": {
        "colab": {
          "base_uri": "https://localhost:8080/",
          "height": 300
        },
        "id": "fUA9-bpDp5R5",
        "outputId": "f3dfb859-65ae-4cc1-8f20-c06568885a4d"
      },
      "outputs": [
        {
          "output_type": "execute_result",
          "data": {
            "text/plain": [
              "              ps4        xone         3ds\n",
              "count  376.000000  228.000000  212.000000\n",
              "mean     0.766356    0.615614    0.408868\n",
              "std      1.614969    1.046513    1.188368\n",
              "min      0.010000    0.010000    0.010000\n",
              "25%      0.057500    0.050000    0.030000\n",
              "50%      0.185000    0.205000    0.090000\n",
              "75%      0.690000    0.632500    0.250000\n",
              "max     14.630000    7.390000   11.680000"
            ],
            "text/html": [
              "\n",
              "  <div id=\"df-1062f857-d901-4ba6-a05b-d371de14aecd\">\n",
              "    <div class=\"colab-df-container\">\n",
              "      <div>\n",
              "<style scoped>\n",
              "    .dataframe tbody tr th:only-of-type {\n",
              "        vertical-align: middle;\n",
              "    }\n",
              "\n",
              "    .dataframe tbody tr th {\n",
              "        vertical-align: top;\n",
              "    }\n",
              "\n",
              "    .dataframe thead th {\n",
              "        text-align: right;\n",
              "    }\n",
              "</style>\n",
              "<table border=\"1\" class=\"dataframe\">\n",
              "  <thead>\n",
              "    <tr style=\"text-align: right;\">\n",
              "      <th></th>\n",
              "      <th>ps4</th>\n",
              "      <th>xone</th>\n",
              "      <th>3ds</th>\n",
              "    </tr>\n",
              "  </thead>\n",
              "  <tbody>\n",
              "    <tr>\n",
              "      <th>count</th>\n",
              "      <td>376.000000</td>\n",
              "      <td>228.000000</td>\n",
              "      <td>212.000000</td>\n",
              "    </tr>\n",
              "    <tr>\n",
              "      <th>mean</th>\n",
              "      <td>0.766356</td>\n",
              "      <td>0.615614</td>\n",
              "      <td>0.408868</td>\n",
              "    </tr>\n",
              "    <tr>\n",
              "      <th>std</th>\n",
              "      <td>1.614969</td>\n",
              "      <td>1.046513</td>\n",
              "      <td>1.188368</td>\n",
              "    </tr>\n",
              "    <tr>\n",
              "      <th>min</th>\n",
              "      <td>0.010000</td>\n",
              "      <td>0.010000</td>\n",
              "      <td>0.010000</td>\n",
              "    </tr>\n",
              "    <tr>\n",
              "      <th>25%</th>\n",
              "      <td>0.057500</td>\n",
              "      <td>0.050000</td>\n",
              "      <td>0.030000</td>\n",
              "    </tr>\n",
              "    <tr>\n",
              "      <th>50%</th>\n",
              "      <td>0.185000</td>\n",
              "      <td>0.205000</td>\n",
              "      <td>0.090000</td>\n",
              "    </tr>\n",
              "    <tr>\n",
              "      <th>75%</th>\n",
              "      <td>0.690000</td>\n",
              "      <td>0.632500</td>\n",
              "      <td>0.250000</td>\n",
              "    </tr>\n",
              "    <tr>\n",
              "      <th>max</th>\n",
              "      <td>14.630000</td>\n",
              "      <td>7.390000</td>\n",
              "      <td>11.680000</td>\n",
              "    </tr>\n",
              "  </tbody>\n",
              "</table>\n",
              "</div>\n",
              "      <button class=\"colab-df-convert\" onclick=\"convertToInteractive('df-1062f857-d901-4ba6-a05b-d371de14aecd')\"\n",
              "              title=\"Convert this dataframe to an interactive table.\"\n",
              "              style=\"display:none;\">\n",
              "        \n",
              "  <svg xmlns=\"http://www.w3.org/2000/svg\" height=\"24px\"viewBox=\"0 0 24 24\"\n",
              "       width=\"24px\">\n",
              "    <path d=\"M0 0h24v24H0V0z\" fill=\"none\"/>\n",
              "    <path d=\"M18.56 5.44l.94 2.06.94-2.06 2.06-.94-2.06-.94-.94-2.06-.94 2.06-2.06.94zm-11 1L8.5 8.5l.94-2.06 2.06-.94-2.06-.94L8.5 2.5l-.94 2.06-2.06.94zm10 10l.94 2.06.94-2.06 2.06-.94-2.06-.94-.94-2.06-.94 2.06-2.06.94z\"/><path d=\"M17.41 7.96l-1.37-1.37c-.4-.4-.92-.59-1.43-.59-.52 0-1.04.2-1.43.59L10.3 9.45l-7.72 7.72c-.78.78-.78 2.05 0 2.83L4 21.41c.39.39.9.59 1.41.59.51 0 1.02-.2 1.41-.59l7.78-7.78 2.81-2.81c.8-.78.8-2.07 0-2.86zM5.41 20L4 18.59l7.72-7.72 1.47 1.35L5.41 20z\"/>\n",
              "  </svg>\n",
              "      </button>\n",
              "      \n",
              "  <style>\n",
              "    .colab-df-container {\n",
              "      display:flex;\n",
              "      flex-wrap:wrap;\n",
              "      gap: 12px;\n",
              "    }\n",
              "\n",
              "    .colab-df-convert {\n",
              "      background-color: #E8F0FE;\n",
              "      border: none;\n",
              "      border-radius: 50%;\n",
              "      cursor: pointer;\n",
              "      display: none;\n",
              "      fill: #1967D2;\n",
              "      height: 32px;\n",
              "      padding: 0 0 0 0;\n",
              "      width: 32px;\n",
              "    }\n",
              "\n",
              "    .colab-df-convert:hover {\n",
              "      background-color: #E2EBFA;\n",
              "      box-shadow: 0px 1px 2px rgba(60, 64, 67, 0.3), 0px 1px 3px 1px rgba(60, 64, 67, 0.15);\n",
              "      fill: #174EA6;\n",
              "    }\n",
              "\n",
              "    [theme=dark] .colab-df-convert {\n",
              "      background-color: #3B4455;\n",
              "      fill: #D2E3FC;\n",
              "    }\n",
              "\n",
              "    [theme=dark] .colab-df-convert:hover {\n",
              "      background-color: #434B5C;\n",
              "      box-shadow: 0px 1px 3px 1px rgba(0, 0, 0, 0.15);\n",
              "      filter: drop-shadow(0px 1px 2px rgba(0, 0, 0, 0.3));\n",
              "      fill: #FFFFFF;\n",
              "    }\n",
              "  </style>\n",
              "\n",
              "      <script>\n",
              "        const buttonEl =\n",
              "          document.querySelector('#df-1062f857-d901-4ba6-a05b-d371de14aecd button.colab-df-convert');\n",
              "        buttonEl.style.display =\n",
              "          google.colab.kernel.accessAllowed ? 'block' : 'none';\n",
              "\n",
              "        async function convertToInteractive(key) {\n",
              "          const element = document.querySelector('#df-1062f857-d901-4ba6-a05b-d371de14aecd');\n",
              "          const dataTable =\n",
              "            await google.colab.kernel.invokeFunction('convertToInteractive',\n",
              "                                                     [key], {});\n",
              "          if (!dataTable) return;\n",
              "\n",
              "          const docLinkHtml = 'Like what you see? Visit the ' +\n",
              "            '<a target=\"_blank\" href=https://colab.research.google.com/notebooks/data_table.ipynb>data table notebook</a>'\n",
              "            + ' to learn more about interactive tables.';\n",
              "          element.innerHTML = '';\n",
              "          dataTable['output_type'] = 'display_data';\n",
              "          await google.colab.output.renderOutput(dataTable, element);\n",
              "          const docLink = document.createElement('div');\n",
              "          docLink.innerHTML = docLinkHtml;\n",
              "          element.appendChild(docLink);\n",
              "        }\n",
              "      </script>\n",
              "    </div>\n",
              "  </div>\n",
              "  "
            ]
          },
          "metadata": {},
          "execution_count": 25
        }
      ],
      "source": [
        "# посмотрю разброс значений, среднее и медиану количества проданных игр по платформам\n",
        "df_3 = pd.DataFrame()\n",
        "df_3['ps4'] = df_games_ps4['total_sales'].describe()\n",
        "df_3['xone'] = df_games_xone['total_sales'].describe()\n",
        "df_3['3ds'] = df_games_3ds['total_sales'].describe()\n",
        "df_3"
      ]
    },
    {
      "cell_type": "code",
      "execution_count": 26,
      "metadata": {
        "colab": {
          "base_uri": "https://localhost:8080/",
          "height": 622
        },
        "id": "kAmgF7MSp5R5",
        "outputId": "67c73f97-3c22-4e50-baab-e18a0b80de55"
      },
      "outputs": [
        {
          "output_type": "stream",
          "name": "stderr",
          "text": [
            "/usr/local/lib/python3.7/dist-packages/matplotlib/cbook/__init__.py:1376: VisibleDeprecationWarning: Creating an ndarray from ragged nested sequences (which is a list-or-tuple of lists-or-tuples-or ndarrays with different lengths or shapes) is deprecated. If you meant to do this, you must specify 'dtype=object' when creating the ndarray.\n",
            "  X = np.atleast_1d(X.T if isinstance(X, np.ndarray) else np.asarray(X))\n"
          ]
        },
        {
          "output_type": "display_data",
          "data": {
            "text/plain": [
              "<Figure size 1080x648 with 1 Axes>"
            ],
            "image/png": "[encoded data removed]"
          },
          "metadata": {
            "needs_background": "light"
          }
        }
      ],
      "source": [
        "# диаграмма размаха: глобальные продажи игр в разбивке по платформам в 2014-2016 годах\n",
        "data = [df_games_ps4['total_sales'], df_games_xone['total_sales'], df_games_3ds['total_sales']]\n",
        "# Multiple box plots on one Axes\n",
        "fig, ax = plt.subplots(figsize=(15,9))\n",
        "ax.grid()\n",
        "ax.set_ylim(0, 2)\n",
        "ax.boxplot(data)\n",
        "ax.set_xticklabels(['PS4', 'XOne', '3DS'])\n",
        "ax.set_title('Глобальные продажи игр в 2014-2016 годах')\n",
        "ax.set_xlabel('Платформы')\n",
        "ax.set_ylabel('Миллионы копий')\n",
        "plt.show()"
      ]
    },
    {
      "cell_type": "markdown",
      "metadata": {
        "id": "yr9qGzQyp5R6"
      },
      "source": [
        "В 2014-2016 годах лидеры рынка платформы PS4, XOne, 3DS имеют следующие результаты: медианы 100-200 тыс. копий, верхние границы нормальных значений: 600 - 1550 тыс. копий. Лидирует PS4 с небольшим отрывом, затем идет XOne, замыкает тройку 3DS. Но продажи отдельных игр превышают 1.7 миллионов копий."
      ]
    },
    {
      "cell_type": "markdown",
      "metadata": {
        "id": "UzanhhI0p5R6"
      },
      "source": [
        "### Влияние отзывов пользователей и критиков на продажи\n",
        "\n",
        "Из графиков выше следует, что самой популярной игровой платформой за все время является PS3. Исследую влияние отзывов на продажи этой платформы."
      ]
    },
    {
      "cell_type": "code",
      "execution_count": 27,
      "metadata": {
        "colab": {
          "base_uri": "https://localhost:8080/",
          "height": 404
        },
        "id": "EdpE_MuOp5R7",
        "outputId": "40965c13-1d43-49b5-86b6-9a850ffc013d"
      },
      "outputs": [
        {
          "output_type": "display_data",
          "data": {
            "text/plain": [
              "<Figure size 720x432 with 1 Axes>"
            ],
            "image/png": "[encoded data removed]"
          },
          "metadata": {
            "needs_background": "light"
          }
        }
      ],
      "source": [
        "# диаграмма рассеяния для продаж PS3 и оценкой критиков\n",
        "df_games_ps3c = df_games[(df_games['platform'] == 'PS3') & (df_games['critic_score'] > 0)].copy()\n",
        "df_games_ps3c.plot(x='critic_score', y='total_sales', kind='scatter', figsize=(10,6))\n",
        "plt.title('Связь между продажами PS3 и оценкой критиков')\n",
        "plt.xlabel('Оценка')\n",
        "plt.ylabel('Миллионы копий')\n",
        "plt.show()"
      ]
    },
    {
      "cell_type": "code",
      "execution_count": 28,
      "metadata": {
        "colab": {
          "base_uri": "https://localhost:8080/"
        },
        "id": "BOjweiGPp5R8",
        "outputId": "369524ba-648a-45f6-ea68-5ba448c89b31"
      },
      "outputs": [
        {
          "output_type": "stream",
          "name": "stdout",
          "text": [
            "Коэффициент корреляции между отзывами критиков и продажами: 0.4324315685642061\n"
          ]
        }
      ],
      "source": [
        "# Коэффициент корреляции между отзывами критиков и продажами\n",
        "print(\"Коэффициент корреляции между отзывами критиков и продажами:\", \\\n",
        "    df_games_ps3c['critic_score'].corr(df_games_ps3c['total_sales']))"
      ]
    },
    {
      "cell_type": "markdown",
      "metadata": {
        "id": "FZQLo9s8p5R8"
      },
      "source": [
        "Корреляция в 0.43 говорит о наличии прямой линейной связи, однако, не слишком сильной. Выходит, чем выше оценка критиков, тем больше копий продано."
      ]
    },
    {
      "cell_type": "code",
      "execution_count": 29,
      "metadata": {
        "colab": {
          "base_uri": "https://localhost:8080/",
          "height": 404
        },
        "id": "maCWdoi2p5R9",
        "outputId": "29188c20-998a-4b5c-eb36-9c9e51000b49"
      },
      "outputs": [
        {
          "output_type": "display_data",
          "data": {
            "text/plain": [
              "<Figure size 720x432 with 1 Axes>"
            ],
            "image/png": "[encoded data removed]"
          },
          "metadata": {
            "needs_background": "light"
          }
        }
      ],
      "source": [
        "# диаграмма рассеяния для PS3 и оценкой пользователей\n",
        "df_games_ps3u = df_games[(df_games['platform'] == 'PS3') & (df_games['user_score'] > 0)].copy()\n",
        "df_games_ps3u.plot(x='user_score', y='total_sales', kind='scatter', figsize=(10,6))\n",
        "plt.title('Связь между продажами PS3 и оценкой пользователей')\n",
        "plt.xlabel('Оценка')\n",
        "plt.ylabel('Миллионы копий')\n",
        "plt.show()"
      ]
    },
    {
      "cell_type": "code",
      "execution_count": 30,
      "metadata": {
        "colab": {
          "base_uri": "https://localhost:8080/"
        },
        "id": "rjeKRYm1p5R-",
        "outputId": "b85d13d9-c140-43ed-abf1-d3a2104efa36"
      },
      "outputs": [
        {
          "output_type": "stream",
          "name": "stdout",
          "text": [
            "Коэффициент корреляции между отзывами пользователей и продажами: 0.12669133936341712\n"
          ]
        }
      ],
      "source": [
        "# Коэффициент корреляции между отзывами пользователей и продажами\n",
        "print(\"Коэффициент корреляции между отзывами пользователей и продажами:\", \\\n",
        "    df_games_ps3u['user_score'].corr(df_games_ps3u['total_sales']))"
      ]
    },
    {
      "cell_type": "markdown",
      "metadata": {
        "id": "b0uDgGKCp5R-"
      },
      "source": [
        "Корреляция в 0.12 говорит, что скорее всего, особой связи между оценкой пользователей  и продажами нет. То есть, покупатели больше прислушиваются к отзывам критиков.\n",
        "\n",
        "Посчитаю корреляции для других платформ"
      ]
    },
    {
      "cell_type": "code",
      "execution_count": 31,
      "metadata": {
        "colab": {
          "base_uri": "https://localhost:8080/",
          "height": 332
        },
        "id": "nttLtA5wp5R_",
        "outputId": "443453c3-364d-48b9-d07b-bf255b8fe2c2"
      },
      "outputs": [
        {
          "output_type": "execute_result",
          "data": {
            "text/plain": [
              "      sales_2016  corr_critic  corr_user\n",
              "PS4        69.25     0.406568  -0.031957\n",
              "XOne       26.15     0.416998  -0.068925\n",
              "3DS        15.14     0.349401   0.224808\n",
              "PC          5.25     0.256887   0.010476\n",
              "WiiU        4.60     0.348380   0.400219\n",
              "PSV         4.25     0.131517   0.013580\n",
              "PS3         3.60     0.432432   0.126691\n",
              "X360        1.52     0.393736   0.114459\n",
              "Wii         0.18     0.177560   0.112414"
            ],
            "text/html": [
              "\n",
              "  <div id=\"df-6aa15e2b-9243-4116-a268-01bae29cf584\">\n",
              "    <div class=\"colab-df-container\">\n",
              "      <div>\n",
              "<style scoped>\n",
              "    .dataframe tbody tr th:only-of-type {\n",
              "        vertical-align: middle;\n",
              "    }\n",
              "\n",
              "    .dataframe tbody tr th {\n",
              "        vertical-align: top;\n",
              "    }\n",
              "\n",
              "    .dataframe thead th {\n",
              "        text-align: right;\n",
              "    }\n",
              "</style>\n",
              "<table border=\"1\" class=\"dataframe\">\n",
              "  <thead>\n",
              "    <tr style=\"text-align: right;\">\n",
              "      <th></th>\n",
              "      <th>sales_2016</th>\n",
              "      <th>corr_critic</th>\n",
              "      <th>corr_user</th>\n",
              "    </tr>\n",
              "  </thead>\n",
              "  <tbody>\n",
              "    <tr>\n",
              "      <th>PS4</th>\n",
              "      <td>69.25</td>\n",
              "      <td>0.406568</td>\n",
              "      <td>-0.031957</td>\n",
              "    </tr>\n",
              "    <tr>\n",
              "      <th>XOne</th>\n",
              "      <td>26.15</td>\n",
              "      <td>0.416998</td>\n",
              "      <td>-0.068925</td>\n",
              "    </tr>\n",
              "    <tr>\n",
              "      <th>3DS</th>\n",
              "      <td>15.14</td>\n",
              "      <td>0.349401</td>\n",
              "      <td>0.224808</td>\n",
              "    </tr>\n",
              "    <tr>\n",
              "      <th>PC</th>\n",
              "      <td>5.25</td>\n",
              "      <td>0.256887</td>\n",
              "      <td>0.010476</td>\n",
              "    </tr>\n",
              "    <tr>\n",
              "      <th>WiiU</th>\n",
              "      <td>4.60</td>\n",
              "      <td>0.348380</td>\n",
              "      <td>0.400219</td>\n",
              "    </tr>\n",
              "    <tr>\n",
              "      <th>PSV</th>\n",
              "      <td>4.25</td>\n",
              "      <td>0.131517</td>\n",
              "      <td>0.013580</td>\n",
              "    </tr>\n",
              "    <tr>\n",
              "      <th>PS3</th>\n",
              "      <td>3.60</td>\n",
              "      <td>0.432432</td>\n",
              "      <td>0.126691</td>\n",
              "    </tr>\n",
              "    <tr>\n",
              "      <th>X360</th>\n",
              "      <td>1.52</td>\n",
              "      <td>0.393736</td>\n",
              "      <td>0.114459</td>\n",
              "    </tr>\n",
              "    <tr>\n",
              "      <th>Wii</th>\n",
              "      <td>0.18</td>\n",
              "      <td>0.177560</td>\n",
              "      <td>0.112414</td>\n",
              "    </tr>\n",
              "  </tbody>\n",
              "</table>\n",
              "</div>\n",
              "      <button class=\"colab-df-convert\" onclick=\"convertToInteractive('df-6aa15e2b-9243-4116-a268-01bae29cf584')\"\n",
              "              title=\"Convert this dataframe to an interactive table.\"\n",
              "              style=\"display:none;\">\n",
              "        \n",
              "  <svg xmlns=\"http://www.w3.org/2000/svg\" height=\"24px\"viewBox=\"0 0 24 24\"\n",
              "       width=\"24px\">\n",
              "    <path d=\"M0 0h24v24H0V0z\" fill=\"none\"/>\n",
              "    <path d=\"M18.56 5.44l.94 2.06.94-2.06 2.06-.94-2.06-.94-.94-2.06-.94 2.06-2.06.94zm-11 1L8.5 8.5l.94-2.06 2.06-.94-2.06-.94L8.5 2.5l-.94 2.06-2.06.94zm10 10l.94 2.06.94-2.06 2.06-.94-2.06-.94-.94-2.06-.94 2.06-2.06.94z\"/><path d=\"M17.41 7.96l-1.37-1.37c-.4-.4-.92-.59-1.43-.59-.52 0-1.04.2-1.43.59L10.3 9.45l-7.72 7.72c-.78.78-.78 2.05 0 2.83L4 21.41c.39.39.9.59 1.41.59.51 0 1.02-.2 1.41-.59l7.78-7.78 2.81-2.81c.8-.78.8-2.07 0-2.86zM5.41 20L4 18.59l7.72-7.72 1.47 1.35L5.41 20z\"/>\n",
              "  </svg>\n",
              "      </button>\n",
              "      \n",
              "  <style>\n",
              "    .colab-df-container {\n",
              "      display:flex;\n",
              "      flex-wrap:wrap;\n",
              "      gap: 12px;\n",
              "    }\n",
              "\n",
              "    .colab-df-convert {\n",
              "      background-color: #E8F0FE;\n",
              "      border: none;\n",
              "      border-radius: 50%;\n",
              "      cursor: pointer;\n",
              "      display: none;\n",
              "      fill: #1967D2;\n",
              "      height: 32px;\n",
              "      padding: 0 0 0 0;\n",
              "      width: 32px;\n",
              "    }\n",
              "\n",
              "    .colab-df-convert:hover {\n",
              "      background-color: #E2EBFA;\n",
              "      box-shadow: 0px 1px 2px rgba(60, 64, 67, 0.3), 0px 1px 3px 1px rgba(60, 64, 67, 0.15);\n",
              "      fill: #174EA6;\n",
              "    }\n",
              "\n",
              "    [theme=dark] .colab-df-convert {\n",
              "      background-color: #3B4455;\n",
              "      fill: #D2E3FC;\n",
              "    }\n",
              "\n",
              "    [theme=dark] .colab-df-convert:hover {\n",
              "      background-color: #434B5C;\n",
              "      box-shadow: 0px 1px 3px 1px rgba(0, 0, 0, 0.15);\n",
              "      filter: drop-shadow(0px 1px 2px rgba(0, 0, 0, 0.3));\n",
              "      fill: #FFFFFF;\n",
              "    }\n",
              "  </style>\n",
              "\n",
              "      <script>\n",
              "        const buttonEl =\n",
              "          document.querySelector('#df-6aa15e2b-9243-4116-a268-01bae29cf584 button.colab-df-convert');\n",
              "        buttonEl.style.display =\n",
              "          google.colab.kernel.accessAllowed ? 'block' : 'none';\n",
              "\n",
              "        async function convertToInteractive(key) {\n",
              "          const element = document.querySelector('#df-6aa15e2b-9243-4116-a268-01bae29cf584');\n",
              "          const dataTable =\n",
              "            await google.colab.kernel.invokeFunction('convertToInteractive',\n",
              "                                                     [key], {});\n",
              "          if (!dataTable) return;\n",
              "\n",
              "          const docLinkHtml = 'Like what you see? Visit the ' +\n",
              "            '<a target=\"_blank\" href=https://colab.research.google.com/notebooks/data_table.ipynb>data table notebook</a>'\n",
              "            + ' to learn more about interactive tables.';\n",
              "          element.innerHTML = '';\n",
              "          dataTable['output_type'] = 'display_data';\n",
              "          await google.colab.output.renderOutput(dataTable, element);\n",
              "          const docLink = document.createElement('div');\n",
              "          docLink.innerHTML = docLinkHtml;\n",
              "          element.appendChild(docLink);\n",
              "        }\n",
              "      </script>\n",
              "    </div>\n",
              "  </div>\n",
              "  "
            ]
          },
          "metadata": {},
          "execution_count": 31
        }
      ],
      "source": [
        "# посчитаю корреляции для других платформ\n",
        "df_temp1 = df_games[['platform', 'critic_score', 'user_score', 'total_sales']]\n",
        "\n",
        "# строки с ненулевыми оценками критиков\n",
        "df_temp2 = df_temp1[df_temp1['critic_score'] > 0]\n",
        "# вычисления корреляции добавлю в таблицу на основе продающихся в 2016 году платформ\n",
        "df_platforms_2016 = pd.DataFrame(ser_platforms_2016).rename(columns={2016:\"sales_2016\"})\n",
        "corr_lst = []\n",
        "# корреляция по платформам\n",
        "for pl in df_platforms_2016.index: \n",
        "    df_temp3 = df_temp2[df_temp2['platform'] == pl]\n",
        "    corr_lst.append(df_temp3['critic_score'].corr(df_temp3['total_sales']))\n",
        "df_platforms_2016['corr_critic'] = corr_lst\n",
        "\n",
        "# строки с ненулевыми оценками пользователей \n",
        "df_temp2 = df_temp1[df_temp1['user_score'] > 0]\n",
        "# df_platforms_2016 = pd.DataFrame(ser_platforms_2016).rename(columns={2016:\"sales_2016\"})\n",
        "corr_lst = []\n",
        "# корреляция по платформам\n",
        "for pl in df_platforms_2016.index: \n",
        "    df_temp3 = df_temp2[df_temp2['platform'] == pl]\n",
        "    corr_lst.append(df_temp3['user_score'].corr(df_temp3['total_sales']))\n",
        "df_platforms_2016['corr_user'] = corr_lst\n",
        "\n",
        "df_platforms_2016"
      ]
    },
    {
      "cell_type": "markdown",
      "metadata": {
        "id": "kZ4ltax9p5R_"
      },
      "source": [
        "Похожие результаты получаются и для других платформ. Выделяются платформы WII и 3DS, по которым зависимость не такая большая. \n",
        "\n",
        "**Вывод:** связь между оценкой критиков и продажами гораздо сильнее связи между оценкой пользователей и продажами. Покупатели больше прислушиваются к отзывам критиков."
      ]
    },
    {
      "cell_type": "markdown",
      "metadata": {
        "id": "xLInbzLtp5SA"
      },
      "source": [
        "### Распределение игр по жанрам\n",
        "Посмотрим на общее распределение игр по жанрам: самые прибыльные жанры, жанры с высокими и низкими продажами."
      ]
    },
    {
      "cell_type": "code",
      "execution_count": 32,
      "metadata": {
        "colab": {
          "base_uri": "https://localhost:8080/",
          "height": 564
        },
        "id": "HwVqkKZ_p5SB",
        "outputId": "a3accfb9-7e19-4844-b324-6ca00c13e193"
      },
      "outputs": [
        {
          "output_type": "display_data",
          "data": {
            "text/plain": [
              "<Figure size 864x576 with 1 Axes>"
            ],
            "image/png": "[encoded data removed]"
          },
          "metadata": {
            "needs_background": "light"
          }
        }
      ],
      "source": [
        "# группировка игр по жанрам, подсчет количества игр, общих, средних и медианных продаж 2014-2016гг \n",
        "df_genres = df_games_modern.groupby('genre').agg({'name': 'count', 'total_sales': ['sum', 'mean', 'median']})\n",
        "# удалю мультииндекс\n",
        "df_genres.columns = df_genres.columns.droplevel()\n",
        "# полученные значения отличаются в сотни раз, поэтому изображу их на разных графиках\n",
        "# столбчатая диаграмма для количества игр на платформе и общей суммы продаж \n",
        "df_genres[['count', 'sum']].plot.bar(figsize=(12, 8))\n",
        "plt.title('Распределение игр по жанрам')\n",
        "plt.xlabel('Жанры')\n",
        "plt.ylabel('Количество')\n",
        "plt.show()"
      ]
    },
    {
      "cell_type": "code",
      "execution_count": 33,
      "metadata": {
        "colab": {
          "base_uri": "https://localhost:8080/"
        },
        "id": "EnOP_Tdfp5SB",
        "outputId": "4b4ba87e-20e8-4c6c-aa4c-ebb9db4278b7"
      },
      "outputs": [
        {
          "output_type": "execute_result",
          "data": {
            "text/plain": [
              "genre\n",
              "Action          619\n",
              "Role-Playing    221\n",
              "Adventure       185\n",
              "Sports          161\n",
              "Shooter         128\n",
              "Misc            113\n",
              "Racing           69\n",
              "Fighting         60\n",
              "Simulation       44\n",
              "Platform         38\n",
              "Strategy         37\n",
              "Puzzle           14\n",
              "Name: count, dtype: int64"
            ]
          },
          "metadata": {},
          "execution_count": 33
        }
      ],
      "source": [
        "# количество выпущенных игр по жанрам\n",
        "df_genres['count'].sort_values(ascending=False)"
      ]
    },
    {
      "cell_type": "markdown",
      "metadata": {
        "id": "UudAqK6cp5SC"
      },
      "source": [
        "По количеству игр на рынке 2014-2016 с большим отрывом лидирует жанр Action. Затем идут Role-Playing, Adventure и Sports.\n",
        "\n",
        "Аутсайдеры: Puzzle, Strategy, Simulation, Platform."
      ]
    },
    {
      "cell_type": "code",
      "execution_count": 34,
      "metadata": {
        "colab": {
          "base_uri": "https://localhost:8080/"
        },
        "id": "_cFdMtMkp5SC",
        "outputId": "d843c024-750b-4e2d-9f42-b91756b70328"
      },
      "outputs": [
        {
          "output_type": "execute_result",
          "data": {
            "text/plain": [
              "genre\n",
              "Action          199.36\n",
              "Shooter         170.94\n",
              "Sports          109.48\n",
              "Role-Playing    101.44\n",
              "Misc             37.55\n",
              "Fighting         28.22\n",
              "Racing           27.52\n",
              "Platform         18.09\n",
              "Adventure        17.55\n",
              "Simulation       13.13\n",
              "Strategy          3.96\n",
              "Puzzle            2.21\n",
              "Name: sum, dtype: float64"
            ]
          },
          "metadata": {},
          "execution_count": 34
        }
      ],
      "source": [
        "# количество проданных копий игр по жанрам\n",
        "df_genres['sum'].sort_values(ascending=False)"
      ]
    },
    {
      "cell_type": "markdown",
      "metadata": {
        "id": "SRuSJwnBp5SD"
      },
      "source": [
        "По количеству проданных копий лидеры: Action, Shooters, Sports, Role-Playing. \n",
        "\n",
        "Аутсайдеры те же: Puzzle, Strategy, Simulation."
      ]
    },
    {
      "cell_type": "code",
      "execution_count": 35,
      "metadata": {
        "colab": {
          "base_uri": "https://localhost:8080/",
          "height": 564
        },
        "id": "-y8BCYh2p5SD",
        "outputId": "70cb4d4c-576d-4ea8-b8ed-eaaf02b9f1a7"
      },
      "outputs": [
        {
          "output_type": "display_data",
          "data": {
            "text/plain": [
              "<Figure size 864x576 with 1 Axes>"
            ],
            "image/png": "[encoded data removed]"
          },
          "metadata": {
            "needs_background": "light"
          }
        }
      ],
      "source": [
        "# средние и медианные продажи по жанрам\n",
        "df_genres[['mean', 'median']].plot.bar(figsize=(12, 8))\n",
        "plt.title('Средние и медианные продажи игр по жанрам')\n",
        "plt.xlabel('Жанры')\n",
        "plt.ylabel('Количество')\n",
        "plt.show()"
      ]
    },
    {
      "cell_type": "code",
      "execution_count": 36,
      "metadata": {
        "colab": {
          "base_uri": "https://localhost:8080/"
        },
        "id": "j_YuArWmp5SE",
        "outputId": "45575bed-a700-46e3-80cd-7bb6841ac9f7"
      },
      "outputs": [
        {
          "output_type": "execute_result",
          "data": {
            "text/plain": [
              "genre\n",
              "Shooter         1.335469\n",
              "Sports          0.680000\n",
              "Platform        0.476053\n",
              "Fighting        0.470333\n",
              "Role-Playing    0.459005\n",
              "Racing          0.398841\n",
              "Misc            0.332301\n",
              "Action          0.322068\n",
              "Simulation      0.298409\n",
              "Puzzle          0.157857\n",
              "Strategy        0.107027\n",
              "Adventure       0.094865\n",
              "Name: mean, dtype: float64"
            ]
          },
          "metadata": {},
          "execution_count": 36
        }
      ],
      "source": [
        "# средние продажи по жанрам\n",
        "df_genres['mean'].sort_values(ascending=False)"
      ]
    },
    {
      "cell_type": "code",
      "execution_count": 37,
      "metadata": {
        "colab": {
          "base_uri": "https://localhost:8080/"
        },
        "id": "up1o46gCp5SF",
        "outputId": "8188cee1-a552-4ac5-b709-7e5358955c4d"
      },
      "outputs": [
        {
          "output_type": "execute_result",
          "data": {
            "text/plain": [
              "genre\n",
              "Shooter         0.515\n",
              "Sports          0.180\n",
              "Platform        0.140\n",
              "Fighting        0.125\n",
              "Role-Playing    0.110\n",
              "Simulation      0.100\n",
              "Action          0.090\n",
              "Misc            0.090\n",
              "Racing          0.090\n",
              "Strategy        0.060\n",
              "Puzzle          0.045\n",
              "Adventure       0.030\n",
              "Name: median, dtype: float64"
            ]
          },
          "metadata": {},
          "execution_count": 37
        }
      ],
      "source": [
        "# медианные продажи по жанрам\n",
        "df_genres['median'].sort_values(ascending=False)"
      ]
    },
    {
      "cell_type": "markdown",
      "metadata": {
        "id": "hozxmLtSp5SG"
      },
      "source": [
        "Жанр Shooter - абсолютный лидер по средним продажам в 2014-2016 годах - 1.33 млн.копий. Далее следуют жанры Sports 0.68 млн.копий, Platform 0.47 млн.копий. Эти же жанры лидируют в медианных продажах. Аутсайдеры: Strategy, Puzzle, \n",
        "Adventure.\n",
        "\n",
        "Таким образом, самые прибыльные жанры 2014-2016: Shooter, Sports, Platform."
      ]
    },
    {
      "cell_type": "markdown",
      "metadata": {
        "id": "I-pWwtF5p5SI"
      },
      "source": [
        "## Портрет пользователя каждого региона\n",
        "Определю для пользователя каждого региона (NA, EU, JP) самые популярные платформы (топ-5). посмотрю на различия в долях продаж."
      ]
    },
    {
      "cell_type": "code",
      "execution_count": 38,
      "metadata": {
        "id": "DL6PZgx6p5SI"
      },
      "outputs": [],
      "source": [
        "# продажи по платформам в разных регионах\n",
        "df_games_na = df_games_modern.groupby('platform')['na_sales'].sum().sort_values(ascending=False)\n",
        "df_games_eu = df_games_modern.groupby('platform')['eu_sales'].sum() #.sort_values(ascending=False)\n",
        "df_games_jp = df_games_modern.groupby('platform')['jp_sales'].sum() #.sort_values(ascending=False)"
      ]
    },
    {
      "cell_type": "code",
      "execution_count": 39,
      "metadata": {
        "colab": {
          "base_uri": "https://localhost:8080/",
          "height": 295
        },
        "id": "Pfe3gG8np5SJ",
        "outputId": "3e74802f-4404-4789-d986-cd5d8faf4ba1"
      },
      "outputs": [
        {
          "output_type": "display_data",
          "data": {
            "text/plain": [
              "<Figure size 432x288 with 1 Axes>"
            ],
            "image/png": "[encoded data removed]"
          },
          "metadata": {
            "needs_background": "light"
          }
        }
      ],
      "source": [
        "# лидеры продаж в Северной Америке\n",
        "df_games_na5 = df_games_na.head(5)\n",
        "#df_games_na5\n",
        "plt.bar(df_games_na5.index, df_games_na5.values)\n",
        "plt.title('Продажи в Северной Америке')\n",
        "plt.xlabel('Платформы')\n",
        "plt.ylabel('Миллионы копий')\n",
        "plt.show()"
      ]
    },
    {
      "cell_type": "code",
      "execution_count": 40,
      "metadata": {
        "colab": {
          "base_uri": "https://localhost:8080/",
          "height": 295
        },
        "id": "dIvRCC1wp5SK",
        "outputId": "211ce0a2-5b13-4845-e431-bf408b1493ca"
      },
      "outputs": [
        {
          "output_type": "display_data",
          "data": {
            "text/plain": [
              "<Figure size 432x288 with 1 Axes>"
            ],
            "image/png": "[encoded data removed]"
          },
          "metadata": {
            "needs_background": "light"
          }
        }
      ],
      "source": [
        "# лидеры продаж в Европе\n",
        "df_games_eu5 = df_games_eu.sort_values(ascending=False).head(5)\n",
        "plt.bar(df_games_eu5.index, df_games_eu5.values)\n",
        "plt.title('Продажи в Европе')\n",
        "plt.xlabel('Платформы')\n",
        "plt.ylabel('Миллионы копий')\n",
        "plt.show()"
      ]
    },
    {
      "cell_type": "code",
      "execution_count": 41,
      "metadata": {
        "colab": {
          "base_uri": "https://localhost:8080/",
          "height": 295
        },
        "id": "Exk-xT7_p5SK",
        "outputId": "c05b8da2-44d0-4475-ab17-30546d2fefa0"
      },
      "outputs": [
        {
          "output_type": "display_data",
          "data": {
            "text/plain": [
              "<Figure size 432x288 with 1 Axes>"
            ],
            "image/png": "[encoded data removed]"
          },
          "metadata": {
            "needs_background": "light"
          }
        }
      ],
      "source": [
        "# лидеры продаж в Японии\n",
        "df_games_jp5 = df_games_jp.sort_values(ascending=False).head(5)\n",
        "plt.bar(df_games_jp5.index, df_games_jp5.values)\n",
        "plt.title('Продажи Японии')\n",
        "plt.xlabel('Платформы')\n",
        "plt.ylabel('Миллионы копий')\n",
        "plt.show()"
      ]
    },
    {
      "cell_type": "code",
      "execution_count": 42,
      "metadata": {
        "colab": {
          "base_uri": "https://localhost:8080/",
          "height": 421
        },
        "id": "v1NoZzJUp5SL",
        "outputId": "6ae86a45-20e8-48c0-d402-818762e6634b"
      },
      "outputs": [
        {
          "output_type": "display_data",
          "data": {
            "text/plain": [
              "<Figure size 864x432 with 1 Axes>"
            ],
            "image/png": "[encoded data removed]"
          },
          "metadata": {
            "needs_background": "light"
          }
        }
      ],
      "source": [
        "# Посмотрю на одном графике\n",
        "df = pd.concat([df_games_na5, df_games_eu5, df_games_jp5], axis=1)\n",
        "df.plot.bar(figsize=(12, 6))\n",
        "plt.title('Топ-5 популярных платформ по регионам')\n",
        "plt.xlabel('Платформы')\n",
        "plt.ylabel('Миллионы копий')\n",
        "plt.legend(['Северная Америка', 'Европа', 'Япония'])\n",
        "plt.show()"
      ]
    },
    {
      "cell_type": "markdown",
      "metadata": {
        "id": "bGSXMwaxp5SL"
      },
      "source": [
        "Интересно, что в разных регионах разные лидеры. Самые популярные платформы\n",
        "* в Северной Америке PS4, XOne, X360, 3DS, PS3\n",
        "* в Европе PS4, XOne, PS3, PC, 3DS  \n",
        "* в Японии 3DS, PS4, PSV, PS3, WiiU.\n",
        "\n",
        "Популярная в Северной Америке и в Европе XOne не вошли в топ в Японии. И наоборот, популярная в Японии 3DS мало известна в Северной Америке и Европе. Успешнее всех на рынке платформа PS3, PS4. Она - лидер по всему миру. По количеству проданных копий лидирует Европа."
      ]
    },
    {
      "cell_type": "markdown",
      "metadata": {
        "id": "DyvZ0-byp5SM"
      },
      "source": [
        "### Популярные жанры\n",
        "Самые популярные жанры (топ-5)."
      ]
    },
    {
      "cell_type": "code",
      "execution_count": 43,
      "metadata": {
        "colab": {
          "base_uri": "https://localhost:8080/",
          "height": 456
        },
        "id": "w6tDFng7p5SM",
        "outputId": "76028289-b91e-4131-e1a5-cc4e87b6f13c"
      },
      "outputs": [
        {
          "output_type": "display_data",
          "data": {
            "text/plain": [
              "<Figure size 864x432 with 1 Axes>"
            ],
            "image/png": "[encoded data removed]"
          },
          "metadata": {
            "needs_background": "light"
          }
        }
      ],
      "source": [
        "# продажи по жанрам в разных регионах\n",
        "df_genre_na = df_games_modern.groupby('genre')['na_sales'].sum().sort_values(ascending=False).head(5)\n",
        "df_genre_eu = df_games_modern.groupby('genre')['eu_sales'].sum().sort_values(ascending=False).head(5)\n",
        "df_genre_jp = df_games_modern.groupby('genre')['jp_sales'].sum().sort_values(ascending=False).head(5)\n",
        "# график\n",
        "df = pd.concat([df_genre_na, df_genre_eu, df_genre_jp], axis=1)\n",
        "df.plot.bar(figsize=(12, 6))\n",
        "plt.title('Топ-5 популярных жанров по регионам')\n",
        "plt.legend(['Северная Америка', 'Европа', 'Япония'])\n",
        "plt.xlabel('Жанры')\n",
        "plt.ylabel('Миллионы копий')\n",
        "plt.show()"
      ]
    },
    {
      "cell_type": "markdown",
      "metadata": {
        "id": "X82fJn1pp5SN"
      },
      "source": [
        "Североамериканские и европейские предпочтения жанров почти совпадают: Shooter, Action, Sports, Role-Playing. Первые выбирают Misc, а вторые любят Rasing, который не входит больше нигде в топ-5.\n",
        "\n",
        "Самые популярные жанры в Японии: Role-Playing, Action, Fighting, Misc, Shooter."
      ]
    },
    {
      "cell_type": "markdown",
      "metadata": {
        "id": "wrvX8eX6p5SN"
      },
      "source": [
        "### Влияние ли рейтинга ESRB на продажи"
      ]
    },
    {
      "cell_type": "code",
      "execution_count": 44,
      "metadata": {
        "colab": {
          "base_uri": "https://localhost:8080/"
        },
        "id": "lnW3us2Ip5SO",
        "outputId": "4c67af08-b828-41f9-951a-5d578ab871e2"
      },
      "outputs": [
        {
          "output_type": "execute_result",
          "data": {
            "text/plain": [
              "array(['M', 'E', 'T', 'E10+'], dtype=object)"
            ]
          },
          "metadata": {},
          "execution_count": 44
        }
      ],
      "source": [
        "# Все значения рейтинга ESRB\n",
        "df_games_modern['rating'].dropna().unique()"
      ]
    },
    {
      "cell_type": "markdown",
      "metadata": {
        "id": "o35-ZB7ap5SO"
      },
      "source": [
        "Расшифровка обозначений рейтинга ESRB:\n",
        "* «EC» — «Для детей младшего возраста»\n",
        "* «E», «K-A» — «Для всех» или от 6 лет \n",
        "* «E10+» — «Для всех от 10 лет и старше»\n",
        "* «T» — «Подросткам» от 13 лет\n",
        "* «M» — «Для взрослых» старше 17 лет \n",
        "* «AO» — «Только для взрослых» старше 18 лет \n",
        "* «RP» — «Рейтинг ожидается»\n",
        "\n",
        "«K-A» - первоначальное названия рейтинга «E». В данных присутствуют оба обозначения. Заменю на \"E\".\n",
        "\n",
        "«RP» — «Рейтинг ожидается» дает нам не больше информации, чем пропущенные значения. Заменю пропуски этим значением. Кроме того составлю словарь, который поможет в расшифровке рейтинга ESRB."
      ]
    },
    {
      "cell_type": "code",
      "execution_count": 45,
      "metadata": {
        "id": "gDVBlesyp5SP"
      },
      "outputs": [],
      "source": [
        "# замена устаревших значений K-A на E в столбце с рейтингом ESRB\n",
        "#df_games.loc[df_games['rating'] == 'K-A', 'rating'] = 'E'\n",
        "# замена пропусков в столбце с рейтингом ESRB на RP\n",
        "#df_games.loc[df_games['rating'].isna(), 'rating'] = 'RP'\n",
        "df_games_modern.loc[df_games_modern['rating'].isna(), 'rating'] = 'RP'"
      ]
    },
    {
      "cell_type": "code",
      "execution_count": 46,
      "metadata": {
        "id": "O0tsv8eKp5SQ"
      },
      "outputs": [],
      "source": [
        "# словарь-расшифровка рейтинга ESRB.\n",
        "dict_rating = {'E': 'Для всех',\n",
        "               'EC': 'от 0', \n",
        "               'M': 'от 17', \n",
        "               'T': 'от 13', \n",
        "               'E10+': 'от 10', \n",
        "               'AO': 'от 18', \n",
        "               'RP': 'не опр.'}\n",
        "df_games_modern['rating'] = df_games_modern['rating'].map(dict_rating)\n",
        "#df_games['rating']"
      ]
    },
    {
      "cell_type": "code",
      "execution_count": 47,
      "metadata": {
        "colab": {
          "base_uri": "https://localhost:8080/",
          "height": 441
        },
        "id": "pVm8aJUWp5SQ",
        "outputId": "a96a7839-94ff-4e00-d7bd-0caa8e0a846c"
      },
      "outputs": [
        {
          "output_type": "display_data",
          "data": {
            "text/plain": [
              "<Figure size 864x432 with 1 Axes>"
            ],
            "image/png": "[encoded data removed]"
          },
          "metadata": {
            "needs_background": "light"
          }
        }
      ],
      "source": [
        "# продажи по рейтингу ESRB в разных регионах\n",
        "df_rating_na = df_games_modern.groupby('rating')['na_sales'].sum().sort_values(ascending=False).head(5)\n",
        "df_rating_eu = df_games_modern.groupby('rating')['eu_sales'].sum().sort_values(ascending=False).head(5)\n",
        "df_rating_jp = df_games_modern.groupby('rating')['jp_sales'].sum().sort_values(ascending=False).head(5)\n",
        "# график\n",
        "df1 = pd.concat([df_rating_na, df_rating_eu, df_rating_jp], axis=1)\n",
        "df1.plot.bar(figsize=(12, 6))\n",
        "plt.title('Топ-5 продаж игр по рейтингу ESRB по регионам')\n",
        "plt.legend(['Северная Америка', 'Европа', 'Япония'])\n",
        "plt.xlabel('Рейтинг')\n",
        "plt.ylabel('Миллионы копий')\n",
        "plt.show()"
      ]
    },
    {
      "cell_type": "markdown",
      "metadata": {
        "id": "qgDso-lgp5SR"
      },
      "source": [
        "В 2014-2016 годах в Северной Америке и Европе распределение продаж по рейтингу игр почти одинаково. Большая часть продаваемых с игр имеет рейтинг \"от 17\", немного отстают продажи игр с \"неопределенным\" рейтингом. Далее идут продажи игр \"Для всех\", \"от 13\" и \"от 10\".\n",
        "\n",
        "В Японии на первом месте продажи игр с \"неопределенным\" рейтингом. Затем \"от 13\", \"Для всех\", \"от 17\" и \"от 10\". "
      ]
    },
    {
      "cell_type": "markdown",
      "metadata": {
        "id": "XzP02wRbp5SU"
      },
      "source": [
        "## Проверка гипотез\n",
        "### Гипотеза 1. Средние пользовательские рейтинги платформ Xbox One и PC одинаковые\n",
        "Cформулирую нулевую гипотезу H₀: средние пользовательские рейтинги платформ Xbox One и PC равны. Альтернативная гипотеза H₁: средние пользовательские рейтинги платформ Xbox One и PC различаются.\n",
        "\n",
        "Воспользуюсь методом для проверки гипотезы о равенстве среднего двух генеральных совокупностей по взятым из них выборкам: scipy.stats.ttest_ind. Пороговое значение alpha задам 0.05."
      ]
    },
    {
      "cell_type": "code",
      "execution_count": 48,
      "metadata": {
        "id": "2PwH4typp5SU"
      },
      "outputs": [],
      "source": [
        "# срез данных: платформа XOne и ненулевые оценки пользователей  \n",
        "df_games_xone = df_games_modern.query('platform == \"XOne\"')\n",
        "df_user_xone = df_games_xone.query('user_score > 0')\n",
        "user_xone = df_user_xone['user_score']\n",
        "\n",
        "# срез данных: платформа PC и ненулевые оценки пользователей\n",
        "df_games_pc = df_games_modern.query('platform == \"PC\"')\n",
        "df_user_pc = df_games_pc.query('user_score > 0')\n",
        "user_pc = df_user_pc['user_score']"
      ]
    },
    {
      "cell_type": "code",
      "execution_count": 49,
      "metadata": {
        "colab": {
          "base_uri": "https://localhost:8080/"
        },
        "id": "jkSE8rHZp5SV",
        "outputId": "fa6935f8-0051-4c4e-8520-82e54470d2f7"
      },
      "outputs": [
        {
          "output_type": "stream",
          "name": "stdout",
          "text": [
            "Гипотеза H₀: средние пользовательские рейтинги платформ Xbox One и PC равны.\n",
            "p-значение: 0.11601398086668827\n",
            "Не получилось отвергнуть нулевую гипотезу\n"
          ]
        }
      ],
      "source": [
        "# проверка гипотезы о равенстве средних двух независимых совокупностей\n",
        "# критический уровень статистической значимости\n",
        "alpha = 0.05 \n",
        "# если p-value окажется меньше него - отвегнем гипотезу\n",
        "\n",
        "results = st.ttest_ind(\n",
        "    user_xone, \n",
        "    user_pc,\n",
        "    equal_var = False,  # дисперсии не равны\n",
        "    nan_policy='omit') # игнорировать NaN\n",
        "\n",
        "print('Гипотеза H₀: средние пользовательские рейтинги платформ Xbox One и PC равны.')\n",
        "print('p-значение:', results.pvalue)\n",
        "\n",
        "if results.pvalue < alpha:\n",
        "    print(\"Отвергаем нулевую гипотезу\")\n",
        "else:\n",
        "    print(\"Не получилось отвергнуть нулевую гипотезу\") "
      ]
    },
    {
      "cell_type": "markdown",
      "metadata": {
        "id": "-nvAlHmpp5SW"
      },
      "source": [
        "То есть вероятность получить наблюдаемые средние пользовательские рейтинги платформ Xbox One и PC совершенно случайно при условии, что нулевая гипотеза верна, равна 0,11. Что достаточно вероятно. Поэтому предположение о равенстве средних пользовательских рейтингов платформ Xbox One и PC не отвергнуто."
      ]
    },
    {
      "cell_type": "markdown",
      "metadata": {
        "id": "r01Rq23Cp5SW"
      },
      "source": [
        "### Гипотеза 2. Средние пользовательские рейтинги жанров Action (англ. «действие», экшен-игры) и Sports (англ. «спортивные соревнования») разные.\n",
        "Cформулирую нулевую гипотезу H₀: средние пользовательские рейтинги жанров Action и Sports равны. Альтернативная гипотеза H₁: средние пользовательские рейтинги жанров Action и Sports различаются.\n",
        "\n",
        "Воспользуюсь методом для проверки гипотезы о равенстве среднего двух генеральных совокупностей по взятым из них выборкам: scipy.stats.ttest_ind. Пороговое значение alpha задам 0.05."
      ]
    },
    {
      "cell_type": "code",
      "execution_count": 50,
      "metadata": {
        "id": "751UQJ34p5SX"
      },
      "outputs": [],
      "source": [
        "# срез данных: жанр Action и ненулевые оценки пользователей  \n",
        "df_user_action = df_games_modern[(df_games_modern['genre'] == 'Action') & (df_games_modern['user_score'] > 0)].copy()\n",
        "user_action = df_user_action['user_score']\n",
        "\n",
        "# срез данных: жанр Sports и ненулевые оценки пользователей\n",
        "df_user_sports = df_games_modern[(df_games_modern['genre'] == 'Sports') & (df_games_modern['user_score'] > 0)].copy()\n",
        "user_sports = df_user_sports['user_score']"
      ]
    },
    {
      "cell_type": "code",
      "execution_count": 51,
      "metadata": {
        "colab": {
          "base_uri": "https://localhost:8080/"
        },
        "id": "LeE7BD9Up5SY",
        "outputId": "9ba318d1-58ea-4be6-e19d-79f69c2e2fdf"
      },
      "outputs": [
        {
          "output_type": "stream",
          "name": "stdout",
          "text": [
            "Гипотеза H₀: средние пользовательские рейтинги жанров Action и Sports равны.\n",
            "p-значение: 1.1825550382644557e-14\n",
            "Отвергаем нулевую гипотезу\n"
          ]
        }
      ],
      "source": [
        "# проверка гипотезы о равенстве средних двух независимых совокупностей\n",
        "# критический уровень статистической значимости\n",
        "alpha = 0.05 \n",
        "# если p-value окажется меньше него - отвегнем гипотезу\n",
        "\n",
        "results = st.ttest_ind(\n",
        "    user_action, \n",
        "    user_sports,\n",
        "    equal_var = False,  # дисперсии не равны\n",
        "    nan_policy='omit') # игнорировать NaN\n",
        "\n",
        "print('Гипотеза H₀: средние пользовательские рейтинги жанров Action и Sports равны.')\n",
        "print('p-значение:', results.pvalue)\n",
        "\n",
        "if results.pvalue < alpha:\n",
        "    print(\"Отвергаем нулевую гипотезу\")\n",
        "else:\n",
        "    print(\"Не получилось отвергнуть нулевую гипотезу\") "
      ]
    },
    {
      "cell_type": "markdown",
      "metadata": {
        "id": "Dl1nWy1ap5SY"
      },
      "source": [
        "P-value - это вероятность получить наблюдаемые средние пользовательские рейтинги жанров Action и Sports совершенно случайно при условии, что нулевая гипотеза верна. Полученная вероятность очень мала. Поэтому предположение о равенстве средних пользовательских рейтингов жанров Action и Sports отвергнуто."
      ]
    },
    {
      "cell_type": "markdown",
      "metadata": {
        "id": "65s-456vp5Sa"
      },
      "source": [
        "## Вывод\n",
        "В проведенном исследовала изучила мировой рынок компьютерных игр. Расчитала  суммарные продажи  во всех регионах. Изучила, сколько игр выпускалось в разные годы. В 2002 году произошел резкий рост продаж игр с 500 до 1400 млн копий и спад в 2010 году до 600 млн копий, связанный с распространением смартфонов.  \n",
        "\n",
        "По продажам за все время самыми успешными стали платформы с продажами в млн. копий:  \n",
        "* PS2     1255.77\n",
        "* X360     971.42\n",
        "* PS3      939.65\n",
        "* Wii      907.51\n",
        "* DS       806.12\n",
        "* PS       730.86\n",
        "\n",
        "Эти платформы заметно оторвались от остальных. Но их время уже прошло. Среднее время жизни одной платформы составляет 11 лет. Так как компьютерные игры - динамично меняющаяся индустрия, то актуальным для наблюдения можно определить период в 2-3 года: с 2014 по 2016 годы.\n",
        "\n",
        "В 2016 году больше всего продаж у платформ PS4, XOne, 3DS. График показывает, что количество проданных игр и для этих платформ снижается. Рынок игр падает. \n",
        "\n",
        "Расчеты показывают, что между оцекой критиков и продажами есть связь: чем выше оценка критиков, тем больше копий игры продано. В то время как оценка пользователей не влияет на продажи.\n",
        "\n",
        "В 2014-2016 выпущено больше всего игр в жанре Action. Затем идут Role-Playing, Shooter и Sports. Жанр Shooter - абсолютный лидер по средним продажам. Далее следуют жанры Sports и Role-Playing. Эти же жанры лидируют в медианных продажах. Аутсайдеры: Strategy, Puzzle, Misc. Таким образом, самые прибыльные жанры 2014-2016: Shooter, Sports, Role-Playing.\n",
        "\n",
        "В разных регионах разные лидеры. Самые популярные платформы:\n",
        "* в Северной Америке PS4, XOne, X360, 3DS, PS3\n",
        "* в Европе PS4, XOne, PS3, PC, 3DS\n",
        "* в Японии 3DS, PS4, PSV, PS3, WiiU.\n",
        "\n",
        "Успешнее всех на рынке платформа PS3, PS4. Она - лидер по всему миру. По количеству проданных копий лидирует Европа.\n",
        "\n",
        "Самые популярные жанры \n",
        "* в Северной Америке:  Shooter, Action, Sports, Role-Playing, Misc\n",
        "* в Европе: Shooter, Action, Sports, Role-Playing, Rasing \n",
        "* в Японии: Role-Playing, Action, Fighting, Misc, Shooter.\n",
        "\n",
        "Распределение продаж по рейтингу игр в Северной Америке и Европе одинаково: \"Для всех\", \"неопределен\", \"от 13\", \"от 17\" и \"от 10\".\n",
        "В Японии: \"неопределен\", \"Для всех\", \"от 13\", \"от 17\" и \"от 10\".\n",
        "\n",
        "Проверила следующие гипотезы:\n",
        "\n",
        "\"Средние пользовательские рейтинги платформ Xbox One и PC равны\". Гипотезу отвергнуть не получилось.\n",
        "\n",
        "Гипотеза \"Средние пользовательские рейтинги жанров Action и Sports равны.\" отвергнута."
      ]
    }
  ],
  "metadata": {
    "ExecuteTimeLog": [
      {
        "duration": 1253,
        "start_time": "2022-05-01T16:45:28.622Z"
      },
      {
        "duration": 231,
        "start_time": "2022-05-01T16:46:14.839Z"
      },
      {
        "duration": 293,
        "start_time": "2022-05-01T16:46:26.052Z"
      },
      {
        "duration": 1593,
        "start_time": "2022-05-01T16:50:10.738Z"
      },
      {
        "duration": 4,
        "start_time": "2022-05-01T16:57:24.126Z"
      },
      {
        "duration": 3,
        "start_time": "2022-05-01T17:13:33.807Z"
      },
      {
        "duration": 51,
        "start_time": "2022-05-01T17:13:33.813Z"
      },
      {
        "duration": 17,
        "start_time": "2022-05-01T17:13:33.866Z"
      },
      {
        "duration": 17,
        "start_time": "2022-05-01T17:13:33.886Z"
      },
      {
        "duration": 7,
        "start_time": "2022-05-01T17:13:33.905Z"
      },
      {
        "duration": 12,
        "start_time": "2022-05-01T17:13:33.914Z"
      },
      {
        "duration": 56,
        "start_time": "2022-05-01T17:13:33.927Z"
      },
      {
        "duration": 206,
        "start_time": "2022-05-01T17:13:33.985Z"
      },
      {
        "duration": 20,
        "start_time": "2022-05-01T17:13:34.195Z"
      },
      {
        "duration": 17,
        "start_time": "2022-05-01T17:13:34.217Z"
      },
      {
        "duration": 37,
        "start_time": "2022-05-01T17:13:34.236Z"
      },
      {
        "duration": 19,
        "start_time": "2022-05-01T17:13:34.275Z"
      },
      {
        "duration": 218,
        "start_time": "2022-05-01T17:13:34.297Z"
      },
      {
        "duration": 285,
        "start_time": "2022-05-01T17:13:34.517Z"
      },
      {
        "duration": 6,
        "start_time": "2022-05-01T17:13:34.804Z"
      },
      {
        "duration": 8,
        "start_time": "2022-05-01T17:13:34.812Z"
      },
      {
        "duration": 336,
        "start_time": "2022-05-01T17:13:34.822Z"
      },
      {
        "duration": 12,
        "start_time": "2022-05-01T17:13:35.160Z"
      },
      {
        "duration": 699,
        "start_time": "2022-05-01T17:13:35.174Z"
      },
      {
        "duration": 7,
        "start_time": "2022-05-01T17:13:35.875Z"
      },
      {
        "duration": 253,
        "start_time": "2022-05-01T17:13:35.885Z"
      },
      {
        "duration": 154,
        "start_time": "2022-05-01T17:13:36.139Z"
      },
      {
        "duration": 6,
        "start_time": "2022-05-01T17:13:36.295Z"
      },
      {
        "duration": 150,
        "start_time": "2022-05-01T17:13:36.303Z"
      },
      {
        "duration": 5,
        "start_time": "2022-05-01T17:13:36.455Z"
      },
      {
        "duration": 53,
        "start_time": "2022-05-01T17:13:36.461Z"
      },
      {
        "duration": 235,
        "start_time": "2022-05-01T17:13:36.516Z"
      },
      {
        "duration": 6,
        "start_time": "2022-05-01T17:13:36.753Z"
      },
      {
        "duration": 17,
        "start_time": "2022-05-01T17:13:36.760Z"
      },
      {
        "duration": 397,
        "start_time": "2022-05-01T17:13:36.779Z"
      },
      {
        "duration": 120,
        "start_time": "2022-05-01T17:13:37.178Z"
      },
      {
        "duration": 130,
        "start_time": "2022-05-01T17:13:37.300Z"
      },
      {
        "duration": 128,
        "start_time": "2022-05-01T17:13:37.432Z"
      },
      {
        "duration": 226,
        "start_time": "2022-05-01T17:13:37.562Z"
      },
      {
        "duration": 226,
        "start_time": "2022-05-01T17:13:37.790Z"
      },
      {
        "duration": 6,
        "start_time": "2022-05-01T17:13:38.019Z"
      },
      {
        "duration": 13,
        "start_time": "2022-05-01T17:13:38.027Z"
      },
      {
        "duration": 6,
        "start_time": "2022-05-01T17:13:38.042Z"
      },
      {
        "duration": 218,
        "start_time": "2022-05-01T17:13:38.050Z"
      },
      {
        "duration": 9,
        "start_time": "2022-05-01T17:13:38.272Z"
      },
      {
        "duration": 12,
        "start_time": "2022-05-01T17:13:38.283Z"
      },
      {
        "duration": 13,
        "start_time": "2022-05-01T17:13:38.297Z"
      },
      {
        "duration": 7,
        "start_time": "2022-05-01T17:13:38.312Z"
      },
      {
        "duration": 170,
        "start_time": "2022-05-01T17:17:02.324Z"
      },
      {
        "duration": 612,
        "start_time": "2022-05-01T17:17:20.156Z"
      },
      {
        "duration": 1165,
        "start_time": "2022-05-01T17:49:14.564Z"
      },
      {
        "duration": 131,
        "start_time": "2022-05-01T17:49:15.731Z"
      },
      {
        "duration": 23,
        "start_time": "2022-05-01T17:49:15.863Z"
      },
      {
        "duration": 21,
        "start_time": "2022-05-01T17:49:15.889Z"
      },
      {
        "duration": 12,
        "start_time": "2022-05-01T17:49:15.911Z"
      },
      {
        "duration": 11,
        "start_time": "2022-05-01T17:49:15.925Z"
      },
      {
        "duration": 50,
        "start_time": "2022-05-01T17:49:15.938Z"
      },
      {
        "duration": 206,
        "start_time": "2022-05-01T17:49:15.990Z"
      },
      {
        "duration": 20,
        "start_time": "2022-05-01T17:49:16.198Z"
      },
      {
        "duration": 17,
        "start_time": "2022-05-01T17:49:16.221Z"
      },
      {
        "duration": 34,
        "start_time": "2022-05-01T17:49:16.239Z"
      },
      {
        "duration": 18,
        "start_time": "2022-05-01T17:49:16.276Z"
      },
      {
        "duration": 223,
        "start_time": "2022-05-01T17:49:16.296Z"
      },
      {
        "duration": 290,
        "start_time": "2022-05-01T17:49:16.521Z"
      },
      {
        "duration": 6,
        "start_time": "2022-05-01T17:49:16.813Z"
      },
      {
        "duration": 9,
        "start_time": "2022-05-01T17:49:16.820Z"
      },
      {
        "duration": 307,
        "start_time": "2022-05-01T17:49:16.830Z"
      },
      {
        "duration": 11,
        "start_time": "2022-05-01T17:49:17.139Z"
      },
      {
        "duration": 693,
        "start_time": "2022-05-01T17:49:17.151Z"
      },
      {
        "duration": 7,
        "start_time": "2022-05-01T17:49:17.846Z"
      },
      {
        "duration": 269,
        "start_time": "2022-05-01T17:49:17.855Z"
      },
      {
        "duration": 250,
        "start_time": "2022-05-01T17:49:18.127Z"
      },
      {
        "duration": 7,
        "start_time": "2022-05-01T17:49:18.380Z"
      },
      {
        "duration": 151,
        "start_time": "2022-05-01T17:49:18.390Z"
      },
      {
        "duration": 5,
        "start_time": "2022-05-01T17:49:18.543Z"
      },
      {
        "duration": 57,
        "start_time": "2022-05-01T17:49:18.549Z"
      },
      {
        "duration": 239,
        "start_time": "2022-05-01T17:49:18.607Z"
      },
      {
        "duration": 5,
        "start_time": "2022-05-01T17:49:18.849Z"
      },
      {
        "duration": 18,
        "start_time": "2022-05-01T17:49:18.856Z"
      },
      {
        "duration": 434,
        "start_time": "2022-05-01T17:49:18.876Z"
      },
      {
        "duration": 128,
        "start_time": "2022-05-01T17:49:19.312Z"
      },
      {
        "duration": 131,
        "start_time": "2022-05-01T17:49:19.442Z"
      },
      {
        "duration": 130,
        "start_time": "2022-05-01T17:49:19.575Z"
      },
      {
        "duration": 227,
        "start_time": "2022-05-01T17:49:19.707Z"
      },
      {
        "duration": 224,
        "start_time": "2022-05-01T17:49:19.935Z"
      },
      {
        "duration": 15,
        "start_time": "2022-05-01T17:49:20.161Z"
      },
      {
        "duration": 15,
        "start_time": "2022-05-01T17:49:20.179Z"
      },
      {
        "duration": 8,
        "start_time": "2022-05-01T17:49:20.196Z"
      },
      {
        "duration": 211,
        "start_time": "2022-05-01T17:49:20.206Z"
      },
      {
        "duration": 8,
        "start_time": "2022-05-01T17:49:20.419Z"
      },
      {
        "duration": 6,
        "start_time": "2022-05-01T17:49:20.429Z"
      },
      {
        "duration": 12,
        "start_time": "2022-05-01T17:49:20.436Z"
      },
      {
        "duration": 5,
        "start_time": "2022-05-01T17:49:20.449Z"
      },
      {
        "duration": 1613,
        "start_time": "2022-05-05T09:09:43.727Z"
      },
      {
        "duration": 110,
        "start_time": "2022-05-05T09:09:45.347Z"
      },
      {
        "duration": 13,
        "start_time": "2022-05-05T09:09:45.459Z"
      },
      {
        "duration": 15,
        "start_time": "2022-05-05T09:09:45.474Z"
      },
      {
        "duration": 5,
        "start_time": "2022-05-05T09:09:45.500Z"
      },
      {
        "duration": 9,
        "start_time": "2022-05-05T09:09:45.507Z"
      },
      {
        "duration": 22,
        "start_time": "2022-05-05T09:09:45.518Z"
      },
      {
        "duration": 190,
        "start_time": "2022-05-05T09:09:45.542Z"
      },
      {
        "duration": 18,
        "start_time": "2022-05-05T09:09:45.734Z"
      },
      {
        "duration": 15,
        "start_time": "2022-05-05T09:09:45.754Z"
      },
      {
        "duration": 4,
        "start_time": "2022-05-05T09:09:45.771Z"
      },
      {
        "duration": 12,
        "start_time": "2022-05-05T09:09:45.801Z"
      },
      {
        "duration": 178,
        "start_time": "2022-05-05T09:09:45.815Z"
      },
      {
        "duration": 308,
        "start_time": "2022-05-05T09:09:45.994Z"
      },
      {
        "duration": 7,
        "start_time": "2022-05-05T09:09:46.303Z"
      },
      {
        "duration": 13,
        "start_time": "2022-05-05T09:09:46.311Z"
      },
      {
        "duration": 403,
        "start_time": "2022-05-05T09:09:46.326Z"
      },
      {
        "duration": 11,
        "start_time": "2022-05-05T09:09:46.731Z"
      },
      {
        "duration": 1017,
        "start_time": "2022-05-05T09:09:46.744Z"
      },
      {
        "duration": 11,
        "start_time": "2022-05-05T09:09:47.762Z"
      },
      {
        "duration": 292,
        "start_time": "2022-05-05T09:09:47.775Z"
      },
      {
        "duration": 255,
        "start_time": "2022-05-05T09:09:48.069Z"
      },
      {
        "duration": 6,
        "start_time": "2022-05-05T09:09:48.326Z"
      },
      {
        "duration": 192,
        "start_time": "2022-05-05T09:09:48.334Z"
      },
      {
        "duration": 4,
        "start_time": "2022-05-05T09:09:48.528Z"
      },
      {
        "duration": 50,
        "start_time": "2022-05-05T09:09:48.534Z"
      },
      {
        "duration": 224,
        "start_time": "2022-05-05T09:09:48.599Z"
      },
      {
        "duration": 6,
        "start_time": "2022-05-05T09:09:48.827Z"
      },
      {
        "duration": 18,
        "start_time": "2022-05-05T09:09:48.835Z"
      },
      {
        "duration": 396,
        "start_time": "2022-05-05T09:09:48.855Z"
      },
      {
        "duration": 118,
        "start_time": "2022-05-05T09:09:49.253Z"
      },
      {
        "duration": 123,
        "start_time": "2022-05-05T09:09:49.373Z"
      },
      {
        "duration": 134,
        "start_time": "2022-05-05T09:09:49.500Z"
      },
      {
        "duration": 213,
        "start_time": "2022-05-05T09:09:49.636Z"
      },
      {
        "duration": 215,
        "start_time": "2022-05-05T09:09:49.851Z"
      },
      {
        "duration": 8,
        "start_time": "2022-05-05T09:09:50.068Z"
      },
      {
        "duration": 14,
        "start_time": "2022-05-05T09:09:50.078Z"
      },
      {
        "duration": 6,
        "start_time": "2022-05-05T09:09:50.099Z"
      },
      {
        "duration": 204,
        "start_time": "2022-05-05T09:09:50.106Z"
      },
      {
        "duration": 13,
        "start_time": "2022-05-05T09:09:50.311Z"
      },
      {
        "duration": 22,
        "start_time": "2022-05-05T09:09:50.326Z"
      },
      {
        "duration": 14,
        "start_time": "2022-05-05T09:09:50.351Z"
      },
      {
        "duration": 6,
        "start_time": "2022-05-05T09:09:50.367Z"
      },
      {
        "duration": 3,
        "start_time": "2022-05-05T09:15:58.250Z"
      },
      {
        "duration": 60,
        "start_time": "2022-05-05T09:15:58.259Z"
      },
      {
        "duration": 13,
        "start_time": "2022-05-05T09:15:58.321Z"
      },
      {
        "duration": 17,
        "start_time": "2022-05-05T09:15:58.335Z"
      },
      {
        "duration": 14,
        "start_time": "2022-05-05T09:15:58.355Z"
      },
      {
        "duration": 11,
        "start_time": "2022-05-05T09:15:58.370Z"
      },
      {
        "duration": 22,
        "start_time": "2022-05-05T09:15:58.400Z"
      },
      {
        "duration": 246,
        "start_time": "2022-05-05T09:15:58.424Z"
      },
      {
        "duration": 16,
        "start_time": "2022-05-05T09:15:58.671Z"
      },
      {
        "duration": 22,
        "start_time": "2022-05-05T09:15:58.689Z"
      },
      {
        "duration": 4,
        "start_time": "2022-05-05T09:15:58.713Z"
      },
      {
        "duration": 16,
        "start_time": "2022-05-05T09:15:58.718Z"
      },
      {
        "duration": 187,
        "start_time": "2022-05-05T09:15:58.735Z"
      },
      {
        "duration": 246,
        "start_time": "2022-05-05T09:15:58.924Z"
      },
      {
        "duration": 5,
        "start_time": "2022-05-05T09:15:59.172Z"
      },
      {
        "duration": 8,
        "start_time": "2022-05-05T09:15:59.178Z"
      },
      {
        "duration": 253,
        "start_time": "2022-05-05T09:15:59.188Z"
      },
      {
        "duration": 10,
        "start_time": "2022-05-05T09:15:59.443Z"
      },
      {
        "duration": 589,
        "start_time": "2022-05-05T09:15:59.454Z"
      },
      {
        "duration": 7,
        "start_time": "2022-05-05T09:16:00.044Z"
      },
      {
        "duration": 212,
        "start_time": "2022-05-05T09:16:00.052Z"
      },
      {
        "duration": 129,
        "start_time": "2022-05-05T09:16:00.266Z"
      },
      {
        "duration": 6,
        "start_time": "2022-05-05T09:16:00.396Z"
      },
      {
        "duration": 222,
        "start_time": "2022-05-05T09:16:00.403Z"
      },
      {
        "duration": 4,
        "start_time": "2022-05-05T09:16:00.627Z"
      },
      {
        "duration": 38,
        "start_time": "2022-05-05T09:16:00.633Z"
      },
      {
        "duration": 213,
        "start_time": "2022-05-05T09:16:00.673Z"
      },
      {
        "duration": 12,
        "start_time": "2022-05-05T09:16:00.888Z"
      },
      {
        "duration": 5,
        "start_time": "2022-05-05T09:16:00.904Z"
      },
      {
        "duration": 345,
        "start_time": "2022-05-05T09:16:00.910Z"
      },
      {
        "duration": 105,
        "start_time": "2022-05-05T09:16:01.256Z"
      },
      {
        "duration": 106,
        "start_time": "2022-05-05T09:16:01.362Z"
      },
      {
        "duration": 104,
        "start_time": "2022-05-05T09:16:01.469Z"
      },
      {
        "duration": 187,
        "start_time": "2022-05-05T09:16:01.574Z"
      },
      {
        "duration": 186,
        "start_time": "2022-05-05T09:16:01.763Z"
      },
      {
        "duration": 6,
        "start_time": "2022-05-05T09:16:01.951Z"
      },
      {
        "duration": 29,
        "start_time": "2022-05-05T09:16:01.958Z"
      },
      {
        "duration": 38,
        "start_time": "2022-05-05T09:16:01.989Z"
      },
      {
        "duration": 208,
        "start_time": "2022-05-05T09:16:02.028Z"
      },
      {
        "duration": 8,
        "start_time": "2022-05-05T09:16:02.237Z"
      },
      {
        "duration": 14,
        "start_time": "2022-05-05T09:16:02.246Z"
      },
      {
        "duration": 43,
        "start_time": "2022-05-05T09:16:02.261Z"
      },
      {
        "duration": 14,
        "start_time": "2022-05-05T09:16:02.305Z"
      },
      {
        "duration": 1177,
        "start_time": "2022-05-11T20:13:58.988Z"
      },
      {
        "duration": 118,
        "start_time": "2022-05-11T20:14:00.167Z"
      },
      {
        "duration": 18,
        "start_time": "2022-05-11T20:14:00.287Z"
      },
      {
        "duration": 16,
        "start_time": "2022-05-11T20:14:00.307Z"
      },
      {
        "duration": 17,
        "start_time": "2022-05-11T20:14:00.324Z"
      },
      {
        "duration": 14,
        "start_time": "2022-05-11T20:14:00.342Z"
      },
      {
        "duration": 23,
        "start_time": "2022-05-11T20:14:00.366Z"
      },
      {
        "duration": 189,
        "start_time": "2022-05-11T20:14:00.390Z"
      },
      {
        "duration": 17,
        "start_time": "2022-05-11T20:14:00.580Z"
      },
      {
        "duration": 15,
        "start_time": "2022-05-11T20:14:00.600Z"
      },
      {
        "duration": 5,
        "start_time": "2022-05-11T20:14:03.751Z"
      },
      {
        "duration": 92,
        "start_time": "2022-05-11T20:43:27.005Z"
      },
      {
        "duration": 10,
        "start_time": "2022-05-11T20:43:40.032Z"
      },
      {
        "duration": 4,
        "start_time": "2022-05-11T20:43:46.587Z"
      },
      {
        "duration": 54,
        "start_time": "2022-05-11T20:43:46.595Z"
      },
      {
        "duration": 16,
        "start_time": "2022-05-11T20:43:46.651Z"
      },
      {
        "duration": 16,
        "start_time": "2022-05-11T20:43:46.668Z"
      },
      {
        "duration": 4,
        "start_time": "2022-05-11T20:43:46.686Z"
      },
      {
        "duration": 13,
        "start_time": "2022-05-11T20:43:46.692Z"
      },
      {
        "duration": 23,
        "start_time": "2022-05-11T20:43:46.706Z"
      },
      {
        "duration": 208,
        "start_time": "2022-05-11T20:43:46.732Z"
      },
      {
        "duration": 26,
        "start_time": "2022-05-11T20:43:46.943Z"
      },
      {
        "duration": 16,
        "start_time": "2022-05-11T20:43:46.971Z"
      },
      {
        "duration": 6,
        "start_time": "2022-05-11T20:43:46.989Z"
      },
      {
        "duration": 17,
        "start_time": "2022-05-11T20:43:46.996Z"
      },
      {
        "duration": 210,
        "start_time": "2022-05-11T20:43:47.014Z"
      },
      {
        "duration": 260,
        "start_time": "2022-05-11T20:43:47.225Z"
      },
      {
        "duration": 5,
        "start_time": "2022-05-11T20:43:47.488Z"
      },
      {
        "duration": 5,
        "start_time": "2022-05-11T20:43:47.495Z"
      },
      {
        "duration": 282,
        "start_time": "2022-05-11T20:43:47.502Z"
      },
      {
        "duration": 11,
        "start_time": "2022-05-11T20:43:47.786Z"
      },
      {
        "duration": 647,
        "start_time": "2022-05-11T20:43:47.800Z"
      },
      {
        "duration": 22,
        "start_time": "2022-05-11T20:43:48.449Z"
      },
      {
        "duration": 310,
        "start_time": "2022-05-11T20:43:48.473Z"
      },
      {
        "duration": 138,
        "start_time": "2022-05-11T20:43:48.785Z"
      },
      {
        "duration": 5,
        "start_time": "2022-05-11T20:43:48.925Z"
      },
      {
        "duration": 142,
        "start_time": "2022-05-11T20:43:48.931Z"
      },
      {
        "duration": 5,
        "start_time": "2022-05-11T20:43:49.075Z"
      },
      {
        "duration": 41,
        "start_time": "2022-05-11T20:43:49.081Z"
      },
      {
        "duration": 220,
        "start_time": "2022-05-11T20:43:49.123Z"
      },
      {
        "duration": 6,
        "start_time": "2022-05-11T20:43:49.344Z"
      },
      {
        "duration": 17,
        "start_time": "2022-05-11T20:43:49.351Z"
      },
      {
        "duration": 369,
        "start_time": "2022-05-11T20:43:49.370Z"
      },
      {
        "duration": 120,
        "start_time": "2022-05-11T20:43:49.741Z"
      },
      {
        "duration": 118,
        "start_time": "2022-05-11T20:43:49.867Z"
      },
      {
        "duration": 116,
        "start_time": "2022-05-11T20:43:49.986Z"
      },
      {
        "duration": 204,
        "start_time": "2022-05-11T20:43:50.104Z"
      },
      {
        "duration": 277,
        "start_time": "2022-05-11T20:43:50.309Z"
      },
      {
        "duration": 6,
        "start_time": "2022-05-11T20:43:50.588Z"
      },
      {
        "duration": 9,
        "start_time": "2022-05-11T20:43:50.595Z"
      },
      {
        "duration": 7,
        "start_time": "2022-05-11T20:43:50.605Z"
      },
      {
        "duration": 213,
        "start_time": "2022-05-11T20:43:50.613Z"
      },
      {
        "duration": 8,
        "start_time": "2022-05-11T20:43:50.828Z"
      },
      {
        "duration": 5,
        "start_time": "2022-05-11T20:43:50.838Z"
      },
      {
        "duration": 25,
        "start_time": "2022-05-11T20:43:50.846Z"
      },
      {
        "duration": 6,
        "start_time": "2022-05-11T20:43:50.872Z"
      },
      {
        "duration": 13,
        "start_time": "2022-05-11T20:46:39.783Z"
      },
      {
        "duration": 11,
        "start_time": "2022-05-11T20:47:14.070Z"
      },
      {
        "duration": 17,
        "start_time": "2022-05-11T20:49:14.506Z"
      },
      {
        "duration": 163,
        "start_time": "2022-05-11T20:51:54.857Z"
      },
      {
        "duration": 201,
        "start_time": "2022-05-11T20:54:57.176Z"
      },
      {
        "duration": 223,
        "start_time": "2022-05-11T20:56:24.579Z"
      },
      {
        "duration": 5,
        "start_time": "2022-05-11T20:58:31.862Z"
      },
      {
        "duration": 6,
        "start_time": "2022-05-11T21:01:00.053Z"
      },
      {
        "duration": 209,
        "start_time": "2022-05-11T21:03:33.422Z"
      },
      {
        "duration": 6,
        "start_time": "2022-05-11T21:04:13.055Z"
      },
      {
        "duration": 8,
        "start_time": "2022-05-11T21:05:14.519Z"
      },
      {
        "duration": 6,
        "start_time": "2022-05-11T21:06:03.254Z"
      },
      {
        "duration": 6,
        "start_time": "2022-05-11T21:06:34.855Z"
      },
      {
        "duration": 6,
        "start_time": "2022-05-11T21:12:03.810Z"
      },
      {
        "duration": 347,
        "start_time": "2022-05-11T21:12:46.419Z"
      },
      {
        "duration": 211,
        "start_time": "2022-05-11T21:14:31.870Z"
      },
      {
        "duration": 7,
        "start_time": "2022-05-11T21:22:42.106Z"
      },
      {
        "duration": 100,
        "start_time": "2022-05-11T21:22:58.049Z"
      },
      {
        "duration": 102,
        "start_time": "2022-05-11T21:23:17.884Z"
      },
      {
        "duration": 97,
        "start_time": "2022-05-11T21:23:33.404Z"
      },
      {
        "duration": 291,
        "start_time": "2022-05-11T21:23:39.423Z"
      },
      {
        "duration": 197,
        "start_time": "2022-05-11T21:26:10.428Z"
      },
      {
        "duration": 208,
        "start_time": "2022-05-11T21:27:08.559Z"
      },
      {
        "duration": 208,
        "start_time": "2022-05-11T21:27:25.306Z"
      },
      {
        "duration": 205,
        "start_time": "2022-05-11T21:29:14.276Z"
      },
      {
        "duration": 173,
        "start_time": "2022-05-11T21:31:54.116Z"
      },
      {
        "duration": 29,
        "start_time": "2022-05-11T21:36:24.846Z"
      },
      {
        "duration": 3,
        "start_time": "2022-05-11T21:36:41.206Z"
      },
      {
        "duration": 55,
        "start_time": "2022-05-11T21:36:41.213Z"
      },
      {
        "duration": 13,
        "start_time": "2022-05-11T21:36:41.270Z"
      },
      {
        "duration": 16,
        "start_time": "2022-05-11T21:36:41.284Z"
      },
      {
        "duration": 20,
        "start_time": "2022-05-11T21:36:41.303Z"
      },
      {
        "duration": 15,
        "start_time": "2022-05-11T21:36:41.324Z"
      },
      {
        "duration": 43,
        "start_time": "2022-05-11T21:36:41.341Z"
      },
      {
        "duration": 189,
        "start_time": "2022-05-11T21:36:41.387Z"
      },
      {
        "duration": 18,
        "start_time": "2022-05-11T21:36:41.578Z"
      },
      {
        "duration": 15,
        "start_time": "2022-05-11T21:36:41.598Z"
      },
      {
        "duration": 4,
        "start_time": "2022-05-11T21:36:41.616Z"
      },
      {
        "duration": 14,
        "start_time": "2022-05-11T21:36:41.622Z"
      },
      {
        "duration": 232,
        "start_time": "2022-05-11T21:36:41.637Z"
      },
      {
        "duration": 323,
        "start_time": "2022-05-11T21:36:41.872Z"
      },
      {
        "duration": 6,
        "start_time": "2022-05-11T21:36:42.196Z"
      },
      {
        "duration": 10,
        "start_time": "2022-05-11T21:36:42.203Z"
      },
      {
        "duration": 289,
        "start_time": "2022-05-11T21:36:42.216Z"
      },
      {
        "duration": 12,
        "start_time": "2022-05-11T21:36:42.507Z"
      },
      {
        "duration": 816,
        "start_time": "2022-05-11T21:36:42.521Z"
      },
      {
        "duration": 11,
        "start_time": "2022-05-11T21:36:43.339Z"
      },
      {
        "duration": 31,
        "start_time": "2022-05-11T21:36:43.367Z"
      },
      {
        "duration": 39,
        "start_time": "2022-05-11T21:36:43.399Z"
      },
      {
        "duration": 196,
        "start_time": "2022-05-11T21:36:43.440Z"
      },
      {
        "duration": 147,
        "start_time": "2022-05-11T21:36:43.637Z"
      },
      {
        "duration": 5,
        "start_time": "2022-05-11T21:36:43.785Z"
      },
      {
        "duration": 168,
        "start_time": "2022-05-11T21:36:43.792Z"
      },
      {
        "duration": 5,
        "start_time": "2022-05-11T21:36:43.961Z"
      },
      {
        "duration": 85,
        "start_time": "2022-05-11T21:36:43.967Z"
      },
      {
        "duration": 233,
        "start_time": "2022-05-11T21:36:44.055Z"
      },
      {
        "duration": 5,
        "start_time": "2022-05-11T21:36:44.290Z"
      },
      {
        "duration": 34,
        "start_time": "2022-05-11T21:36:44.297Z"
      },
      {
        "duration": 235,
        "start_time": "2022-05-11T21:36:44.333Z"
      },
      {
        "duration": 6,
        "start_time": "2022-05-11T21:36:44.570Z"
      },
      {
        "duration": 18,
        "start_time": "2022-05-11T21:36:44.577Z"
      },
      {
        "duration": 18,
        "start_time": "2022-05-11T21:36:44.597Z"
      },
      {
        "duration": 126,
        "start_time": "2022-05-11T21:36:44.617Z"
      },
      {
        "duration": 132,
        "start_time": "2022-05-11T21:36:44.745Z"
      },
      {
        "duration": 112,
        "start_time": "2022-05-11T21:36:44.878Z"
      },
      {
        "duration": 326,
        "start_time": "2022-05-11T21:36:44.991Z"
      },
      {
        "duration": 211,
        "start_time": "2022-05-11T21:36:45.319Z"
      },
      {
        "duration": 6,
        "start_time": "2022-05-11T21:36:45.531Z"
      },
      {
        "duration": 39,
        "start_time": "2022-05-11T21:36:45.539Z"
      },
      {
        "duration": 30,
        "start_time": "2022-05-11T21:36:45.580Z"
      },
      {
        "duration": 205,
        "start_time": "2022-05-11T21:36:45.611Z"
      },
      {
        "duration": 31,
        "start_time": "2022-05-11T21:36:45.818Z"
      },
      {
        "duration": 17,
        "start_time": "2022-05-11T21:36:45.851Z"
      },
      {
        "duration": 12,
        "start_time": "2022-05-11T21:36:45.870Z"
      },
      {
        "duration": 7,
        "start_time": "2022-05-11T21:36:45.883Z"
      },
      {
        "duration": 13,
        "start_time": "2022-05-11T21:41:28.616Z"
      },
      {
        "duration": 5,
        "start_time": "2022-05-11T21:41:41.530Z"
      },
      {
        "duration": 8,
        "start_time": "2022-05-11T21:43:42.028Z"
      },
      {
        "duration": 5,
        "start_time": "2022-05-11T21:43:48.241Z"
      },
      {
        "duration": 1062,
        "start_time": "2022-05-11T21:59:02.641Z"
      },
      {
        "duration": 109,
        "start_time": "2022-05-11T21:59:03.705Z"
      },
      {
        "duration": 15,
        "start_time": "2022-05-11T21:59:03.816Z"
      },
      {
        "duration": 18,
        "start_time": "2022-05-11T21:59:03.834Z"
      },
      {
        "duration": 18,
        "start_time": "2022-05-11T21:59:03.854Z"
      },
      {
        "duration": 27,
        "start_time": "2022-05-11T21:59:03.874Z"
      },
      {
        "duration": 30,
        "start_time": "2022-05-11T21:59:03.903Z"
      },
      {
        "duration": 175,
        "start_time": "2022-05-11T21:59:03.935Z"
      },
      {
        "duration": 19,
        "start_time": "2022-05-11T21:59:04.112Z"
      },
      {
        "duration": 33,
        "start_time": "2022-05-11T21:59:04.135Z"
      },
      {
        "duration": 6,
        "start_time": "2022-05-11T21:59:04.170Z"
      },
      {
        "duration": 15,
        "start_time": "2022-05-11T21:59:04.178Z"
      },
      {
        "duration": 202,
        "start_time": "2022-05-11T21:59:04.195Z"
      },
      {
        "duration": 254,
        "start_time": "2022-05-11T21:59:04.399Z"
      },
      {
        "duration": 16,
        "start_time": "2022-05-11T21:59:04.655Z"
      },
      {
        "duration": 6,
        "start_time": "2022-05-11T21:59:04.673Z"
      },
      {
        "duration": 274,
        "start_time": "2022-05-11T21:59:04.681Z"
      },
      {
        "duration": 11,
        "start_time": "2022-05-11T21:59:04.957Z"
      },
      {
        "duration": 642,
        "start_time": "2022-05-11T21:59:04.970Z"
      },
      {
        "duration": 6,
        "start_time": "2022-05-11T21:59:05.614Z"
      },
      {
        "duration": 16,
        "start_time": "2022-05-11T21:59:05.622Z"
      },
      {
        "duration": 28,
        "start_time": "2022-05-11T21:59:05.640Z"
      },
      {
        "duration": 172,
        "start_time": "2022-05-11T21:59:05.669Z"
      },
      {
        "duration": 139,
        "start_time": "2022-05-11T21:59:05.843Z"
      },
      {
        "duration": 6,
        "start_time": "2022-05-11T21:59:05.983Z"
      },
      {
        "duration": 215,
        "start_time": "2022-05-11T21:59:05.990Z"
      },
      {
        "duration": 4,
        "start_time": "2022-05-11T21:59:06.207Z"
      },
      {
        "duration": 39,
        "start_time": "2022-05-11T21:59:06.214Z"
      },
      {
        "duration": 227,
        "start_time": "2022-05-11T21:59:06.267Z"
      },
      {
        "duration": 6,
        "start_time": "2022-05-11T21:59:06.495Z"
      },
      {
        "duration": 10,
        "start_time": "2022-05-11T21:59:06.502Z"
      },
      {
        "duration": 234,
        "start_time": "2022-05-11T21:59:06.514Z"
      },
      {
        "duration": 7,
        "start_time": "2022-05-11T21:59:06.750Z"
      },
      {
        "duration": 6,
        "start_time": "2022-05-11T21:59:06.767Z"
      },
      {
        "duration": 10,
        "start_time": "2022-05-11T21:59:06.774Z"
      },
      {
        "duration": 138,
        "start_time": "2022-05-11T21:59:06.785Z"
      },
      {
        "duration": 117,
        "start_time": "2022-05-11T21:59:06.925Z"
      },
      {
        "duration": 102,
        "start_time": "2022-05-11T21:59:07.044Z"
      },
      {
        "duration": 208,
        "start_time": "2022-05-11T21:59:07.148Z"
      },
      {
        "duration": 208,
        "start_time": "2022-05-11T21:59:07.358Z"
      },
      {
        "duration": 7,
        "start_time": "2022-05-11T21:59:07.567Z"
      },
      {
        "duration": 14,
        "start_time": "2022-05-11T21:59:07.575Z"
      },
      {
        "duration": 8,
        "start_time": "2022-05-11T21:59:07.590Z"
      },
      {
        "duration": 187,
        "start_time": "2022-05-11T21:59:07.599Z"
      },
      {
        "duration": 12,
        "start_time": "2022-05-11T21:59:07.788Z"
      },
      {
        "duration": 8,
        "start_time": "2022-05-11T21:59:07.802Z"
      },
      {
        "duration": 8,
        "start_time": "2022-05-11T21:59:07.812Z"
      },
      {
        "duration": 6,
        "start_time": "2022-05-11T21:59:07.821Z"
      },
      {
        "duration": 1337,
        "start_time": "2022-05-12T05:31:15.295Z"
      },
      {
        "duration": 136,
        "start_time": "2022-05-12T05:31:16.634Z"
      },
      {
        "duration": 16,
        "start_time": "2022-05-12T05:31:16.772Z"
      },
      {
        "duration": 18,
        "start_time": "2022-05-12T05:31:16.791Z"
      },
      {
        "duration": 32,
        "start_time": "2022-05-12T05:31:16.811Z"
      },
      {
        "duration": 18,
        "start_time": "2022-05-12T05:31:16.845Z"
      },
      {
        "duration": 36,
        "start_time": "2022-05-12T05:31:16.865Z"
      },
      {
        "duration": 231,
        "start_time": "2022-05-12T05:31:16.903Z"
      },
      {
        "duration": 19,
        "start_time": "2022-05-12T05:31:17.136Z"
      },
      {
        "duration": 18,
        "start_time": "2022-05-12T05:31:17.159Z"
      },
      {
        "duration": 9,
        "start_time": "2022-05-12T05:31:17.178Z"
      },
      {
        "duration": 46,
        "start_time": "2022-05-12T05:31:17.189Z"
      },
      {
        "duration": 242,
        "start_time": "2022-05-12T05:31:17.237Z"
      },
      {
        "duration": 337,
        "start_time": "2022-05-12T05:31:17.481Z"
      },
      {
        "duration": 5,
        "start_time": "2022-05-12T05:31:17.820Z"
      },
      {
        "duration": 13,
        "start_time": "2022-05-12T05:31:17.826Z"
      },
      {
        "duration": 336,
        "start_time": "2022-05-12T05:31:17.841Z"
      },
      {
        "duration": 11,
        "start_time": "2022-05-12T05:31:18.179Z"
      },
      {
        "duration": 728,
        "start_time": "2022-05-12T05:31:18.191Z"
      },
      {
        "duration": 13,
        "start_time": "2022-05-12T05:31:18.921Z"
      },
      {
        "duration": 13,
        "start_time": "2022-05-12T05:31:18.936Z"
      },
      {
        "duration": 17,
        "start_time": "2022-05-12T05:31:18.951Z"
      },
      {
        "duration": 210,
        "start_time": "2022-05-12T05:31:18.970Z"
      },
      {
        "duration": 159,
        "start_time": "2022-05-12T05:31:19.182Z"
      },
      {
        "duration": 4,
        "start_time": "2022-05-12T05:31:19.343Z"
      },
      {
        "duration": 232,
        "start_time": "2022-05-12T05:31:19.349Z"
      },
      {
        "duration": 5,
        "start_time": "2022-05-12T05:31:19.582Z"
      },
      {
        "duration": 57,
        "start_time": "2022-05-12T05:31:19.590Z"
      },
      {
        "duration": 258,
        "start_time": "2022-05-12T05:31:19.648Z"
      },
      {
        "duration": 5,
        "start_time": "2022-05-12T05:31:19.908Z"
      },
      {
        "duration": 19,
        "start_time": "2022-05-12T05:31:19.915Z"
      },
      {
        "duration": 265,
        "start_time": "2022-05-12T05:31:19.936Z"
      },
      {
        "duration": 6,
        "start_time": "2022-05-12T05:31:20.203Z"
      },
      {
        "duration": 12,
        "start_time": "2022-05-12T05:31:20.210Z"
      },
      {
        "duration": 8,
        "start_time": "2022-05-12T05:31:20.234Z"
      },
      {
        "duration": 135,
        "start_time": "2022-05-12T05:31:20.244Z"
      },
      {
        "duration": 130,
        "start_time": "2022-05-12T05:31:20.380Z"
      },
      {
        "duration": 114,
        "start_time": "2022-05-12T05:31:20.512Z"
      },
      {
        "duration": 240,
        "start_time": "2022-05-12T05:31:20.628Z"
      },
      {
        "duration": 240,
        "start_time": "2022-05-12T05:31:20.870Z"
      },
      {
        "duration": 6,
        "start_time": "2022-05-12T05:31:21.112Z"
      },
      {
        "duration": 17,
        "start_time": "2022-05-12T05:31:21.119Z"
      },
      {
        "duration": 6,
        "start_time": "2022-05-12T05:31:21.138Z"
      },
      {
        "duration": 209,
        "start_time": "2022-05-12T05:31:21.145Z"
      },
      {
        "duration": 12,
        "start_time": "2022-05-12T05:31:21.355Z"
      },
      {
        "duration": 10,
        "start_time": "2022-05-12T05:31:21.369Z"
      },
      {
        "duration": 8,
        "start_time": "2022-05-12T05:31:21.380Z"
      },
      {
        "duration": 11,
        "start_time": "2022-05-12T05:31:21.389Z"
      },
      {
        "duration": 49,
        "start_time": "2022-05-12T20:18:43.080Z"
      },
      {
        "duration": 1148,
        "start_time": "2022-05-12T20:19:49.566Z"
      },
      {
        "duration": 116,
        "start_time": "2022-05-12T20:19:50.716Z"
      },
      {
        "duration": 15,
        "start_time": "2022-05-12T20:19:50.834Z"
      },
      {
        "duration": 21,
        "start_time": "2022-05-12T20:19:50.852Z"
      },
      {
        "duration": 11,
        "start_time": "2022-05-12T20:19:50.875Z"
      },
      {
        "duration": 23,
        "start_time": "2022-05-12T20:19:50.888Z"
      },
      {
        "duration": 29,
        "start_time": "2022-05-12T20:19:50.912Z"
      },
      {
        "duration": 199,
        "start_time": "2022-05-12T20:19:50.943Z"
      },
      {
        "duration": 17,
        "start_time": "2022-05-12T20:19:51.144Z"
      },
      {
        "duration": 15,
        "start_time": "2022-05-12T20:19:51.164Z"
      },
      {
        "duration": 26,
        "start_time": "2022-05-12T20:19:51.181Z"
      },
      {
        "duration": 15,
        "start_time": "2022-05-12T20:19:51.209Z"
      },
      {
        "duration": 229,
        "start_time": "2022-05-12T20:19:51.226Z"
      },
      {
        "duration": 287,
        "start_time": "2022-05-12T20:19:51.457Z"
      },
      {
        "duration": 5,
        "start_time": "2022-05-12T20:19:51.746Z"
      },
      {
        "duration": 8,
        "start_time": "2022-05-12T20:19:51.752Z"
      },
      {
        "duration": 315,
        "start_time": "2022-05-12T20:19:51.761Z"
      },
      {
        "duration": 12,
        "start_time": "2022-05-12T20:19:52.077Z"
      },
      {
        "duration": 708,
        "start_time": "2022-05-12T20:19:52.091Z"
      },
      {
        "duration": 9,
        "start_time": "2022-05-12T20:19:52.800Z"
      },
      {
        "duration": 36,
        "start_time": "2022-05-12T20:19:52.810Z"
      },
      {
        "duration": 23,
        "start_time": "2022-05-12T20:19:52.848Z"
      },
      {
        "duration": 209,
        "start_time": "2022-05-12T20:19:52.873Z"
      },
      {
        "duration": 158,
        "start_time": "2022-05-12T20:19:53.083Z"
      },
      {
        "duration": 5,
        "start_time": "2022-05-12T20:19:53.242Z"
      },
      {
        "duration": 229,
        "start_time": "2022-05-12T20:19:53.248Z"
      },
      {
        "duration": 4,
        "start_time": "2022-05-12T20:19:53.478Z"
      },
      {
        "duration": 59,
        "start_time": "2022-05-12T20:19:53.486Z"
      },
      {
        "duration": 240,
        "start_time": "2022-05-12T20:19:53.547Z"
      },
      {
        "duration": 5,
        "start_time": "2022-05-12T20:19:53.789Z"
      },
      {
        "duration": 15,
        "start_time": "2022-05-12T20:19:53.808Z"
      },
      {
        "duration": 250,
        "start_time": "2022-05-12T20:19:53.825Z"
      },
      {
        "duration": 6,
        "start_time": "2022-05-12T20:19:54.077Z"
      },
      {
        "duration": 19,
        "start_time": "2022-05-12T20:19:54.084Z"
      },
      {
        "duration": 17,
        "start_time": "2022-05-12T20:19:54.106Z"
      },
      {
        "duration": 122,
        "start_time": "2022-05-12T20:19:54.125Z"
      },
      {
        "duration": 122,
        "start_time": "2022-05-12T20:19:54.248Z"
      },
      {
        "duration": 112,
        "start_time": "2022-05-12T20:19:54.372Z"
      },
      {
        "duration": 241,
        "start_time": "2022-05-12T20:19:54.486Z"
      },
      {
        "duration": 250,
        "start_time": "2022-05-12T20:19:54.728Z"
      },
      {
        "duration": 5,
        "start_time": "2022-05-12T20:19:54.980Z"
      },
      {
        "duration": 18,
        "start_time": "2022-05-12T20:19:54.986Z"
      },
      {
        "duration": 11,
        "start_time": "2022-05-12T20:19:55.006Z"
      },
      {
        "duration": 206,
        "start_time": "2022-05-12T20:19:55.019Z"
      },
      {
        "duration": 13,
        "start_time": "2022-05-12T20:19:55.227Z"
      },
      {
        "duration": 16,
        "start_time": "2022-05-12T20:19:55.241Z"
      },
      {
        "duration": 10,
        "start_time": "2022-05-12T20:19:55.259Z"
      },
      {
        "duration": 9,
        "start_time": "2022-05-12T20:19:55.270Z"
      },
      {
        "duration": 4,
        "start_time": "2022-05-12T20:20:36.089Z"
      },
      {
        "duration": 3,
        "start_time": "2022-05-12T20:20:45.514Z"
      },
      {
        "duration": 53,
        "start_time": "2022-05-12T20:20:45.520Z"
      },
      {
        "duration": 14,
        "start_time": "2022-05-12T20:20:45.574Z"
      },
      {
        "duration": 33,
        "start_time": "2022-05-12T20:20:45.589Z"
      },
      {
        "duration": 6,
        "start_time": "2022-05-12T20:20:45.624Z"
      },
      {
        "duration": 11,
        "start_time": "2022-05-12T20:20:45.631Z"
      },
      {
        "duration": 24,
        "start_time": "2022-05-12T20:20:45.643Z"
      },
      {
        "duration": 230,
        "start_time": "2022-05-12T20:20:45.668Z"
      },
      {
        "duration": 24,
        "start_time": "2022-05-12T20:20:45.900Z"
      },
      {
        "duration": 14,
        "start_time": "2022-05-12T20:20:45.926Z"
      },
      {
        "duration": 5,
        "start_time": "2022-05-12T20:20:45.943Z"
      },
      {
        "duration": 15,
        "start_time": "2022-05-12T20:20:45.950Z"
      },
      {
        "duration": 225,
        "start_time": "2022-05-12T20:20:45.967Z"
      },
      {
        "duration": 359,
        "start_time": "2022-05-12T20:20:46.194Z"
      },
      {
        "duration": 4,
        "start_time": "2022-05-12T20:20:46.555Z"
      },
      {
        "duration": 8,
        "start_time": "2022-05-12T20:20:46.561Z"
      },
      {
        "duration": 287,
        "start_time": "2022-05-12T20:20:46.571Z"
      },
      {
        "duration": 11,
        "start_time": "2022-05-12T20:20:46.859Z"
      },
      {
        "duration": 718,
        "start_time": "2022-05-12T20:20:46.871Z"
      },
      {
        "duration": 17,
        "start_time": "2022-05-12T20:20:47.590Z"
      },
      {
        "duration": 14,
        "start_time": "2022-05-12T20:20:47.609Z"
      },
      {
        "duration": 20,
        "start_time": "2022-05-12T20:20:47.625Z"
      },
      {
        "duration": 212,
        "start_time": "2022-05-12T20:20:47.647Z"
      },
      {
        "duration": 162,
        "start_time": "2022-05-12T20:20:47.861Z"
      },
      {
        "duration": 6,
        "start_time": "2022-05-12T20:20:48.025Z"
      },
      {
        "duration": 156,
        "start_time": "2022-05-12T20:20:48.033Z"
      },
      {
        "duration": 6,
        "start_time": "2022-05-12T20:20:48.191Z"
      },
      {
        "duration": 42,
        "start_time": "2022-05-12T20:20:48.208Z"
      },
      {
        "duration": 257,
        "start_time": "2022-05-12T20:20:48.253Z"
      },
      {
        "duration": 5,
        "start_time": "2022-05-12T20:20:48.512Z"
      },
      {
        "duration": 8,
        "start_time": "2022-05-12T20:20:48.519Z"
      },
      {
        "duration": 256,
        "start_time": "2022-05-12T20:20:48.528Z"
      },
      {
        "duration": 6,
        "start_time": "2022-05-12T20:20:48.786Z"
      },
      {
        "duration": 15,
        "start_time": "2022-05-12T20:20:48.793Z"
      },
      {
        "duration": 7,
        "start_time": "2022-05-12T20:20:48.810Z"
      },
      {
        "duration": 214,
        "start_time": "2022-05-12T20:20:48.818Z"
      },
      {
        "duration": 138,
        "start_time": "2022-05-12T20:20:49.035Z"
      },
      {
        "duration": 108,
        "start_time": "2022-05-12T20:20:49.175Z"
      },
      {
        "duration": 242,
        "start_time": "2022-05-12T20:20:49.285Z"
      },
      {
        "duration": 235,
        "start_time": "2022-05-12T20:20:49.529Z"
      },
      {
        "duration": 5,
        "start_time": "2022-05-12T20:20:49.765Z"
      },
      {
        "duration": 8,
        "start_time": "2022-05-12T20:20:49.771Z"
      },
      {
        "duration": 6,
        "start_time": "2022-05-12T20:20:49.780Z"
      },
      {
        "duration": 200,
        "start_time": "2022-05-12T20:20:49.788Z"
      },
      {
        "duration": 23,
        "start_time": "2022-05-12T20:20:49.990Z"
      },
      {
        "duration": 10,
        "start_time": "2022-05-12T20:20:50.015Z"
      },
      {
        "duration": 8,
        "start_time": "2022-05-12T20:20:50.027Z"
      },
      {
        "duration": 7,
        "start_time": "2022-05-12T20:20:50.037Z"
      },
      {
        "duration": 5,
        "start_time": "2022-05-12T20:21:15.595Z"
      },
      {
        "duration": 3,
        "start_time": "2022-05-12T20:26:21.326Z"
      },
      {
        "duration": 52,
        "start_time": "2022-05-12T20:26:21.334Z"
      },
      {
        "duration": 14,
        "start_time": "2022-05-12T20:26:21.388Z"
      },
      {
        "duration": 18,
        "start_time": "2022-05-12T20:26:21.406Z"
      },
      {
        "duration": 6,
        "start_time": "2022-05-12T20:26:21.427Z"
      },
      {
        "duration": 13,
        "start_time": "2022-05-12T20:26:21.434Z"
      },
      {
        "duration": 62,
        "start_time": "2022-05-12T20:26:21.448Z"
      },
      {
        "duration": 204,
        "start_time": "2022-05-12T20:26:21.512Z"
      },
      {
        "duration": 19,
        "start_time": "2022-05-12T20:26:21.718Z"
      },
      {
        "duration": 15,
        "start_time": "2022-05-12T20:26:21.739Z"
      },
      {
        "duration": 5,
        "start_time": "2022-05-12T20:26:21.758Z"
      },
      {
        "duration": 45,
        "start_time": "2022-05-12T20:26:21.765Z"
      },
      {
        "duration": 221,
        "start_time": "2022-05-12T20:26:21.812Z"
      },
      {
        "duration": 299,
        "start_time": "2022-05-12T20:26:22.035Z"
      },
      {
        "duration": 6,
        "start_time": "2022-05-12T20:26:22.335Z"
      },
      {
        "duration": 7,
        "start_time": "2022-05-12T20:26:22.342Z"
      },
      {
        "duration": 306,
        "start_time": "2022-05-12T20:26:22.351Z"
      },
      {
        "duration": 11,
        "start_time": "2022-05-12T20:26:22.659Z"
      },
      {
        "duration": 861,
        "start_time": "2022-05-12T20:26:22.672Z"
      },
      {
        "duration": 9,
        "start_time": "2022-05-12T20:26:23.534Z"
      },
      {
        "duration": 14,
        "start_time": "2022-05-12T20:26:23.544Z"
      },
      {
        "duration": 19,
        "start_time": "2022-05-12T20:26:23.559Z"
      },
      {
        "duration": 218,
        "start_time": "2022-05-12T20:26:23.580Z"
      },
      {
        "duration": 153,
        "start_time": "2022-05-12T20:26:23.800Z"
      },
      {
        "duration": 4,
        "start_time": "2022-05-12T20:26:23.955Z"
      },
      {
        "duration": 166,
        "start_time": "2022-05-12T20:26:23.961Z"
      },
      {
        "duration": 5,
        "start_time": "2022-05-12T20:26:24.129Z"
      },
      {
        "duration": 46,
        "start_time": "2022-05-12T20:26:24.135Z"
      },
      {
        "duration": 271,
        "start_time": "2022-05-12T20:26:24.185Z"
      },
      {
        "duration": 6,
        "start_time": "2022-05-12T20:26:24.457Z"
      },
      {
        "duration": 8,
        "start_time": "2022-05-12T20:26:24.464Z"
      },
      {
        "duration": 264,
        "start_time": "2022-05-12T20:26:24.474Z"
      },
      {
        "duration": 5,
        "start_time": "2022-05-12T20:26:24.740Z"
      },
      {
        "duration": 8,
        "start_time": "2022-05-12T20:26:24.747Z"
      },
      {
        "duration": 12,
        "start_time": "2022-05-12T20:26:24.756Z"
      },
      {
        "duration": 140,
        "start_time": "2022-05-12T20:26:24.769Z"
      },
      {
        "duration": 135,
        "start_time": "2022-05-12T20:26:24.911Z"
      },
      {
        "duration": 122,
        "start_time": "2022-05-12T20:26:25.048Z"
      },
      {
        "duration": 328,
        "start_time": "2022-05-12T20:26:25.172Z"
      },
      {
        "duration": 245,
        "start_time": "2022-05-12T20:26:25.502Z"
      },
      {
        "duration": 5,
        "start_time": "2022-05-12T20:26:25.749Z"
      },
      {
        "duration": 7,
        "start_time": "2022-05-12T20:26:25.756Z"
      },
      {
        "duration": 9,
        "start_time": "2022-05-12T20:26:25.765Z"
      },
      {
        "duration": 212,
        "start_time": "2022-05-12T20:26:25.776Z"
      },
      {
        "duration": 22,
        "start_time": "2022-05-12T20:26:25.990Z"
      },
      {
        "duration": 18,
        "start_time": "2022-05-12T20:26:26.013Z"
      },
      {
        "duration": 11,
        "start_time": "2022-05-12T20:26:26.032Z"
      },
      {
        "duration": 9,
        "start_time": "2022-05-12T20:26:26.044Z"
      },
      {
        "duration": 5,
        "start_time": "2022-05-12T20:27:39.875Z"
      },
      {
        "duration": 211,
        "start_time": "2022-05-12T20:27:41.700Z"
      },
      {
        "duration": 1066,
        "start_time": "2022-05-12T20:30:25.604Z"
      },
      {
        "duration": 114,
        "start_time": "2022-05-12T20:30:26.672Z"
      },
      {
        "duration": 25,
        "start_time": "2022-05-12T20:30:26.788Z"
      },
      {
        "duration": 19,
        "start_time": "2022-05-12T20:30:26.816Z"
      },
      {
        "duration": 7,
        "start_time": "2022-05-12T20:30:26.837Z"
      },
      {
        "duration": 11,
        "start_time": "2022-05-12T20:30:26.845Z"
      },
      {
        "duration": 54,
        "start_time": "2022-05-12T20:30:26.858Z"
      },
      {
        "duration": 200,
        "start_time": "2022-05-12T20:30:26.913Z"
      },
      {
        "duration": 17,
        "start_time": "2022-05-12T20:30:27.115Z"
      },
      {
        "duration": 16,
        "start_time": "2022-05-12T20:30:27.135Z"
      },
      {
        "duration": 4,
        "start_time": "2022-05-12T20:30:27.153Z"
      },
      {
        "duration": 16,
        "start_time": "2022-05-12T20:30:27.159Z"
      },
      {
        "duration": 237,
        "start_time": "2022-05-12T20:30:27.176Z"
      },
      {
        "duration": 298,
        "start_time": "2022-05-12T20:30:27.415Z"
      },
      {
        "duration": 6,
        "start_time": "2022-05-12T20:30:27.715Z"
      },
      {
        "duration": 7,
        "start_time": "2022-05-12T20:30:27.722Z"
      },
      {
        "duration": 336,
        "start_time": "2022-05-12T20:30:27.731Z"
      },
      {
        "duration": 11,
        "start_time": "2022-05-12T20:30:28.069Z"
      },
      {
        "duration": 716,
        "start_time": "2022-05-12T20:30:28.082Z"
      },
      {
        "duration": 12,
        "start_time": "2022-05-12T20:30:28.799Z"
      },
      {
        "duration": 12,
        "start_time": "2022-05-12T20:30:28.813Z"
      },
      {
        "duration": 19,
        "start_time": "2022-05-12T20:30:28.827Z"
      },
      {
        "duration": 214,
        "start_time": "2022-05-12T20:30:28.848Z"
      },
      {
        "duration": 169,
        "start_time": "2022-05-12T20:30:29.064Z"
      },
      {
        "duration": 5,
        "start_time": "2022-05-12T20:30:29.235Z"
      },
      {
        "duration": 242,
        "start_time": "2022-05-12T20:30:29.242Z"
      },
      {
        "duration": 5,
        "start_time": "2022-05-12T20:30:29.486Z"
      },
      {
        "duration": 59,
        "start_time": "2022-05-12T20:30:29.494Z"
      },
      {
        "duration": 250,
        "start_time": "2022-05-12T20:30:29.554Z"
      },
      {
        "duration": 6,
        "start_time": "2022-05-12T20:30:29.806Z"
      },
      {
        "duration": 20,
        "start_time": "2022-05-12T20:30:29.813Z"
      },
      {
        "duration": 261,
        "start_time": "2022-05-12T20:30:29.835Z"
      },
      {
        "duration": 11,
        "start_time": "2022-05-12T20:30:30.098Z"
      },
      {
        "duration": 15,
        "start_time": "2022-05-12T20:30:30.111Z"
      },
      {
        "duration": 14,
        "start_time": "2022-05-12T20:30:30.127Z"
      },
      {
        "duration": 128,
        "start_time": "2022-05-12T20:30:30.143Z"
      },
      {
        "duration": 127,
        "start_time": "2022-05-12T20:30:30.273Z"
      },
      {
        "duration": 124,
        "start_time": "2022-05-12T20:30:30.402Z"
      },
      {
        "duration": 231,
        "start_time": "2022-05-12T20:30:30.527Z"
      },
      {
        "duration": 238,
        "start_time": "2022-05-12T20:30:30.760Z"
      },
      {
        "duration": 10,
        "start_time": "2022-05-12T20:30:31.000Z"
      },
      {
        "duration": 20,
        "start_time": "2022-05-12T20:30:31.012Z"
      },
      {
        "duration": 12,
        "start_time": "2022-05-12T20:30:31.033Z"
      },
      {
        "duration": 209,
        "start_time": "2022-05-12T20:30:31.047Z"
      },
      {
        "duration": 13,
        "start_time": "2022-05-12T20:30:31.257Z"
      },
      {
        "duration": 35,
        "start_time": "2022-05-12T20:30:31.272Z"
      },
      {
        "duration": 11,
        "start_time": "2022-05-12T20:30:31.309Z"
      },
      {
        "duration": 11,
        "start_time": "2022-05-12T20:30:31.321Z"
      }
    ],
    "kernelspec": {
      "display_name": "Python 3 (ipykernel)",
      "language": "python",
      "name": "python3"
    },
    "language_info": {
      "codemirror_mode": {
        "name": "ipython",
        "version": 3
      },
      "file_extension": ".py",
      "mimetype": "text/x-python",
      "name": "python",
      "nbconvert_exporter": "python",
      "pygments_lexer": "ipython3",
      "version": "3.9.5"
    },
    "toc": {
      "base_numbering": 1,
      "nav_menu": {},
      "number_sections": true,
      "sideBar": true,
      "skip_h1_title": true,
      "title_cell": "Table of Contents",
      "title_sidebar": "Contents",
      "toc_cell": false,
      "toc_position": {},
      "toc_section_display": true,
      "toc_window_display": false
    },
    "colab": {
      "provenance": [],
      "collapsed_sections": [
        "NcP126xQp5Rr",
        "9FiYiwQcp5Rr"
      ],
      "include_colab_link": true
    }
  },
  "nbformat": 4,
  "nbformat_minor": 0
}